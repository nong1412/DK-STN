{
 "cells": [
  {
   "cell_type": "code",
   "execution_count": 151,
   "id": "1dc9ac18",
   "metadata": {},
   "outputs": [],
   "source": [
    "#导入相关包\n",
    "import numpy as np\n",
    "import torch as t\n",
    "import random\n",
    "import matplotlib.pyplot as plt\n",
    "#import netCDF4\n",
    "import datetime\n",
    "import torch\n",
    "from tqdm import tqdm\n",
    "from torch import nn\n",
    "from torch import optim\n",
    "from torch.autograd import Variable\n",
    "from torch.utils.data import Dataset\n",
    "from torch.utils.data import DataLoader\n",
    "import torch.autograd as autograd\n",
    "import torch.nn.functional as F\n",
    "from einops import rearrange, repeat\n",
    "import os\n",
    "#from config import args\n",
    "#import seaborn as sns\n",
    "#from global_land_mask import globe\n",
    "#from scipy import interpolate\n",
    "#plt.rcParams['font.sans-serif'] = ['SimHei'] #中文支持\n",
    "%matplotlib inline"
   ]
  },
  {
   "cell_type": "code",
   "execution_count": 152,
   "id": "89c0a9eb",
   "metadata": {},
   "outputs": [],
   "source": [
    "# 固定随机种子\n",
    "SEED = 22\n",
    "\n",
    "def seed_everything(seed):\n",
    "    random.seed(seed)\n",
    "    os.environ['PYTHONHASHSEED'] = str(seed)\n",
    "    np.random.seed(seed)\n",
    "    torch.manual_seed(seed)\n",
    "    torch.cuda.manual_seed(seed)\n",
    "    torch.backends.cudnn.deterministic = True\n",
    "    \n",
    "seed_everything(SEED)"
   ]
  },
  {
   "cell_type": "code",
   "execution_count": 153,
   "id": "4ecc88ab",
   "metadata": {},
   "outputs": [],
   "source": [
    "path = '/WdHeDisk/users/zhangnong/MJO/2023_0423_Test_DataSets/Test_Datasets/'\n",
    "wei = '_for7_7_35_sample.npy'"
   ]
  },
  {
   "cell_type": "code",
   "execution_count": 154,
   "id": "118aa004",
   "metadata": {},
   "outputs": [],
   "source": [
    "#只用测试\n",
    "X_test = np.load(path+'X_test'+wei)\n",
    "Y_test = np.load(path+'Y_test'+wei)"
   ]
  },
  {
   "cell_type": "code",
   "execution_count": 155,
   "id": "3310696c",
   "metadata": {},
   "outputs": [],
   "source": [
    "#X_test = X_test[:1840, :, :, :, :]\n",
    "#Y_test = Y_test[:1840, :, :]"
   ]
  },
  {
   "cell_type": "code",
   "execution_count": 156,
   "id": "5e74fe30",
   "metadata": {},
   "outputs": [],
   "source": [
    "# 构造数据管道\n",
    "class MJODataset(Dataset):\n",
    "    def __init__(self, data,label):\n",
    "        self.data = torch.tensor(data, dtype=torch.float32)\n",
    "        self.label = torch.tensor(label, dtype=torch.float32)\n",
    "\n",
    "    def __len__(self):\n",
    "        return len(self.label)\n",
    "    \n",
    "    def __getitem__(self, idx):\n",
    "        return self.data[idx],self.label[idx]\n",
    "batch_size = 16\n",
    "#刚刚 batchsize = 32 还不错15～16天，lr = 1e-3， deacy = 0.001 ，数据集是22800， 1600， 1600， 模型三层4096， 1024， 90\n",
    "#无dropout\n",
    "\n",
    "testset = MJODataset(X_test, Y_test)\n",
    "testloader = DataLoader(testset, batch_size=batch_size, shuffle=False)"
   ]
  },
  {
   "cell_type": "code",
   "execution_count": 157,
   "id": "316083c2",
   "metadata": {},
   "outputs": [],
   "source": [
    "\n",
    "if torch.cuda.is_available():\n",
    "    device=torch.device(\"cuda:0\")\n",
    "else :\n",
    "    device=torch.device(\"cpu\")\n"
   ]
  },
  {
   "cell_type": "code",
   "execution_count": 158,
   "id": "83cb9062",
   "metadata": {},
   "outputs": [],
   "source": [
    "#cnn模块\n",
    "# 构建CNN单元\n",
    "class CNNBlock(nn.Module):\n",
    "    def __init__(self, in_channels, out_channels, kernel_size, stride, padding):\n",
    "        super().__init__()\n",
    "        self.bn1 = nn.BatchNorm2d(in_channels)\n",
    "        self.conv = nn.Conv2d(in_channels, out_channels, kernel_size, stride, padding)\n",
    "        self.bn2 = nn.BatchNorm2d(out_channels)\n",
    "        \n",
    "        if (in_channels == out_channels) and (stride == 1):\n",
    "            self.res = lambda x: x\n",
    "        else:\n",
    "            self.res = nn.Conv2d(in_channels, out_channels, kernel_size=1, stride=stride)\n",
    "        \n",
    "    def forward(self, x):\n",
    "        # 残差\n",
    "        res = self.res(x)\n",
    "        res = self.bn2(res)\n",
    "\n",
    "        x = F.relu(self.bn1(x))\n",
    "        x = self.conv(x)\n",
    "        x = self.bn2(x)\n",
    "        \n",
    "        x = x + res\n",
    "        \n",
    "        return x"
   ]
  },
  {
   "cell_type": "code",
   "execution_count": 159,
   "id": "b5d5a6dc",
   "metadata": {},
   "outputs": [],
   "source": [
    "#编码\n",
    "class Encoder(nn.Module):\n",
    "    def __init__(self, input_size, hidden_size, num_layers):\n",
    "        super().__init__()\n",
    "        \n",
    "        self.input_size = input_size\n",
    "        self.hidden_size = hidden_size\n",
    "        self.num_layers = num_layers\n",
    "        self.num_directions = 1\n",
    "        \n",
    "        self.lstm = nn.LSTM(input_size, hidden_size, num_layers, batch_first=True, bidirectional=False)\n",
    "\n",
    "\n",
    "    def forward(self, x):\n",
    "        \n",
    "        batch_size, T, C = x.shape\n",
    "        \n",
    "        h = torch.randn(self.num_directions * self.num_layers, batch_size, self.hidden_size).to(device)\n",
    "        c = torch.randn(self.num_directions * self.num_layers, batch_size, self.hidden_size).to(device)\n",
    "\n",
    "        \n",
    "        #lstm训练\n",
    "        output, (h, c) = self.lstm(x, (h, c))\n",
    "        #output[batch_size, time_squence, hidden_size]\n",
    "        #h[2, batch_size, hidden_size]\n",
    "\n",
    "        return   h, c"
   ]
  },
  {
   "cell_type": "code",
   "execution_count": 160,
   "id": "7a64fa3f",
   "metadata": {},
   "outputs": [],
   "source": [
    "#解码\n",
    "class Decoder(nn.Module):\n",
    "    def __init__(self, input_size, hidden_size, num_layers, output_size):\n",
    "        super().__init__()\n",
    "        self.input_size = input_size\n",
    "        self.hidden_size = hidden_size\n",
    "        self.num_layers = num_layers\n",
    "        self.output_size = output_size\n",
    "        \n",
    "        #outsize = 45\n",
    "        self.num_directions = 1  \n",
    "        \n",
    "        self.lstm = nn.LSTM(self.input_size, self.hidden_size, self.num_layers, batch_first=True, bidirectional=False)\n",
    "        \n",
    "        self.lstm2 = nn.LSTM(self.hidden_size, 128, self.num_layers, batch_first = True)\n",
    "        \n",
    "        self.fc1 = nn.Linear(self.hidden_size, self.output_size)\n",
    "        #self.fc2 = nn.Linear(self.hidden_size, self.output_size)\n",
    "        self.fc2 = nn.Linear(128, self.output_size)\n",
    "\n",
    "    def forward(self, x, h, c):\n",
    "        # x = [batchsize, input_size]\n",
    "        batch_size = x.shape[0]\n",
    "        x = x.view(batch_size, 1, self.input_size)\n",
    "        \n",
    "        output, (h, c) = self.lstm(x, (h, c))\n",
    "        \n",
    "        # output(batch_size, seq_len, num * hidden_size)\n",
    "        rmm1 = self.fc1(output)  # pred(batch_size, 1, output_size)\n",
    "        \n",
    "        output, _ = self.lstm2(output)\n",
    "        rmm2 = self.fc2(output)\n",
    "        \n",
    "        rmm1 = rmm1[:, -1, :]\n",
    "        rmm2 = rmm2[:, -1, :]\n",
    "\n",
    "        return rmm1, rmm2, h, c"
   ]
  },
  {
   "cell_type": "code",
   "execution_count": 161,
   "id": "c780a449",
   "metadata": {},
   "outputs": [],
   "source": [
    "#定义模型\n",
    "class Model(nn.Module):\n",
    "    def __init__(self):\n",
    "        super().__init__()\n",
    "        self.input_size = 1152\n",
    "        self.output_size = 35\n",
    "        self.hidden_size = 1024\n",
    "        self.num_layers = 1\n",
    "        \n",
    "        self.conv1 = nn.Conv2d(3, 16, kernel_size=7, stride=2, padding=3)\n",
    "        self.conv2=CNNBlock(16, 16, 3, 1, 1)\n",
    "        self.conv3=CNNBlock(16, 32, 3, 2, 1)\n",
    "        self.conv4=CNNBlock(32, 32, 3, 1, 1)\n",
    "        self.conv5=CNNBlock(32, 64, 3, 2, 1)\n",
    "        self.conv6=CNNBlock(64, 64, 3, 1, 1)\n",
    "        self.conv7=CNNBlock(64, 128, 3, 2, 1)\n",
    "        self.conv8=CNNBlock(128, 128, 3, 1, 1)\n",
    "\n",
    "        \n",
    "        self.avgpool = nn.AdaptiveAvgPool2d((3, 3))#(16,4,69)\n",
    "        self.flatten = nn.Flatten()\n",
    "        \n",
    "        self.Encoder = Encoder(self.input_size, self.hidden_size, self.num_layers)\n",
    "        self.Decoder = Decoder(self.input_size, self.hidden_size, self.num_layers, self.output_size)\n",
    "\n",
    "    def forward(self, x):\n",
    "        \n",
    "        x = x[:, :, :, :, 0:3]\n",
    "        batch_size, seq_len, H, W, C = x.shape\n",
    "        x = x.permute(0, 1, 4, 2, 3).contiguous()\n",
    "        x = x.view(batch_size * seq_len, C, H, W)\n",
    "        \n",
    "        #cnn部分\n",
    "        x = self.conv1(x)\n",
    "        x = self.conv2(x)\n",
    "        x = self.conv3(x)\n",
    "        x = self.conv4(x)\n",
    "        x = self.conv5(x)\n",
    "        x = self.conv6(x)\n",
    "        x = self.conv7(x)\n",
    "        x = self.conv8(x)\n",
    "\n",
    "        \n",
    "        x = self.avgpool(x)\n",
    "        x = self.flatten(x)\n",
    "        \n",
    "        _, C_new = x.shape\n",
    "        \n",
    "        x = x.view(batch_size, seq_len, C_new)\n",
    "        \n",
    "        \n",
    "        \n",
    "        h, c = self.Encoder(x)\n",
    "        \n",
    "        outputs_rmm1 = torch.zeros(batch_size, seq_len, self.output_size).to(device)\n",
    "        outputs_rmm2 = torch.zeros(batch_size, seq_len, self.output_size).to(device)\n",
    "        \n",
    "        for t in range(seq_len):\n",
    "            _input = x[:, t, :]\n",
    "            \n",
    "            output1, output2, h, c = self.Decoder(_input, h, c)\n",
    "            \n",
    "            outputs_rmm1[:, t, :] = output1\n",
    "            outputs_rmm2[:, t, :] = output2\n",
    "        \n",
    "        rmm1 = outputs_rmm1[:, -1, :]\n",
    "        rmm2 = outputs_rmm2[:, -1, :]\n",
    "        \n",
    "        rmm1 = rmm1.squeeze()\n",
    "        rmm2 = rmm2.squeeze()\n",
    "        \n",
    "        rmm1 = rmm1.unsqueeze(2)\n",
    "        rmm2 = rmm2.unsqueeze(2)\n",
    "\n",
    "        RMM = torch.cat((rmm1, rmm2), dim = 2)\n",
    "        \n",
    "        return RMM"
   ]
  },
  {
   "cell_type": "code",
   "execution_count": 162,
   "id": "667ffe50",
   "metadata": {},
   "outputs": [
    {
     "name": "stdout",
     "output_type": "stream",
     "text": [
      "Model(\n",
      "  (conv1): Conv2d(3, 16, kernel_size=(7, 7), stride=(2, 2), padding=(3, 3))\n",
      "  (conv2): CNNBlock(\n",
      "    (bn1): BatchNorm2d(16, eps=1e-05, momentum=0.1, affine=True, track_running_stats=True)\n",
      "    (conv): Conv2d(16, 16, kernel_size=(3, 3), stride=(1, 1), padding=(1, 1))\n",
      "    (bn2): BatchNorm2d(16, eps=1e-05, momentum=0.1, affine=True, track_running_stats=True)\n",
      "  )\n",
      "  (conv3): CNNBlock(\n",
      "    (bn1): BatchNorm2d(16, eps=1e-05, momentum=0.1, affine=True, track_running_stats=True)\n",
      "    (conv): Conv2d(16, 32, kernel_size=(3, 3), stride=(2, 2), padding=(1, 1))\n",
      "    (bn2): BatchNorm2d(32, eps=1e-05, momentum=0.1, affine=True, track_running_stats=True)\n",
      "    (res): Conv2d(16, 32, kernel_size=(1, 1), stride=(2, 2))\n",
      "  )\n",
      "  (conv4): CNNBlock(\n",
      "    (bn1): BatchNorm2d(32, eps=1e-05, momentum=0.1, affine=True, track_running_stats=True)\n",
      "    (conv): Conv2d(32, 32, kernel_size=(3, 3), stride=(1, 1), padding=(1, 1))\n",
      "    (bn2): BatchNorm2d(32, eps=1e-05, momentum=0.1, affine=True, track_running_stats=True)\n",
      "  )\n",
      "  (conv5): CNNBlock(\n",
      "    (bn1): BatchNorm2d(32, eps=1e-05, momentum=0.1, affine=True, track_running_stats=True)\n",
      "    (conv): Conv2d(32, 64, kernel_size=(3, 3), stride=(2, 2), padding=(1, 1))\n",
      "    (bn2): BatchNorm2d(64, eps=1e-05, momentum=0.1, affine=True, track_running_stats=True)\n",
      "    (res): Conv2d(32, 64, kernel_size=(1, 1), stride=(2, 2))\n",
      "  )\n",
      "  (conv6): CNNBlock(\n",
      "    (bn1): BatchNorm2d(64, eps=1e-05, momentum=0.1, affine=True, track_running_stats=True)\n",
      "    (conv): Conv2d(64, 64, kernel_size=(3, 3), stride=(1, 1), padding=(1, 1))\n",
      "    (bn2): BatchNorm2d(64, eps=1e-05, momentum=0.1, affine=True, track_running_stats=True)\n",
      "  )\n",
      "  (conv7): CNNBlock(\n",
      "    (bn1): BatchNorm2d(64, eps=1e-05, momentum=0.1, affine=True, track_running_stats=True)\n",
      "    (conv): Conv2d(64, 128, kernel_size=(3, 3), stride=(2, 2), padding=(1, 1))\n",
      "    (bn2): BatchNorm2d(128, eps=1e-05, momentum=0.1, affine=True, track_running_stats=True)\n",
      "    (res): Conv2d(64, 128, kernel_size=(1, 1), stride=(2, 2))\n",
      "  )\n",
      "  (conv8): CNNBlock(\n",
      "    (bn1): BatchNorm2d(128, eps=1e-05, momentum=0.1, affine=True, track_running_stats=True)\n",
      "    (conv): Conv2d(128, 128, kernel_size=(3, 3), stride=(1, 1), padding=(1, 1))\n",
      "    (bn2): BatchNorm2d(128, eps=1e-05, momentum=0.1, affine=True, track_running_stats=True)\n",
      "  )\n",
      "  (avgpool): AdaptiveAvgPool2d(output_size=(3, 3))\n",
      "  (flatten): Flatten(start_dim=1, end_dim=-1)\n",
      "  (Encoder): Encoder(\n",
      "    (lstm): LSTM(1152, 1024, batch_first=True)\n",
      "  )\n",
      "  (Decoder): Decoder(\n",
      "    (lstm): LSTM(1152, 1024, batch_first=True)\n",
      "    (lstm2): LSTM(1024, 128, batch_first=True)\n",
      "    (fc1): Linear(in_features=1024, out_features=35, bias=True)\n",
      "    (fc2): Linear(in_features=128, out_features=35, bias=True)\n",
      "  )\n",
      ")\n"
     ]
    }
   ],
   "source": [
    "model = Model()\n",
    "print(model)"
   ]
  },
  {
   "cell_type": "code",
   "execution_count": 163,
   "id": "f8d520c5",
   "metadata": {},
   "outputs": [],
   "source": [
    "#cor函数\n",
    "def cor(Y_test,t_preds):\n",
    "    #Y_test = mean_std(Y_test)\n",
    "    #t_preds = mean_std(t_preds)\n",
    "    cor_day = []\n",
    "    a=0\n",
    "    b=0\n",
    "    c=0\n",
    "    score_cor=0\n",
    "    for i in range(0,35):\n",
    "        for j in range(0,len(Y_test)):\n",
    "            a+=(Y_test[j,i,:]*t_preds[j,i,:]).sum()\n",
    "            b+=(Y_test[j,i]**2).sum()\n",
    "            c+=(t_preds[j,i]**2).sum()\n",
    "        b=np.sqrt(b)\n",
    "        c=np.sqrt(c)\n",
    "        cor=a/(b*c)\n",
    "        cor_day.append(cor)\n",
    "        a=0\n",
    "        b=0\n",
    "        c=0\n",
    "    cor_day=np.array(cor_day)\n",
    "    #print(cor_day)\n",
    "    for i in range(0,len(cor_day)):\n",
    "        if cor_day[i]<0.50:\n",
    "            break\n",
    "    score_cor=i\n",
    "    return score_cor\n",
    "\n",
    "def rmse_new(Y_valid,preds):\n",
    "    #Y_valid = mean_std(Y_valid)\n",
    "    #preds = mean_std(preds)\n",
    "    rmse_day = []\n",
    "    a=0\n",
    "    score_rmse=0\n",
    "    for i in range(0,35):\n",
    "        for j in range(0,len(Y_valid)):\n",
    "            a+=(torch.pow((Y_valid[j,i,:]-preds[j,i,:]),2)).sum()\n",
    "        rmse=a/len(Y_valid)\n",
    "        rmse=np.sqrt(rmse)\n",
    "        rmse_day.append(rmse)\n",
    "        a=0\n",
    "    rmse_day=np.array(rmse_day)\n",
    "    #print(rmse_day)\n",
    "    for i in range(0,len(rmse_day)):\n",
    "        if rmse_day[i]>1.40:\n",
    "            break\n",
    "    score_rmse=i\n",
    "    '''\n",
    "    day_cal=np.argwhere(rmse_day<1.40)\n",
    "    print(day_cal)\n",
    "    if len(day_cal)==0:\n",
    "        score_rmse=0\n",
    "    else:\n",
    "        score_rmse=day_cal.max()+1\n",
    "    '''\n",
    "    #score_rmse=rmse_day.max()\n",
    "    return score_rmse\n",
    "\n",
    "def rmse_max(Y_valid,preds):\n",
    "    #Y_valid = mean_std(Y_valid)\n",
    "    #preds = mean_std(preds)\n",
    "    rmse_day = []\n",
    "    a=0\n",
    "    score_rmse=0\n",
    "    for i in range(0,35):\n",
    "        for j in range(0,len(Y_valid)):\n",
    "            a+=(torch.pow((Y_valid[j,i,:]-preds[j,i,:]),2)).sum()\n",
    "        rmse=a/len(Y_valid)\n",
    "        rmse=np.sqrt(rmse)\n",
    "        rmse_day.append(rmse)\n",
    "        a=0\n",
    "    rmse_day=np.array(rmse_day)\n",
    "    score_rmse=rmse_day.max()\n",
    "    return score_rmse"
   ]
  },
  {
   "cell_type": "code",
   "execution_count": 164,
   "id": "870170f3",
   "metadata": {},
   "outputs": [
    {
     "data": {
      "text/plain": [
       "<All keys matched successfully>"
      ]
     },
     "execution_count": 164,
     "metadata": {},
     "output_type": "execute_result"
    }
   ],
   "source": [
    "# 加载最佳模型权重\n",
    "model.to(device)\n",
    "#checkpoint = torch.load('/WdHeDisk/users/zhangnong/MJO/908_test(the best)/cnn_seq2seq_s2s_data_weights.pth')\n",
    "checkpoint = torch.load('/WdHeDisk/users/zhangnong/MJO/908_test(the best)/27day(cnn128).pth')\n",
    "model.load_state_dict(checkpoint['state_dict'])"
   ]
  },
  {
   "cell_type": "code",
   "execution_count": 165,
   "id": "effd64a8",
   "metadata": {},
   "outputs": [],
   "source": [
    "Y_test = t.from_numpy(Y_test)"
   ]
  },
  {
   "cell_type": "code",
   "execution_count": 166,
   "id": "19775ad8",
   "metadata": {},
   "outputs": [
    {
     "name": "stderr",
     "output_type": "stream",
     "text": [
      "116it [00:01, 62.23it/s]\n"
     ]
    },
    {
     "name": "stdout",
     "output_type": "stream",
     "text": [
      "Score_rmse: 34.000\n",
      "Score_cor: 24.000\n"
     ]
    }
   ],
   "source": [
    "# 在测试集上评估模型效果\n",
    "model.eval()\n",
    "#model.to(device)\n",
    "t_scores_rmse = []\n",
    "#t_scores_cor=[]\n",
    "t_s = 0\n",
    "#t_ss=0\n",
    "t_preds = np.zeros((len(Y_test),35,2))\n",
    "for i, data in tqdm(enumerate(testloader)):\n",
    "    data1, labels = data\n",
    "    data1 = data1.to(device)\n",
    "    labels = labels.to(device)\n",
    "    t_pred = model(data1)\n",
    "    #t_pred= t_pred.permute(0,2,1).contiguous()\n",
    "    t_preds[i*batch_size:(i+1)*batch_size] = t_pred.detach().cpu()\n",
    "t_preds = torch.as_tensor(t_preds)\n",
    "#t_s=rmse(Y_test,t_preds)\n",
    "t_s = rmse_new(Y_test, t_preds)\n",
    "t_ss = cor(Y_test,t_preds)\n",
    "t_scores_rmse.append(t_s)\n",
    "#t_scores_cor.append(t_ss)\n",
    "print('Score_rmse: {:.3f}'.format(t_s))\n",
    "print('Score_cor: {:.3f}'.format(t_ss))"
   ]
  },
  {
   "cell_type": "code",
   "execution_count": 167,
   "id": "f3c8843c",
   "metadata": {},
   "outputs": [],
   "source": [
    "#cor评价指标\n",
    "def cor_caluate(Y_test,t_preds):\n",
    "    cor_day = []\n",
    "    a=0\n",
    "    b=0\n",
    "    c=0\n",
    "    for i in range(0,35):\n",
    "        for j in range(0,len(Y_test)):\n",
    "            a+=(Y_test[j,i,:]*t_preds[j,i,:]).sum()\n",
    "            b+=(Y_test[j,i]**2).sum()\n",
    "            c+=(t_preds[j,i]**2).sum()\n",
    "        b=np.sqrt(b)\n",
    "        c=np.sqrt(c)\n",
    "        cor=a/(b*c)\n",
    "        cor_day.append(cor)\n",
    "        a=0\n",
    "        b=0\n",
    "        c=0\n",
    "    cor_day=np.array(cor_day)\n",
    "    print(cor_day)\n",
    "    return cor_day"
   ]
  },
  {
   "cell_type": "code",
   "execution_count": 168,
   "id": "145b4d1c",
   "metadata": {},
   "outputs": [],
   "source": [
    "#画cor指标\n",
    "def cor_acc(cor_day):\n",
    "    # 绘制损失函数曲线\n",
    "    fig = plt.figure(figsize=(8,4))\n",
    "    # subplot loss\n",
    "    ax1 = fig.add_subplot(121)\n",
    "    ax1.plot(cor_day, label='cor_acc')\n",
    "    ax1.set_xlabel('days')\n",
    "    ax1.set_ylabel('cor')\n",
    "    ax1.set_title('MJO Bivariate Correlation')\n",
    "    ax1.legend()\n",
    "    ax1.axhline(y=0.5,color='red',linewidth=0.85)\n",
    "    plt.tight_layout()"
   ]
  },
  {
   "cell_type": "code",
   "execution_count": 169,
   "id": "4d01bd7d",
   "metadata": {},
   "outputs": [],
   "source": [
    "#rmse评价指标\n",
    "def rmse_caluate(Y_test,t_preds):\n",
    "    rmse_day = []\n",
    "    a=0\n",
    "    for i in range(0,35):\n",
    "        for j in range(0,len(Y_test)):\n",
    "            a+=((Y_test[j,i,:]-t_preds[j,i,:])**2).sum()\n",
    "        rmse=a/len(Y_test)\n",
    "        rmse=np.sqrt(rmse)\n",
    "        rmse_day.append(rmse)\n",
    "        a=0\n",
    "    rmse_day=np.array(rmse_day)\n",
    "    print(rmse_day)\n",
    "    return rmse_day"
   ]
  },
  {
   "cell_type": "code",
   "execution_count": 170,
   "id": "3e425873",
   "metadata": {},
   "outputs": [],
   "source": [
    "#画rmse指标\n",
    "def rmse_acc(rmse_day):\n",
    "    # 绘制损失函数曲线\n",
    "    fig = plt.figure(figsize=(8,4))\n",
    "    # subplot loss\n",
    "    ax1 = fig.add_subplot(121)\n",
    "    ax1.plot(rmse_day, label='rmse_acc')\n",
    "    ax1.set_xlabel('days')\n",
    "    ax1.set_ylabel('rmse')\n",
    "    ax1.set_title('MJO Bivariate Correlation')\n",
    "    ax1.legend()\n",
    "    ax1.axhline(y=1.4,color='red',linewidth=0.85)\n",
    "    plt.tight_layout()"
   ]
  },
  {
   "cell_type": "code",
   "execution_count": 171,
   "id": "a2179561",
   "metadata": {},
   "outputs": [
    {
     "name": "stdout",
     "output_type": "stream",
     "text": [
      "[0.87287807 0.84149885 0.80525999 0.76575253 0.72862503 0.6999357\n",
      " 0.67123706 0.64825265 0.62806943 0.61182978 0.59824601 0.59037321\n",
      " 0.58762293 0.58143445 0.57437855 0.56729641 0.55902677 0.55341986\n",
      " 0.54804164 0.54441541 0.53694144 0.52623843 0.51309641 0.50111833\n",
      " 0.48733674 0.47290057 0.46319002 0.44875203 0.43474627 0.42026607\n",
      " 0.40855214 0.39862679 0.38388731 0.36993836 0.35777187]\n"
     ]
    },
    {
     "data": {
      "image/png": "[encoded data removed]",
      "text/plain": [
       "<Figure size 576x288 with 1 Axes>"
      ]
     },
     "metadata": {
      "needs_background": "light"
     },
     "output_type": "display_data"
    }
   ],
   "source": [
    "cor_day = cor_caluate(Y_test, t_preds)\n",
    "cor_acc(cor_day)"
   ]
  },
  {
   "cell_type": "code",
   "execution_count": 172,
   "id": "a54e060b",
   "metadata": {},
   "outputs": [
    {
     "name": "stdout",
     "output_type": "stream",
     "text": [
      "[0.63355724 0.67850826 0.7220448  0.76135774 0.79211245 0.81082053\n",
      " 0.82865796 0.84269331 0.85425256 0.86210995 0.86822793 0.86874628\n",
      " 0.86550065 0.86381645 0.86531664 0.86369636 0.86233805 0.8622125\n",
      " 0.85849549 0.85323664 0.85199491 0.85819867 0.86334328 0.8676806\n",
      " 0.87528775 0.87974811 0.87831105 0.87776804 0.88134006 0.88423163\n",
      " 0.88725188 0.89112327 0.89460741 0.8929869  0.89130197]\n"
     ]
    },
    {
     "data": {
      "image/png": "[encoded data removed]",
      "text/plain": [
       "<Figure size 576x288 with 1 Axes>"
      ]
     },
     "metadata": {
      "needs_background": "light"
     },
     "output_type": "display_data"
    },
    {
     "ename": "",
     "evalue": "",
     "output_type": "error",
     "traceback": [
      "\u001b[1;31mThe Kernel crashed while executing code in the the current cell or a previous cell. Please review the code in the cell(s) to identify a possible cause of the failure. Click <a href='https://aka.ms/vscodeJupyterKernelCrash'>here</a> for more info. View Jupyter <a href='command:jupyter.viewOutput'>log</a> for further details."
     ]
    }
   ],
   "source": [
    "re_rmse_day = rmse_caluate(Y_test, t_preds)\n",
    "rmse_acc(re_rmse_day)"
   ]
  }
 ],
 "metadata": {
  "kernelspec": {
   "display_name": "MJO_env",
   "language": "python",
   "name": "python3"
  },
  "language_info": {
   "codemirror_mode": {
    "name": "ipython",
    "version": 3
   },
   "file_extension": ".py",
   "mimetype": "text/x-python",
   "name": "python",
   "nbconvert_exporter": "python",
   "pygments_lexer": "ipython3",
   "version": "3.8.0"
  }
 },
 "nbformat": 4,
 "nbformat_minor": 5
}
