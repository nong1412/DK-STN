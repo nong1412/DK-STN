{
 "cells": [
  {
   "cell_type": "code",
   "execution_count": 1,
   "id": "272ae3a2",
   "metadata": {},
   "outputs": [
    {
     "name": "stderr",
     "output_type": "stream",
     "text": [
      "/mnt/miniconda3/envs/MJO_env/lib/python3.8/site-packages/tqdm/auto.py:22: TqdmWarning: IProgress not found. Please update jupyter and ipywidgets. See https://ipywidgets.readthedocs.io/en/stable/user_install.html\n",
      "  from .autonotebook import tqdm as notebook_tqdm\n"
     ]
    }
   ],
   "source": [
    "#导入相关包\n",
    "import numpy as np\n",
    "import torch as t\n",
    "import random\n",
    "import matplotlib.pyplot as plt\n",
    "#import netCDF4\n",
    "import datetime\n",
    "import torch\n",
    "from tqdm import tqdm\n",
    "from torch import nn\n",
    "from torch import optim\n",
    "from torch.autograd import Variable\n",
    "from torch.utils.data import Dataset\n",
    "from torch.utils.data import DataLoader\n",
    "import torch.autograd as autograd\n",
    "import torch.nn.functional as F\n",
    "from einops import rearrange, repeat\n",
    "import os\n",
    "#from config import args\n",
    "#import seaborn as sns\n",
    "#from global_land_mask import globe\n",
    "#from scipy import interpolate\n",
    "#plt.rcParams['font.sans-serif'] = ['SimHei'] #中文支持\n",
    "%matplotlib inline"
   ]
  },
  {
   "cell_type": "code",
   "execution_count": 2,
   "id": "82d20b54",
   "metadata": {},
   "outputs": [],
   "source": [
    "# 固定随机种子\n",
    "SEED = 22\n",
    "\n",
    "def seed_everything(seed):\n",
    "    random.seed(seed)\n",
    "    os.environ['PYTHONHASHSEED'] = str(seed)\n",
    "    np.random.seed(seed)\n",
    "    torch.manual_seed(seed)\n",
    "    torch.cuda.manual_seed(seed)\n",
    "    torch.backends.cudnn.deterministic = True\n",
    "    \n",
    "seed_everything(SEED)"
   ]
  },
  {
   "cell_type": "code",
   "execution_count": 3,
   "id": "bb44d2ff",
   "metadata": {},
   "outputs": [],
   "source": [
    "path='/WdHeDisk/users/zhangnong/MJO/908_test(the best)/data/s2s_dataset_for7_7_35/'\n",
    "wei = '_for7_7_35_sample.npy'"
   ]
  },
  {
   "cell_type": "code",
   "execution_count": 4,
   "id": "8130a30e",
   "metadata": {},
   "outputs": [],
   "source": [
    "X_train=np.load(path+'X_train'+wei)\n",
    "Y_train=np.load(path+'Y_train'+wei)\n",
    "X_valid=np.load(path+'X_valid'+wei)\n",
    "Y_valid=np.load(path+'Y_valid'+wei)\n",
    "X_test=np.load(path+'X_test'+wei)\n",
    "Y_test=np.load(path+'Y_test'+wei)"
   ]
  },
  {
   "cell_type": "code",
   "execution_count": 5,
   "id": "3c3c40e4",
   "metadata": {},
   "outputs": [
    {
     "name": "stdout",
     "output_type": "stream",
     "text": [
      "(9200, 7, 13, 144, 4) (9200, 35, 2)\n",
      "(400, 7, 13, 144, 4) (400, 35, 2)\n"
     ]
    }
   ],
   "source": [
    "print(X_train.shape,Y_train.shape)\n",
    "print(X_valid.shape,Y_valid.shape)"
   ]
  },
  {
   "cell_type": "code",
   "execution_count": 6,
   "id": "ae16aa98",
   "metadata": {},
   "outputs": [
    {
     "name": "stdout",
     "output_type": "stream",
     "text": [
      "575\n"
     ]
    }
   ],
   "source": [
    "# 构造数据管道\n",
    "class MJODataset(Dataset):\n",
    "    def __init__(self, data,label):\n",
    "        self.data = torch.tensor(data, dtype=torch.float32)\n",
    "        self.label = torch.tensor(label, dtype=torch.float32)\n",
    "\n",
    "    def __len__(self):\n",
    "        return len(self.label)\n",
    "    \n",
    "    def __getitem__(self, idx):\n",
    "        return self.data[idx],self.label[idx]\n",
    "batch_size = 16\n",
    "#刚刚 batchsize = 32 还不错15～16天，lr = 1e-3， deacy = 0.001 ，数据集是22800， 1600， 1600， 模型三层4096， 1024， 90\n",
    "#无dropout\n",
    "trainset = MJODataset(X_train, Y_train)\n",
    "trainloader = DataLoader(trainset, batch_size=batch_size, shuffle=True)\n",
    "\n",
    "validset = MJODataset(X_valid, Y_valid)\n",
    "validloader = DataLoader(validset, batch_size=batch_size, shuffle=True)\n",
    "\n",
    "testset = MJODataset(X_test, Y_test)\n",
    "testloader = DataLoader(testset, batch_size=batch_size, shuffle=False)\n",
    "print(len(trainloader))"
   ]
  },
  {
   "cell_type": "code",
   "execution_count": 7,
   "id": "17ee37c6",
   "metadata": {},
   "outputs": [],
   "source": [
    "if torch.cuda.is_available():\n",
    "    device=torch.device(\"cuda:1\")\n",
    "else :\n",
    "    device=torch.device(\"cpu\")"
   ]
  },
  {
   "cell_type": "code",
   "execution_count": 8,
   "id": "f01160f9",
   "metadata": {},
   "outputs": [],
   "source": [
    "#cnn模块\n",
    "# 构建CNN单元\n",
    "class CNNBlock(nn.Module):\n",
    "    def __init__(self, in_channels, out_channels, kernel_size, stride, padding):\n",
    "        super().__init__()\n",
    "        self.bn1 = nn.BatchNorm2d(in_channels)\n",
    "        self.conv = nn.Conv2d(in_channels, out_channels, kernel_size, stride, padding)\n",
    "        self.bn2 = nn.BatchNorm2d(out_channels)\n",
    "        \n",
    "        if (in_channels == out_channels) and (stride == 1):\n",
    "            self.res = lambda x: x\n",
    "        else:\n",
    "            self.res = nn.Conv2d(in_channels, out_channels, kernel_size=1, stride=stride)\n",
    "        \n",
    "    def forward(self, x):\n",
    "        # 残差\n",
    "        res = self.res(x)\n",
    "        res = self.bn2(res)\n",
    "\n",
    "        x = F.relu(self.bn1(x))\n",
    "        x = self.conv(x)\n",
    "        x = self.bn2(x)\n",
    "        \n",
    "        x = x + res\n",
    "        \n",
    "        return x"
   ]
  },
  {
   "cell_type": "code",
   "execution_count": 9,
   "id": "6c9a544c",
   "metadata": {},
   "outputs": [],
   "source": [
    "#编码\n",
    "class Encoder(nn.Module):\n",
    "    def __init__(self, input_size, hidden_size, num_layers):\n",
    "        super().__init__()\n",
    "        \n",
    "        self.input_size = input_size\n",
    "        self.hidden_size = hidden_size\n",
    "        self.num_layers = num_layers\n",
    "        self.num_directions = 1\n",
    "        \n",
    "        self.lstm = nn.LSTM(input_size, hidden_size, num_layers, batch_first=True, bidirectional=False)\n",
    "\n",
    "\n",
    "    def forward(self, x):\n",
    "        \n",
    "        batch_size, T, C = x.shape\n",
    "        \n",
    "        h = torch.randn(self.num_directions * self.num_layers, batch_size, self.hidden_size).to(device)\n",
    "        c = torch.randn(self.num_directions * self.num_layers, batch_size, self.hidden_size).to(device)\n",
    "\n",
    "        \n",
    "        #lstm训练\n",
    "        output, (h, c) = self.lstm(x, (h, c))\n",
    "        #output[batch_size, time_squence, hidden_size]\n",
    "        #h[2, batch_size, hidden_size]\n",
    "\n",
    "        return   h, c"
   ]
  },
  {
   "cell_type": "code",
   "execution_count": 10,
   "id": "f8c349c7",
   "metadata": {},
   "outputs": [],
   "source": [
    "#解码\n",
    "class Decoder(nn.Module):\n",
    "    def __init__(self, input_size, hidden_size, num_layers, output_size):\n",
    "        super().__init__()\n",
    "        self.input_size = input_size\n",
    "        self.hidden_size = hidden_size\n",
    "        self.num_layers = num_layers\n",
    "        self.output_size = output_size\n",
    "        \n",
    "        #outsize = 45\n",
    "        self.num_directions = 1  \n",
    "        \n",
    "        self.lstm = nn.LSTM(self.input_size, self.hidden_size, self.num_layers, batch_first=True, bidirectional=False)\n",
    "        \n",
    "        self.lstm2 = nn.LSTM(self.hidden_size, 128, self.num_layers, batch_first = True)\n",
    "        \n",
    "        self.fc1 = nn.Linear(self.hidden_size, self.output_size)\n",
    "        #self.fc2 = nn.Linear(self.hidden_size, self.output_size)\n",
    "        self.fc2 = nn.Linear(128, self.output_size)\n",
    "\n",
    "    def forward(self, x, h, c):\n",
    "        # x = [batchsize, input_size]\n",
    "        batch_size = x.shape[0]\n",
    "        x = x.view(batch_size, 1, self.input_size)\n",
    "        \n",
    "        output, (h, c) = self.lstm(x, (h, c))\n",
    "        \n",
    "        # output(batch_size, seq_len, num * hidden_size)\n",
    "        rmm1 = self.fc1(output)  # pred(batch_size, 1, output_size)\n",
    "        \n",
    "        output, _ = self.lstm2(output)\n",
    "        rmm2 = self.fc2(output)\n",
    "        \n",
    "        rmm1 = rmm1[:, -1, :]\n",
    "        rmm2 = rmm2[:, -1, :]\n",
    "\n",
    "        return rmm1, rmm2, h, c\n",
    "\n"
   ]
  },
  {
   "cell_type": "code",
   "execution_count": 21,
   "id": "57068a6f",
   "metadata": {},
   "outputs": [],
   "source": [
    "#定义模型\n",
    "class Model(nn.Module):\n",
    "    def __init__(self):\n",
    "        super().__init__()\n",
    "        self.input_size = 1152\n",
    "        self.output_size = 35\n",
    "        self.hidden_size = 1024\n",
    "        self.num_layers = 1\n",
    "        \n",
    "        self.conv1 = nn.Conv2d(3, 16, kernel_size=7, stride=2, padding=3)\n",
    "        self.conv2=CNNBlock(16, 16, 3, 1, 1)\n",
    "        self.conv3=CNNBlock(16, 32, 3, 2, 1)\n",
    "        self.conv4=CNNBlock(32, 32, 3, 1, 1)\n",
    "        self.conv5=CNNBlock(32, 64, 3, 2, 1)\n",
    "        self.conv6=CNNBlock(64, 64, 3, 1, 1)\n",
    "        self.conv7=CNNBlock(64, 128, 3, 2, 1)\n",
    "        self.conv8=CNNBlock(128, 128, 3, 1, 1)\n",
    "\n",
    "        \n",
    "        self.avgpool = nn.AdaptiveAvgPool2d((3, 3))#(16,4,69)\n",
    "        self.flatten = nn.Flatten()\n",
    "        \n",
    "        self.Encoder = Encoder(self.input_size, self.hidden_size, self.num_layers)\n",
    "        self.Decoder = Decoder(self.input_size, self.hidden_size, self.num_layers, self.output_size)\n",
    "\n",
    "    def forward(self, x):\n",
    "        \n",
    "        x = x[:, :, :, :, 0:3]\n",
    "        batch_size, seq_len, H, W, C = x.shape\n",
    "        x = x.permute(0, 1, 4, 2, 3).contiguous()\n",
    "        x = x.view(batch_size * seq_len, C, H, W)\n",
    "        \n",
    "        #cnn部分\n",
    "        x = self.conv1(x)\n",
    "        x = self.conv2(x)\n",
    "        x = self.conv3(x)\n",
    "        x = self.conv4(x)\n",
    "        x = self.conv5(x)\n",
    "        x = self.conv6(x)\n",
    "        x = self.conv7(x)\n",
    "        x = self.conv8(x)\n",
    "\n",
    "        \n",
    "        x = self.avgpool(x)\n",
    "        x = self.flatten(x)\n",
    "        \n",
    "        _, C_new = x.shape\n",
    "        \n",
    "        x = x.view(batch_size, seq_len, C_new)\n",
    "        \n",
    "        \n",
    "        \n",
    "        h, c = self.Encoder(x)\n",
    "        \n",
    "        outputs_rmm1 = torch.zeros(batch_size, seq_len, self.output_size).to(device)\n",
    "        outputs_rmm2 = torch.zeros(batch_size, seq_len, self.output_size).to(device)\n",
    "        \n",
    "        for t in range(seq_len):\n",
    "            _input = x[:, t, :]\n",
    "            \n",
    "            output1, output2, h, c = self.Decoder(_input, h, c)\n",
    "            \n",
    "            outputs_rmm1[:, t, :] = output1\n",
    "            outputs_rmm2[:, t, :] = output2\n",
    "        \n",
    "        rmm1 = outputs_rmm1[:, -1, :]\n",
    "        rmm2 = outputs_rmm2[:, -1, :]\n",
    "        \n",
    "        rmm1 = rmm1.squeeze()\n",
    "        rmm2 = rmm2.squeeze()\n",
    "        \n",
    "        rmm1 = rmm1.unsqueeze(2)\n",
    "        rmm2 = rmm2.unsqueeze(2)\n",
    "\n",
    "        RMM = torch.cat((rmm1, rmm2), dim = 2)\n",
    "        \n",
    "        return RMM\n",
    "\n"
   ]
  },
  {
   "cell_type": "code",
   "execution_count": 22,
   "id": "81c80f04",
   "metadata": {},
   "outputs": [
    {
     "name": "stdout",
     "output_type": "stream",
     "text": [
      "Model(\n",
      "  (conv1): Conv2d(3, 16, kernel_size=(7, 7), stride=(2, 2), padding=(3, 3))\n",
      "  (conv2): CNNBlock(\n",
      "    (bn1): BatchNorm2d(16, eps=1e-05, momentum=0.1, affine=True, track_running_stats=True)\n",
      "    (conv): Conv2d(16, 16, kernel_size=(3, 3), stride=(1, 1), padding=(1, 1))\n",
      "    (bn2): BatchNorm2d(16, eps=1e-05, momentum=0.1, affine=True, track_running_stats=True)\n",
      "  )\n",
      "  (conv3): CNNBlock(\n",
      "    (bn1): BatchNorm2d(16, eps=1e-05, momentum=0.1, affine=True, track_running_stats=True)\n",
      "    (conv): Conv2d(16, 32, kernel_size=(3, 3), stride=(2, 2), padding=(1, 1))\n",
      "    (bn2): BatchNorm2d(32, eps=1e-05, momentum=0.1, affine=True, track_running_stats=True)\n",
      "    (res): Conv2d(16, 32, kernel_size=(1, 1), stride=(2, 2))\n",
      "  )\n",
      "  (conv4): CNNBlock(\n",
      "    (bn1): BatchNorm2d(32, eps=1e-05, momentum=0.1, affine=True, track_running_stats=True)\n",
      "    (conv): Conv2d(32, 32, kernel_size=(3, 3), stride=(1, 1), padding=(1, 1))\n",
      "    (bn2): BatchNorm2d(32, eps=1e-05, momentum=0.1, affine=True, track_running_stats=True)\n",
      "  )\n",
      "  (conv5): CNNBlock(\n",
      "    (bn1): BatchNorm2d(32, eps=1e-05, momentum=0.1, affine=True, track_running_stats=True)\n",
      "    (conv): Conv2d(32, 64, kernel_size=(3, 3), stride=(2, 2), padding=(1, 1))\n",
      "    (bn2): BatchNorm2d(64, eps=1e-05, momentum=0.1, affine=True, track_running_stats=True)\n",
      "    (res): Conv2d(32, 64, kernel_size=(1, 1), stride=(2, 2))\n",
      "  )\n",
      "  (conv6): CNNBlock(\n",
      "    (bn1): BatchNorm2d(64, eps=1e-05, momentum=0.1, affine=True, track_running_stats=True)\n",
      "    (conv): Conv2d(64, 64, kernel_size=(3, 3), stride=(1, 1), padding=(1, 1))\n",
      "    (bn2): BatchNorm2d(64, eps=1e-05, momentum=0.1, affine=True, track_running_stats=True)\n",
      "  )\n",
      "  (conv7): CNNBlock(\n",
      "    (bn1): BatchNorm2d(64, eps=1e-05, momentum=0.1, affine=True, track_running_stats=True)\n",
      "    (conv): Conv2d(64, 128, kernel_size=(3, 3), stride=(2, 2), padding=(1, 1))\n",
      "    (bn2): BatchNorm2d(128, eps=1e-05, momentum=0.1, affine=True, track_running_stats=True)\n",
      "    (res): Conv2d(64, 128, kernel_size=(1, 1), stride=(2, 2))\n",
      "  )\n",
      "  (conv8): CNNBlock(\n",
      "    (bn1): BatchNorm2d(128, eps=1e-05, momentum=0.1, affine=True, track_running_stats=True)\n",
      "    (conv): Conv2d(128, 128, kernel_size=(3, 3), stride=(1, 1), padding=(1, 1))\n",
      "    (bn2): BatchNorm2d(128, eps=1e-05, momentum=0.1, affine=True, track_running_stats=True)\n",
      "  )\n",
      "  (avgpool): AdaptiveAvgPool2d(output_size=(3, 3))\n",
      "  (flatten): Flatten(start_dim=1, end_dim=-1)\n",
      "  (Encoder): Encoder(\n",
      "    (lstm): LSTM(1152, 1024, batch_first=True)\n",
      "  )\n",
      "  (Decoder): Decoder(\n",
      "    (lstm): LSTM(1152, 1024, batch_first=True)\n",
      "    (lstm2): LSTM(1024, 128, batch_first=True)\n",
      "    (fc1): Linear(in_features=1024, out_features=35, bias=True)\n",
      "    (fc2): Linear(in_features=128, out_features=35, bias=True)\n",
      "  )\n",
      ")\n"
     ]
    }
   ],
   "source": [
    "model = Model()\n",
    "print(model)"
   ]
  },
  {
   "cell_type": "code",
   "execution_count": 23,
   "id": "9a600a10",
   "metadata": {},
   "outputs": [],
   "source": [
    "#cor函数\n",
    "def cor(Y_test,t_preds):\n",
    "    #Y_test = mean_std(Y_test)\n",
    "    #t_preds = mean_std(t_preds)\n",
    "    cor_day = []\n",
    "    a=0\n",
    "    b=0\n",
    "    c=0\n",
    "    score_cor=0\n",
    "    for i in range(0,35):\n",
    "        for j in range(0,len(Y_test)):\n",
    "            a+=(Y_test[j,i,:]*t_preds[j,i,:]).sum()\n",
    "            b+=(Y_test[j,i]**2).sum()\n",
    "            c+=(t_preds[j,i]**2).sum()\n",
    "        b=np.sqrt(b)\n",
    "        c=np.sqrt(c)\n",
    "        cor=a/(b*c)\n",
    "        cor_day.append(cor)\n",
    "        a=0\n",
    "        b=0\n",
    "        c=0\n",
    "    cor_day=np.array(cor_day)\n",
    "    #print(cor_day)\n",
    "    for i in range(0,len(cor_day)):\n",
    "        if cor_day[i]<0.50:\n",
    "            break\n",
    "    score_cor=i\n",
    "    return score_cor\n",
    "\n",
    "def rmse_new(Y_valid,preds):\n",
    "    #Y_valid = mean_std(Y_valid)\n",
    "    #preds = mean_std(preds)\n",
    "    rmse_day = []\n",
    "    a=0\n",
    "    score_rmse=0\n",
    "    for i in range(0,35):\n",
    "        for j in range(0,len(Y_valid)):\n",
    "            a+=(torch.pow((Y_valid[j,i,:]-preds[j,i,:]),2)).sum()\n",
    "        rmse=a/len(Y_valid)\n",
    "        rmse=np.sqrt(rmse)\n",
    "        rmse_day.append(rmse)\n",
    "        a=0\n",
    "    rmse_day=np.array(rmse_day)\n",
    "    #print(rmse_day)\n",
    "    for i in range(0,len(rmse_day)):\n",
    "        if rmse_day[i]>1.40:\n",
    "            break\n",
    "    score_rmse=i\n",
    "    '''\n",
    "    day_cal=np.argwhere(rmse_day<1.40)\n",
    "    print(day_cal)\n",
    "    if len(day_cal)==0:\n",
    "        score_rmse=0\n",
    "    else:\n",
    "        score_rmse=day_cal.max()+1\n",
    "    '''\n",
    "    #score_rmse=rmse_day.max()\n",
    "    return score_rmse\n",
    "\n",
    "def rmse_max(Y_valid,preds):\n",
    "    #Y_valid = mean_std(Y_valid)\n",
    "    #preds = mean_std(preds)\n",
    "    rmse_day = []\n",
    "    a=0\n",
    "    score_rmse=0\n",
    "    for i in range(0,35):\n",
    "        for j in range(0,len(Y_valid)):\n",
    "            a+=(torch.pow((Y_valid[j,i,:]-preds[j,i,:]),2)).sum()\n",
    "        rmse=a/len(Y_valid)\n",
    "        rmse=np.sqrt(rmse)\n",
    "        rmse_day.append(rmse)\n",
    "        a=0\n",
    "    rmse_day=np.array(rmse_day)\n",
    "    score_rmse=rmse_day.max()\n",
    "    return score_rmse"
   ]
  },
  {
   "cell_type": "code",
   "execution_count": 24,
   "id": "1c9c1c1b",
   "metadata": {},
   "outputs": [],
   "source": [
    "#自定义损失函数\n",
    "class My_MSELoss(nn.Module):\n",
    "    def __init__(self):\n",
    "        super(My_MSELoss, self).__init__()\n",
    "        self.mseloss = nn.MSELoss(reduction='mean')\n",
    "\n",
    "    def forward(self, pred, label):\n",
    "        loss1 = self.mseloss(pred[:,:,0], label[:,:,0])\n",
    "        loss2 = self.mseloss(pred[:,:,1], label[:,:,1])\n",
    "        \n",
    "        loss = (loss1 +loss2)/2\n",
    "\n",
    "        return loss\n",
    "\n",
    "\n"
   ]
  },
  {
   "cell_type": "code",
   "execution_count": 136,
   "id": "6c3ef555",
   "metadata": {},
   "outputs": [],
   "source": [
    "#设置参数\n",
    "model_weights = '/WdHeDisk/users/zhangnong/MJO/908_test(the best)/cnn_seq2seq_s2s_data_weights.pth'\n",
    "\n",
    "model = Model().to(device)\n",
    "\n",
    "optimizer = optim.Adam(model.parameters(), lr=1e-4, weight_decay=0.001)  # weight_decay是L2正则化参数\n",
    "\n",
    "epochs = 30\n",
    "\n",
    "#criterion = My_MSELoss()\n",
    "criterion = nn.MSELoss()"
   ]
  },
  {
   "cell_type": "code",
   "execution_count": 137,
   "id": "db6a8f58",
   "metadata": {},
   "outputs": [
    {
     "name": "stdout",
     "output_type": "stream",
     "text": [
      "(400, 35, 2)\n"
     ]
    }
   ],
   "source": [
    "train_losses, valid_losses = [], []\n",
    "scores_rmse = []\n",
    "#scores_cor = []\n",
    "best_score1 = float('-inf')\n",
    "best_score2 = float('inf')\n",
    "preds = np.zeros((len(Y_valid),35,2))\n",
    "y_valid=np.zeros((len(Y_valid),35,2))\n",
    "#Y_valid=t.from_numpy(Y_valid)\n",
    "print(preds.shape)"
   ]
  },
  {
   "cell_type": "code",
   "execution_count": 138,
   "id": "916ff116",
   "metadata": {},
   "outputs": [
    {
     "name": "stdout",
     "output_type": "stream",
     "text": [
      "Epoch: 1/30\n"
     ]
    },
    {
     "name": "stderr",
     "output_type": "stream",
     "text": [
      "100%|██████████| 5/5 [00:01<00:00,  3.05it/s]\n"
     ]
    },
    {
     "name": "stdout",
     "output_type": "stream",
     "text": [
      "Training Loss: 0.381\n"
     ]
    },
    {
     "name": "stderr",
     "output_type": "stream",
     "text": [
      "1it [00:00, 12.64it/s]\n"
     ]
    },
    {
     "name": "stdout",
     "output_type": "stream",
     "text": [
      "Validation Loss: 0.373\n",
      "day_rmse: 34\n",
      "day_cor: 0\n",
      "rmse_max: 1.110\n",
      "best_day:0\n",
      "best_rmse:1.110\n",
      "Epoch: 2/30\n"
     ]
    },
    {
     "name": "stderr",
     "output_type": "stream",
     "text": [
      "100%|██████████| 5/5 [00:01<00:00,  2.52it/s]\n"
     ]
    },
    {
     "name": "stdout",
     "output_type": "stream",
     "text": [
      "Training Loss: 0.369\n"
     ]
    },
    {
     "name": "stderr",
     "output_type": "stream",
     "text": [
      "1it [00:00, 12.68it/s]\n"
     ]
    },
    {
     "name": "stdout",
     "output_type": "stream",
     "text": [
      "Validation Loss: 0.367\n",
      "day_rmse: 34\n",
      "day_cor: 0\n",
      "rmse_max: 1.088\n",
      "best_day:0\n",
      "best_rmse:1.088\n",
      "Epoch: 3/30\n"
     ]
    },
    {
     "name": "stderr",
     "output_type": "stream",
     "text": [
      "100%|██████████| 5/5 [00:02<00:00,  1.76it/s]\n"
     ]
    },
    {
     "name": "stdout",
     "output_type": "stream",
     "text": [
      "Training Loss: 0.358\n"
     ]
    },
    {
     "name": "stderr",
     "output_type": "stream",
     "text": [
      "0it [00:00, ?it/s]\n"
     ]
    },
    {
     "ename": "KeyboardInterrupt",
     "evalue": "",
     "output_type": "error",
     "traceback": [
      "\u001b[0;31m---------------------------------------------------------------------------\u001b[0m",
      "\u001b[0;31mKeyboardInterrupt\u001b[0m                         Traceback (most recent call last)",
      "\u001b[1;32m/WdHeDisk/users/zhangnong/MJO/908_test(the best)/note/s2s_cnn_seq_for7.ipynb Cell 17\u001b[0m in \u001b[0;36m<cell line: 2>\u001b[0;34m()\u001b[0m\n\u001b[1;32m     <a href='vscode-notebook-cell://ssh-remote%2B101.42.156.117/WdHeDisk/users/zhangnong/MJO/908_test%28the%20best%29/note/s2s_cnn_seq_for7.ipynb#X22sdnNjb2RlLXJlbW90ZQ%3D%3D?line=29'>30</a>\u001b[0m s_rmse\u001b[39m=\u001b[39m\u001b[39m0\u001b[39m\n\u001b[1;32m     <a href='vscode-notebook-cell://ssh-remote%2B101.42.156.117/WdHeDisk/users/zhangnong/MJO/908_test%28the%20best%29/note/s2s_cnn_seq_for7.ipynb#X22sdnNjb2RlLXJlbW90ZQ%3D%3D?line=30'>31</a>\u001b[0m \u001b[39mwith\u001b[39;00m torch\u001b[39m.\u001b[39mno_grad():\n\u001b[0;32m---> <a href='vscode-notebook-cell://ssh-remote%2B101.42.156.117/WdHeDisk/users/zhangnong/MJO/908_test%28the%20best%29/note/s2s_cnn_seq_for7.ipynb#X22sdnNjb2RlLXJlbW90ZQ%3D%3D?line=31'>32</a>\u001b[0m     \u001b[39mfor\u001b[39;00m i, data \u001b[39min\u001b[39;00m tqdm(\u001b[39menumerate\u001b[39m(validloader)):\n\u001b[1;32m     <a href='vscode-notebook-cell://ssh-remote%2B101.42.156.117/WdHeDisk/users/zhangnong/MJO/908_test%28the%20best%29/note/s2s_cnn_seq_for7.ipynb#X22sdnNjb2RlLXJlbW90ZQ%3D%3D?line=32'>33</a>\u001b[0m         data1, labels \u001b[39m=\u001b[39m data\n\u001b[1;32m     <a href='vscode-notebook-cell://ssh-remote%2B101.42.156.117/WdHeDisk/users/zhangnong/MJO/908_test%28the%20best%29/note/s2s_cnn_seq_for7.ipynb#X22sdnNjb2RlLXJlbW90ZQ%3D%3D?line=33'>34</a>\u001b[0m         data1 \u001b[39m=\u001b[39m data1\u001b[39m.\u001b[39mto(device)\n",
      "File \u001b[0;32m/mnt/miniconda3/envs/MJO_env/lib/python3.8/site-packages/tqdm/std.py:1195\u001b[0m, in \u001b[0;36mtqdm.__iter__\u001b[0;34m(self)\u001b[0m\n\u001b[1;32m   1192\u001b[0m time \u001b[39m=\u001b[39m \u001b[39mself\u001b[39m\u001b[39m.\u001b[39m_time\n\u001b[1;32m   1194\u001b[0m \u001b[39mtry\u001b[39;00m:\n\u001b[0;32m-> 1195\u001b[0m     \u001b[39mfor\u001b[39;00m obj \u001b[39min\u001b[39;00m iterable:\n\u001b[1;32m   1196\u001b[0m         \u001b[39myield\u001b[39;00m obj\n\u001b[1;32m   1197\u001b[0m         \u001b[39m# Update and possibly print the progressbar.\u001b[39;00m\n\u001b[1;32m   1198\u001b[0m         \u001b[39m# Note: does not call self.update(1) for speed optimisation.\u001b[39;00m\n",
      "File \u001b[0;32m/mnt/miniconda3/envs/MJO_env/lib/python3.8/site-packages/torch/utils/data/dataloader.py:521\u001b[0m, in \u001b[0;36m_BaseDataLoaderIter.__next__\u001b[0;34m(self)\u001b[0m\n\u001b[1;32m    519\u001b[0m \u001b[39mif\u001b[39;00m \u001b[39mself\u001b[39m\u001b[39m.\u001b[39m_sampler_iter \u001b[39mis\u001b[39;00m \u001b[39mNone\u001b[39;00m:\n\u001b[1;32m    520\u001b[0m     \u001b[39mself\u001b[39m\u001b[39m.\u001b[39m_reset()\n\u001b[0;32m--> 521\u001b[0m data \u001b[39m=\u001b[39m \u001b[39mself\u001b[39;49m\u001b[39m.\u001b[39;49m_next_data()\n\u001b[1;32m    522\u001b[0m \u001b[39mself\u001b[39m\u001b[39m.\u001b[39m_num_yielded \u001b[39m+\u001b[39m\u001b[39m=\u001b[39m \u001b[39m1\u001b[39m\n\u001b[1;32m    523\u001b[0m \u001b[39mif\u001b[39;00m \u001b[39mself\u001b[39m\u001b[39m.\u001b[39m_dataset_kind \u001b[39m==\u001b[39m _DatasetKind\u001b[39m.\u001b[39mIterable \u001b[39mand\u001b[39;00m \\\n\u001b[1;32m    524\u001b[0m         \u001b[39mself\u001b[39m\u001b[39m.\u001b[39m_IterableDataset_len_called \u001b[39mis\u001b[39;00m \u001b[39mnot\u001b[39;00m \u001b[39mNone\u001b[39;00m \u001b[39mand\u001b[39;00m \\\n\u001b[1;32m    525\u001b[0m         \u001b[39mself\u001b[39m\u001b[39m.\u001b[39m_num_yielded \u001b[39m>\u001b[39m \u001b[39mself\u001b[39m\u001b[39m.\u001b[39m_IterableDataset_len_called:\n",
      "File \u001b[0;32m/mnt/miniconda3/envs/MJO_env/lib/python3.8/site-packages/torch/utils/data/dataloader.py:561\u001b[0m, in \u001b[0;36m_SingleProcessDataLoaderIter._next_data\u001b[0;34m(self)\u001b[0m\n\u001b[1;32m    559\u001b[0m \u001b[39mdef\u001b[39;00m \u001b[39m_next_data\u001b[39m(\u001b[39mself\u001b[39m):\n\u001b[1;32m    560\u001b[0m     index \u001b[39m=\u001b[39m \u001b[39mself\u001b[39m\u001b[39m.\u001b[39m_next_index()  \u001b[39m# may raise StopIteration\u001b[39;00m\n\u001b[0;32m--> 561\u001b[0m     data \u001b[39m=\u001b[39m \u001b[39mself\u001b[39;49m\u001b[39m.\u001b[39;49m_dataset_fetcher\u001b[39m.\u001b[39;49mfetch(index)  \u001b[39m# may raise StopIteration\u001b[39;00m\n\u001b[1;32m    562\u001b[0m     \u001b[39mif\u001b[39;00m \u001b[39mself\u001b[39m\u001b[39m.\u001b[39m_pin_memory:\n\u001b[1;32m    563\u001b[0m         data \u001b[39m=\u001b[39m _utils\u001b[39m.\u001b[39mpin_memory\u001b[39m.\u001b[39mpin_memory(data)\n",
      "File \u001b[0;32m/mnt/miniconda3/envs/MJO_env/lib/python3.8/site-packages/torch/utils/data/_utils/fetch.py:52\u001b[0m, in \u001b[0;36m_MapDatasetFetcher.fetch\u001b[0;34m(self, possibly_batched_index)\u001b[0m\n\u001b[1;32m     50\u001b[0m \u001b[39melse\u001b[39;00m:\n\u001b[1;32m     51\u001b[0m     data \u001b[39m=\u001b[39m \u001b[39mself\u001b[39m\u001b[39m.\u001b[39mdataset[possibly_batched_index]\n\u001b[0;32m---> 52\u001b[0m \u001b[39mreturn\u001b[39;00m \u001b[39mself\u001b[39;49m\u001b[39m.\u001b[39;49mcollate_fn(data)\n",
      "File \u001b[0;32m/mnt/miniconda3/envs/MJO_env/lib/python3.8/site-packages/torch/utils/data/_utils/collate.py:84\u001b[0m, in \u001b[0;36mdefault_collate\u001b[0;34m(batch)\u001b[0m\n\u001b[1;32m     82\u001b[0m         \u001b[39mraise\u001b[39;00m \u001b[39mRuntimeError\u001b[39;00m(\u001b[39m'\u001b[39m\u001b[39meach element in list of batch should be of equal size\u001b[39m\u001b[39m'\u001b[39m)\n\u001b[1;32m     83\u001b[0m     transposed \u001b[39m=\u001b[39m \u001b[39mzip\u001b[39m(\u001b[39m*\u001b[39mbatch)\n\u001b[0;32m---> 84\u001b[0m     \u001b[39mreturn\u001b[39;00m [default_collate(samples) \u001b[39mfor\u001b[39;00m samples \u001b[39min\u001b[39;00m transposed]\n\u001b[1;32m     86\u001b[0m \u001b[39mraise\u001b[39;00m \u001b[39mTypeError\u001b[39;00m(default_collate_err_msg_format\u001b[39m.\u001b[39mformat(elem_type))\n",
      "File \u001b[0;32m/mnt/miniconda3/envs/MJO_env/lib/python3.8/site-packages/torch/utils/data/_utils/collate.py:84\u001b[0m, in \u001b[0;36m<listcomp>\u001b[0;34m(.0)\u001b[0m\n\u001b[1;32m     82\u001b[0m         \u001b[39mraise\u001b[39;00m \u001b[39mRuntimeError\u001b[39;00m(\u001b[39m'\u001b[39m\u001b[39meach element in list of batch should be of equal size\u001b[39m\u001b[39m'\u001b[39m)\n\u001b[1;32m     83\u001b[0m     transposed \u001b[39m=\u001b[39m \u001b[39mzip\u001b[39m(\u001b[39m*\u001b[39mbatch)\n\u001b[0;32m---> 84\u001b[0m     \u001b[39mreturn\u001b[39;00m [default_collate(samples) \u001b[39mfor\u001b[39;00m samples \u001b[39min\u001b[39;00m transposed]\n\u001b[1;32m     86\u001b[0m \u001b[39mraise\u001b[39;00m \u001b[39mTypeError\u001b[39;00m(default_collate_err_msg_format\u001b[39m.\u001b[39mformat(elem_type))\n",
      "File \u001b[0;32m/mnt/miniconda3/envs/MJO_env/lib/python3.8/site-packages/torch/utils/data/_utils/collate.py:56\u001b[0m, in \u001b[0;36mdefault_collate\u001b[0;34m(batch)\u001b[0m\n\u001b[1;32m     54\u001b[0m         storage \u001b[39m=\u001b[39m elem\u001b[39m.\u001b[39mstorage()\u001b[39m.\u001b[39m_new_shared(numel)\n\u001b[1;32m     55\u001b[0m         out \u001b[39m=\u001b[39m elem\u001b[39m.\u001b[39mnew(storage)\n\u001b[0;32m---> 56\u001b[0m     \u001b[39mreturn\u001b[39;00m torch\u001b[39m.\u001b[39;49mstack(batch, \u001b[39m0\u001b[39;49m, out\u001b[39m=\u001b[39;49mout)\n\u001b[1;32m     57\u001b[0m \u001b[39melif\u001b[39;00m elem_type\u001b[39m.\u001b[39m\u001b[39m__module__\u001b[39m \u001b[39m==\u001b[39m \u001b[39m'\u001b[39m\u001b[39mnumpy\u001b[39m\u001b[39m'\u001b[39m \u001b[39mand\u001b[39;00m elem_type\u001b[39m.\u001b[39m\u001b[39m__name__\u001b[39m \u001b[39m!=\u001b[39m \u001b[39m'\u001b[39m\u001b[39mstr_\u001b[39m\u001b[39m'\u001b[39m \\\n\u001b[1;32m     58\u001b[0m         \u001b[39mand\u001b[39;00m elem_type\u001b[39m.\u001b[39m\u001b[39m__name__\u001b[39m \u001b[39m!=\u001b[39m \u001b[39m'\u001b[39m\u001b[39mstring_\u001b[39m\u001b[39m'\u001b[39m:\n\u001b[1;32m     59\u001b[0m     \u001b[39mif\u001b[39;00m elem_type\u001b[39m.\u001b[39m\u001b[39m__name__\u001b[39m \u001b[39m==\u001b[39m \u001b[39m'\u001b[39m\u001b[39mndarray\u001b[39m\u001b[39m'\u001b[39m \u001b[39mor\u001b[39;00m elem_type\u001b[39m.\u001b[39m\u001b[39m__name__\u001b[39m \u001b[39m==\u001b[39m \u001b[39m'\u001b[39m\u001b[39mmemmap\u001b[39m\u001b[39m'\u001b[39m:\n\u001b[1;32m     60\u001b[0m         \u001b[39m# array of string classes and object\u001b[39;00m\n",
      "\u001b[0;31mKeyboardInterrupt\u001b[0m: "
     ]
    }
   ],
   "source": [
    "#模型训练\n",
    "for epoch in range(epochs):\n",
    "    print('Epoch: {}/{}'.format(epoch+1, epochs))\n",
    "    model.train()\n",
    "    losses = 0\n",
    "    for data1, labels in tqdm(trainloader):\n",
    "        data1 = data1.to(device)\n",
    "        labels = labels.to(device)\n",
    "        model.zero_grad()\n",
    "        #optimizer.zero_grad()\n",
    "        pred = model(data1)\n",
    "        #print('pred.size:',pred.size())\n",
    "        #pred= pred.permute(0,2,1).contiguous()\n",
    "        loss = criterion(pred, labels)\n",
    "        losses += loss.cpu().detach().numpy()\n",
    "        #print(pred.dtype)\n",
    "        #print(labels.dtype)\n",
    "        #print(loss.dtype)\n",
    "        loss.backward()\n",
    "        optimizer.step()\n",
    "        #scheduler.step()\n",
    "    train_loss = losses / len(trainloader)\n",
    "    train_losses.append(train_loss)\n",
    "    print('Training Loss: {:.3f}'.format(train_loss))\n",
    "# 模型验证\n",
    "    model.eval()\n",
    "    losses = 0\n",
    "    s=0\n",
    "    ss=0\n",
    "    s_rmse=0\n",
    "    with torch.no_grad():\n",
    "        for i, data in tqdm(enumerate(validloader)):\n",
    "            data1, labels = data\n",
    "            data1 = data1.to(device)\n",
    "            y_valid[i*batch_size:(i+1)*batch_size]=labels.detach().cpu()\n",
    "            labels = labels.to(device)\n",
    "            pred = model(data1)\n",
    "\n",
    "            #pred= pred.permute(0,2,1).contiguous()\n",
    "            loss = criterion(pred, labels)\n",
    "            #print('loss:',loss)\n",
    "            losses += loss.cpu().detach().numpy()\n",
    "            preds[i*batch_size:(i+1)*batch_size] = pred.detach().cpu()\n",
    "        valid_loss = losses / len(validloader)\n",
    "        valid_losses.append(valid_loss)\n",
    "        print('Validation Loss: {:.3f}'.format(valid_loss))\n",
    "    #print(len(valid_losses))\n",
    "        preds=torch.as_tensor(preds)\n",
    "        y_valid=torch.as_tensor(y_valid)\n",
    "    #print(preds.dtype,Y_valid.dtype)\n",
    "    #print(len(preds))\n",
    "    #print(len(preds[1]))\n",
    "        s=rmse_new(y_valid,preds)\n",
    "    #s=rmse(Y_valid,preds)\n",
    "    #s=rmse_caluate(Y_valid,preds)\n",
    "        ss=cor(y_valid,preds)\n",
    "        s_rmse=rmse_max(y_valid,preds)\n",
    "    #s.item()\n",
    "    #print(s)\n",
    "    #s=score_rmse(Y_valid,preds)\n",
    "        scores_rmse.append(s)\n",
    "    #scores_cor.append(ss)\n",
    "        print('day_rmse: {:}'.format(s))\n",
    "        print('day_cor: {:}'.format(ss))\n",
    "        print('rmse_max: {:.3f}'.format(s_rmse))\n",
    "    #print('Score_cor: {:.3f}'.format(ss))\n",
    "# 保存最佳模型权重\n",
    "    #s=s.numpy()\n",
    "    #ss=ss.numpy()\n",
    "    #fina_score=score(s,ss)\n",
    "    #print(s.type)\n",
    "    #print(ss.type)\n",
    "    final_s=min(s,ss)\n",
    "    if (final_s > best_score1) :\n",
    "        best_score1 = final_s\n",
    "        best_score2 = s_rmse\n",
    "        #best_score2 = ss\n",
    "        checkpoint = {'best_score': best_score1,'state_dict': model.state_dict()}\n",
    "        torch.save(checkpoint, model_weights)\n",
    "    if (final_s==best_score1)&(s_rmse < best_score2):\n",
    "        best_score1 = final_s\n",
    "        best_score2 = s_rmse\n",
    "        #best_score2 = ss\n",
    "        checkpoint = {'best_score': best_score1,'state_dict': model.state_dict()}\n",
    "        torch.save(checkpoint, model_weights) \n",
    "    print('best_day:{:}'.format(best_score1))\n",
    "    print('best_rmse:{:.3f}'.format(best_score2))\n",
    "    #scheduler.step()"
   ]
  },
  {
   "cell_type": "code",
   "execution_count": null,
   "id": "acd96b40",
   "metadata": {},
   "outputs": [],
   "source": [
    "# 绘制训练/验证曲线\n",
    "def training_vis(train_losses, valid_losses):\n",
    "    # 绘制损失函数曲线\n",
    "    fig = plt.figure(figsize=(8,4))\n",
    "    # subplot loss\n",
    "    ax1 = fig.add_subplot(121)\n",
    "    ax1.plot(train_losses, label='train_loss')\n",
    "    ax1.plot(valid_losses,label='val_loss')\n",
    "    ax1.set_xlabel('Epochs')\n",
    "    ax1.set_ylabel('Loss')\n",
    "    ax1.set_title('Loss on Training and Validation Data')\n",
    "    ax1.legend()\n",
    "    plt.tight_layout()"
   ]
  },
  {
   "cell_type": "code",
   "execution_count": null,
   "id": "48e46bc3",
   "metadata": {},
   "outputs": [
    {
     "data": {
      "image/png": "[encoded data removed]",
      "text/plain": [
       "<Figure size 576x288 with 1 Axes>"
      ]
     },
     "metadata": {
      "needs_background": "light"
     },
     "output_type": "display_data"
    }
   ],
   "source": [
    "training_vis(train_losses, valid_losses)"
   ]
  },
  {
   "cell_type": "code",
   "execution_count": 25,
   "id": "52c0a286",
   "metadata": {},
   "outputs": [
    {
     "data": {
      "text/plain": [
       "<All keys matched successfully>"
      ]
     },
     "execution_count": 25,
     "metadata": {},
     "output_type": "execute_result"
    }
   ],
   "source": [
    "# 加载最佳模型权重\n",
    "checkpoint = torch.load('/WdHeDisk/users/zhangnong/MJO/908_test(the best)/27day(cnn128).pth')\n",
    "model = Model()\n",
    "model.load_state_dict(checkpoint['state_dict'])"
   ]
  },
  {
   "cell_type": "code",
   "execution_count": null,
   "id": "523e6eb8",
   "metadata": {},
   "outputs": [],
   "source": [
    "#测试集300\n",
    "X1_test_300=X_test\n",
    "Y_test_300=Y_test"
   ]
  },
  {
   "cell_type": "code",
   "execution_count": null,
   "id": "e8f5a3df",
   "metadata": {},
   "outputs": [],
   "source": [
    "testset = MJODataset(X1_test_300, Y_test_300)\n",
    "testloader = DataLoader(testset, batch_size=batch_size, shuffle=False)"
   ]
  },
  {
   "cell_type": "code",
   "execution_count": null,
   "id": "a9b7fc4c",
   "metadata": {},
   "outputs": [],
   "source": [
    "Y_test_300=t.from_numpy(Y_test_300)"
   ]
  },
  {
   "cell_type": "code",
   "execution_count": null,
   "id": "aa90fd97",
   "metadata": {},
   "outputs": [
    {
     "name": "stderr",
     "output_type": "stream",
     "text": [
      "25it [00:00, 46.92it/s]\n"
     ]
    },
    {
     "name": "stdout",
     "output_type": "stream",
     "text": [
      "Score_rmse: 34.000\n",
      "Score_cor: 34.000\n"
     ]
    }
   ],
   "source": [
    "# 在测试集上评估模型效果\n",
    "model.eval()\n",
    "model.to(device)\n",
    "t_scores_rmse=[]\n",
    "#t_scores_cor=[]\n",
    "t_s=0\n",
    "#t_ss=0\n",
    "t_preds = np.zeros((len(Y_test_300),35,2))\n",
    "for i, data in tqdm(enumerate(testloader)):\n",
    "    data1, labels = data\n",
    "    data1 = data1.to(device)\n",
    "    labels = labels.to(device)\n",
    "    t_pred = model(data1)\n",
    "    #t_pred= t_pred.permute(0,2,1).contiguous()\n",
    "    t_preds[i*batch_size:(i+1)*batch_size] = t_pred.detach().cpu()\n",
    "t_preds=torch.as_tensor(t_preds)\n",
    "#t_s=rmse(Y_test,t_preds)\n",
    "t_s=rmse_new(Y_test_300,t_preds)\n",
    "t_ss=cor(Y_test_300,t_preds)\n",
    "t_scores_rmse.append(t_s)\n",
    "#t_scores_cor.append(t_ss)\n",
    "print('Score_rmse: {:.3f}'.format(t_s))\n",
    "print('Score_cor: {:.3f}'.format(t_ss))"
   ]
  },
  {
   "cell_type": "code",
   "execution_count": null,
   "id": "fed01c31",
   "metadata": {},
   "outputs": [],
   "source": [
    "t_preds=t_preds.numpy()\n",
    "Y_test_300=Y_test_300.numpy()\n",
    "#绘制30条数据的rmm指数预测区别，预测和真实值预测\n",
    "def rmm1_vis_30(Y_test,t_preds,index):\n",
    "    fig = plt.figure(figsize=(8,4))\n",
    "    ax1 = fig.add_subplot(121)\n",
    "    ax1.plot(Y_test[index,:,0], label='RMM1:true')\n",
    "    ax1.plot(t_preds[index,:,0], label='RMM1:pred')\n",
    "    ax1.set_xlabel('time')\n",
    "    ax1.set_ylabel('rmm1')\n",
    "    ax1.set_title('RMM1 on truth and prediction data with time')\n",
    "    ax1.legend()\n",
    "    plt.tight_layout()\n",
    "\n",
    "def rmm2_vis_30(Y_test,t_preds,index):\n",
    "    fig = plt.figure(figsize=(8,4))\n",
    "    ax1 = fig.add_subplot(121)\n",
    "    ax1.plot(Y_test[index,:,1], label='RMM2:true')\n",
    "    ax1.plot(t_preds[index,:,1], label='RMM2:pred')\n",
    "    ax1.set_xlabel('time')\n",
    "    ax1.set_ylabel('rmm2')\n",
    "    ax1.set_title('RMM2 on truth and prediction data with time')\n",
    "    ax1.legend()\n",
    "    plt.tight_layout()"
   ]
  },
  {
   "cell_type": "code",
   "execution_count": null,
   "id": "3be2dbe3",
   "metadata": {},
   "outputs": [
    {
     "name": "stdout",
     "output_type": "stream",
     "text": [
      "(400, 35, 2)\n"
     ]
    }
   ],
   "source": [
    "print(t_preds.shape)"
   ]
  },
  {
   "cell_type": "code",
   "execution_count": null,
   "id": "76e92aa6",
   "metadata": {},
   "outputs": [],
   "source": [
    "#np.save('/WdHeDisk/users/zhangnong/MJO/913_test/data/pred_data.npy', t_preds)"
   ]
  },
  {
   "cell_type": "code",
   "execution_count": null,
   "id": "cbbf98bb",
   "metadata": {},
   "outputs": [
    {
     "data": {
      "image/png": "[encoded data removed]",
      "text/plain": [
       "<Figure size 576x288 with 1 Axes>"
      ]
     },
     "metadata": {
      "needs_background": "light"
     },
     "output_type": "display_data"
    },
    {
     "data": {
      "image/png": "[encoded data removed]",
      "text/plain": [
       "<Figure size 576x288 with 1 Axes>"
      ]
     },
     "metadata": {
      "needs_background": "light"
     },
     "output_type": "display_data"
    }
   ],
   "source": [
    "index=0 #可以取0～3200\n",
    "rmm1_vis_30(Y_test_300,t_preds,index)\n",
    "rmm2_vis_30(Y_test_300,t_preds,index)"
   ]
  },
  {
   "cell_type": "code",
   "execution_count": null,
   "id": "75fac9aa",
   "metadata": {},
   "outputs": [],
   "source": [
    "#cor评价指标\n",
    "def cor_caluate(Y_test,t_preds):\n",
    "    cor_day = []\n",
    "    a=0\n",
    "    b=0\n",
    "    c=0\n",
    "    for i in range(0,35):\n",
    "        for j in range(0,len(Y_test)):\n",
    "            a+=(Y_test[j,i,:]*t_preds[j,i,:]).sum()\n",
    "            b+=(Y_test[j,i]**2).sum()\n",
    "            c+=(t_preds[j,i]**2).sum()\n",
    "        b=np.sqrt(b)\n",
    "        c=np.sqrt(c)\n",
    "        cor=a/(b*c)\n",
    "        cor_day.append(cor)\n",
    "        a=0\n",
    "        b=0\n",
    "        c=0\n",
    "    cor_day=np.array(cor_day)\n",
    "    print(cor_day)\n",
    "    return cor_day"
   ]
  },
  {
   "cell_type": "code",
   "execution_count": null,
   "id": "06b712a8",
   "metadata": {},
   "outputs": [],
   "source": [
    "#画cor指标\n",
    "def cor_acc(cor_day):\n",
    "    # 绘制损失函数曲线\n",
    "    fig = plt.figure(figsize=(8,4))\n",
    "    # subplot loss\n",
    "    ax1 = fig.add_subplot(121)\n",
    "    ax1.plot(cor_day, label='cor_acc')\n",
    "    ax1.set_xlabel('days')\n",
    "    ax1.set_ylabel('cor')\n",
    "    ax1.set_title('MJO Bivariate Correlation')\n",
    "    ax1.legend()\n",
    "    ax1.axhline(y=0.5,color='red',linewidth=0.85)\n",
    "    plt.tight_layout()"
   ]
  },
  {
   "cell_type": "code",
   "execution_count": null,
   "id": "50d2a497",
   "metadata": {},
   "outputs": [
    {
     "name": "stdout",
     "output_type": "stream",
     "text": [
      "[0.92242145 0.89279593 0.85749581 0.81424572 0.77447341 0.73380162\n",
      " 0.69873733 0.67026054 0.64002836 0.6236244  0.61683633 0.61813496\n",
      " 0.59638358 0.59304891 0.58797381 0.58382908 0.58310197 0.5939433\n",
      " 0.58800619 0.6009823  0.60448531 0.59280124 0.60015742 0.59438408\n",
      " 0.59016158 0.59416621 0.58124908 0.57551496 0.57982409 0.57734932\n",
      " 0.58024203 0.58449105 0.5781494  0.59047888 0.58213273]\n"
     ]
    },
    {
     "data": {
      "image/png": "[encoded data removed]",
      "text/plain": [
       "<Figure size 576x288 with 1 Axes>"
      ]
     },
     "metadata": {
      "needs_background": "light"
     },
     "output_type": "display_data"
    }
   ],
   "source": [
    "cor_day=cor_caluate(Y_test_300,t_preds)\n",
    "cor_acc(cor_day)"
   ]
  },
  {
   "cell_type": "code",
   "execution_count": null,
   "id": "b388022a",
   "metadata": {},
   "outputs": [],
   "source": [
    "#rmse评价指标\n",
    "def rmse_caluate(Y_test,t_preds):\n",
    "    rmse_day = []\n",
    "    a=0\n",
    "    for i in range(0,35):\n",
    "        for j in range(0,len(Y_test)):\n",
    "            a+=((Y_test[j,i,:]-t_preds[j,i,:])**2).sum()\n",
    "        rmse=a/len(Y_test)\n",
    "        rmse=np.sqrt(rmse)\n",
    "        rmse_day.append(rmse)\n",
    "        a=0\n",
    "    rmse_day=np.array(rmse_day)\n",
    "    print(rmse_day)\n",
    "    return rmse_day"
   ]
  },
  {
   "cell_type": "code",
   "execution_count": null,
   "id": "1224af35",
   "metadata": {},
   "outputs": [],
   "source": [
    "#画rmse指标\n",
    "def rmse_acc(rmse_day):\n",
    "    # 绘制损失函数曲线\n",
    "    fig = plt.figure(figsize=(8,4))\n",
    "    # subplot loss\n",
    "    ax1 = fig.add_subplot(121)\n",
    "    ax1.plot(rmse_day, label='rmse_acc')\n",
    "    ax1.set_xlabel('days')\n",
    "    ax1.set_ylabel('rmse')\n",
    "    ax1.set_title('MJO Bivariate Correlation')\n",
    "    ax1.legend()\n",
    "    ax1.axhline(y=1.4,color='red',linewidth=0.85)\n",
    "    plt.tight_layout()"
   ]
  },
  {
   "cell_type": "code",
   "execution_count": null,
   "id": "afa0766a",
   "metadata": {},
   "outputs": [
    {
     "name": "stdout",
     "output_type": "stream",
     "text": [
      "[0.41343427 0.4619093  0.50354787 0.54418705 0.57479696 0.59958504\n",
      " 0.61790313 0.63241739 0.64959393 0.65426915 0.65363719 0.64827281\n",
      " 0.6596425  0.65529576 0.65157859 0.64911156 0.64604176 0.63713977\n",
      " 0.63790078 0.62767452 0.62115449 0.62345729 0.615895   0.61504451\n",
      " 0.61341431 0.60772125 0.610559   0.60939863 0.60249472 0.59910548\n",
      " 0.59196285 0.58357407 0.57921891 0.56784562 0.56719728]\n"
     ]
    },
    {
     "data": {
      "image/png": "[encoded data removed]",
      "text/plain": [
       "<Figure size 576x288 with 1 Axes>"
      ]
     },
     "metadata": {
      "needs_background": "light"
     },
     "output_type": "display_data"
    }
   ],
   "source": [
    "rmse_day=rmse_caluate(Y_test_300,t_preds)\n",
    "rmse_acc(rmse_day)"
   ]
  },
  {
   "cell_type": "code",
   "execution_count": null,
   "id": "51856da3",
   "metadata": {},
   "outputs": [],
   "source": [
    "#t-preds是预测的，直接和真实rmm比较试试\n",
    "re_Y_test=np.load(path+'re_Y_test'+wei)"
   ]
  },
  {
   "cell_type": "code",
   "execution_count": null,
   "id": "e54ec7c5",
   "metadata": {},
   "outputs": [
    {
     "name": "stdout",
     "output_type": "stream",
     "text": [
      "[0.87791398 0.84987296 0.81985264 0.78261276 0.74931845 0.69689224\n",
      " 0.64755694 0.609849   0.56240855 0.53791504 0.52203309 0.51939027\n",
      " 0.48607461 0.4873377  0.48625655 0.47644648 0.45687282 0.46620369\n",
      " 0.4622772  0.45125192 0.45801081 0.44562622 0.44360991 0.43452189\n",
      " 0.41940705 0.40635667 0.39233394 0.36392733 0.34666014 0.32445916\n",
      " 0.32771129 0.31890312 0.31265775 0.29783263 0.29458226]\n"
     ]
    },
    {
     "data": {
      "image/png": "[encoded data removed]",
      "text/plain": [
       "<Figure size 576x288 with 1 Axes>"
      ]
     },
     "metadata": {
      "needs_background": "light"
     },
     "output_type": "display_data"
    }
   ],
   "source": [
    "re_cor_day=cor_caluate(re_Y_test,t_preds)\n",
    "cor_acc(re_cor_day)"
   ]
  },
  {
   "cell_type": "code",
   "execution_count": null,
   "id": "32ea7cc1",
   "metadata": {},
   "outputs": [
    {
     "name": "stdout",
     "output_type": "stream",
     "text": [
      "[0.7102289  0.77435111 0.82420942 0.87046259 0.91370876 0.97118964\n",
      " 1.02105678 1.05759721 1.10599042 1.12818607 1.14339587 1.15272347\n",
      " 1.18682722 1.18950879 1.19629625 1.21281062 1.22605634 1.22137228\n",
      " 1.22325973 1.23271739 1.2312848  1.24610223 1.25952871 1.27204436\n",
      " 1.28661777 1.30192916 1.31186453 1.31720461 1.32272253 1.33623675\n",
      " 1.33655436 1.34075885 1.34113669 1.34324141 1.33552276]\n"
     ]
    },
    {
     "data": {
      "image/png": "[encoded data removed]",
      "text/plain": [
       "<Figure size 576x288 with 1 Axes>"
      ]
     },
     "metadata": {
      "needs_background": "light"
     },
     "output_type": "display_data"
    }
   ],
   "source": [
    "re_rmse_day=rmse_caluate(re_Y_test,t_preds)\n",
    "rmse_acc(re_rmse_day)"
   ]
  },
  {
   "cell_type": "code",
   "execution_count": null,
   "id": "8a6f534a",
   "metadata": {},
   "outputs": [],
   "source": [
    "def best_day(cor, rmse):\n",
    "    best_cor = 0\n",
    "    best_rmse = 0\n",
    "    for i in range(len(cor)):\n",
    "        if cor[i] < 0.5:\n",
    "            break\n",
    "    best_cor = i\n",
    "    \n",
    "    for j in range(len(rmse)):\n",
    "        if rmse[j] > 1.4:\n",
    "            break\n",
    "    best_rmse = j\n",
    "    \n",
    "    print('Score_cor: {:.3f} day'.format(best_cor+1))\n",
    "    print('Score_rmse: {:.3f} day'.format(best_rmse+1))"
   ]
  },
  {
   "cell_type": "code",
   "execution_count": null,
   "id": "b2a301ff",
   "metadata": {},
   "outputs": [
    {
     "name": "stdout",
     "output_type": "stream",
     "text": [
      "Score_cor: 13.000 day\n",
      "Score_rmse: 35.000 day\n"
     ]
    }
   ],
   "source": [
    "best_day(re_cor_day, re_rmse_day)"
   ]
  },
  {
   "cell_type": "code",
   "execution_count": null,
   "id": "68d1ba75",
   "metadata": {},
   "outputs": [],
   "source": []
  }
 ],
 "metadata": {
  "kernelspec": {
   "display_name": "MJO_env_kernel",
   "language": "python",
   "name": "mjo_env"
  },
  "language_info": {
   "codemirror_mode": {
    "name": "ipython",
    "version": 3
   },
   "file_extension": ".py",
   "mimetype": "text/x-python",
   "name": "python",
   "nbconvert_exporter": "python",
   "pygments_lexer": "ipython3",
   "version": "3.8.0"
  },
  "vscode": {
   "interpreter": {
    "hash": "3f0486f8cfe616f417f4710be41b875b91ca94d2ce9b82da42baf2f3238073a4"
   }
  }
 },
 "nbformat": 4,
 "nbformat_minor": 5
}
