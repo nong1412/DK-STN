{
 "cells": [
  {
   "cell_type": "code",
   "execution_count": 1,
   "id": "71859521",
   "metadata": {},
   "outputs": [
    {
     "name": "stderr",
     "output_type": "stream",
     "text": [
      "/mnt/miniconda3/lib/python3.8/site-packages/scipy/__init__.py:138: UserWarning: A NumPy version >=1.16.5 and <1.23.0 is required for this version of SciPy (detected version 1.23.3)\n",
      "  warnings.warn(f\"A NumPy version >={np_minversion} and <{np_maxversion} is required for this version of \"\n"
     ]
    }
   ],
   "source": [
    "#导入相关包\n",
    "import numpy as np\n",
    "import matplotlib.pyplot as plt\n",
    "import random\n",
    "import netCDF4\n",
    "import datetime\n",
    "import seaborn as sns\n",
    "from global_land_mask import globe\n",
    "from scipy import interpolate\n",
    "from sklearn.metrics import silhouette_samples\n",
    "from sklearn.preprocessing import StandardScaler\n",
    "#plt.rcParams['font.sans-serif'] = ['SimHei'] #中文支持\n",
    "#%matplotlib inline"
   ]
  },
  {
   "cell_type": "code",
   "execution_count": 2,
   "id": "bf880a36",
   "metadata": {},
   "outputs": [],
   "source": [
    "ecmf_olr=netCDF4.Dataset('/WdHeDisk/users/zhangnong/MJO/711_test(the most important)/s2s_data/ecmf/OLR/20210701_ecmf_olr.nc')\n",
    "data_ecmf_olr=np.array(ecmf_olr.variables['olr'])"
   ]
  },
  {
   "cell_type": "code",
   "execution_count": 6,
   "id": "2e2ccff3",
   "metadata": {},
   "outputs": [
    {
     "name": "stdout",
     "output_type": "stream",
     "text": [
      "{'latitude': <class 'netCDF4._netCDF4.Variable'>\n",
      "float32 latitude(latitude)\n",
      "    units: degrees_north\n",
      "unlimited dimensions: \n",
      "current shape = (13,)\n",
      "filling on, default _FillValue of 9.969209968386869e+36 used, 'longitude': <class 'netCDF4._netCDF4.Variable'>\n",
      "float32 longitude(longitude)\n",
      "    units: degrees_east\n",
      "unlimited dimensions: \n",
      "current shape = (144,)\n",
      "filling on, default _FillValue of 9.969209968386869e+36 used, 'time': <class 'netCDF4._netCDF4.Variable'>\n",
      "int32 time(time)\n",
      "    units: hours since 1900-01-01 00:00:00.0\n",
      "unlimited dimensions: \n",
      "current shape = (46,)\n",
      "filling on, default _FillValue of -2147483647 used, 'olr': <class 'netCDF4._netCDF4.Variable'>\n",
      "float32 olr(time, latitude, longitude)\n",
      "    units: W m**-2\n",
      "unlimited dimensions: \n",
      "current shape = (46, 13, 144)\n",
      "filling on, default _FillValue of 9.969209968386869e+36 used}\n"
     ]
    }
   ],
   "source": [
    "print(ecmf_olr.variables)"
   ]
  },
  {
   "cell_type": "code",
   "execution_count": 4,
   "id": "467109af",
   "metadata": {},
   "outputs": [
    {
     "name": "stdout",
     "output_type": "stream",
     "text": [
      "(46, 13, 144)\n"
     ]
    }
   ],
   "source": [
    "print(data_ecmf_olr.shape)"
   ]
  },
  {
   "cell_type": "code",
   "execution_count": 7,
   "id": "0070c359",
   "metadata": {},
   "outputs": [],
   "source": [
    "np.save('/WdHeDisk/users/zhangnong/MJO/example_olr_20210701.npy', data_ecmf_olr)"
   ]
  },
  {
   "cell_type": "code",
   "execution_count": null,
   "id": "05e8c2a2",
   "metadata": {},
   "outputs": [],
   "source": []
  }
 ],
 "metadata": {
  "kernelspec": {
   "display_name": "Python 3 (ipykernel)",
   "language": "python",
   "name": "python3"
  },
  "language_info": {
   "codemirror_mode": {
    "name": "ipython",
    "version": 3
   },
   "file_extension": ".py",
   "mimetype": "text/x-python",
   "name": "python",
   "nbconvert_exporter": "python",
   "pygments_lexer": "ipython3",
   "version": "3.8.8"
  }
 },
 "nbformat": 4,
 "nbformat_minor": 5
}
