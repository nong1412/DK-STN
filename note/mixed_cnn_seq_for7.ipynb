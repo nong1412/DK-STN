{
 "cells": [
  {
   "cell_type": "code",
   "execution_count": 1,
   "id": "272ae3a2",
   "metadata": {},
   "outputs": [
    {
     "name": "stderr",
     "output_type": "stream",
     "text": [
      "/mnt/miniconda3/envs/MJO_env/lib/python3.8/site-packages/tqdm/auto.py:22: TqdmWarning: IProgress not found. Please update jupyter and ipywidgets. See https://ipywidgets.readthedocs.io/en/stable/user_install.html\n",
      "  from .autonotebook import tqdm as notebook_tqdm\n"
     ]
    }
   ],
   "source": [
    "#导入相关包\n",
    "import numpy as np\n",
    "import torch as t\n",
    "import random\n",
    "import matplotlib.pyplot as plt\n",
    "#import netCDF4\n",
    "import datetime\n",
    "import torch\n",
    "from tqdm import tqdm\n",
    "from torch import nn\n",
    "from torch import optim\n",
    "from torch.autograd import Variable\n",
    "from torch.utils.data import Dataset\n",
    "from torch.utils.data import DataLoader\n",
    "import torch.autograd as autograd\n",
    "import torch.nn.functional as F\n",
    "from einops import rearrange, repeat\n",
    "import os\n",
    "#from config import args\n",
    "#import seaborn as sns\n",
    "#from global_land_mask import globe\n",
    "#from scipy import interpolate\n",
    "#plt.rcParams['font.sans-serif'] = ['SimHei'] #中文支持\n",
    "%matplotlib inline"
   ]
  },
  {
   "cell_type": "code",
   "execution_count": 2,
   "id": "82d20b54",
   "metadata": {},
   "outputs": [],
   "source": [
    "# 固定随机种子\n",
    "SEED = 22\n",
    "\n",
    "def seed_everything(seed):\n",
    "    random.seed(seed)\n",
    "    os.environ['PYTHONHASHSEED'] = str(seed)\n",
    "    np.random.seed(seed)\n",
    "    torch.manual_seed(seed)\n",
    "    torch.cuda.manual_seed(seed)\n",
    "    torch.backends.cudnn.deterministic = True\n",
    "    \n",
    "seed_everything(SEED)"
   ]
  },
  {
   "cell_type": "code",
   "execution_count": 3,
   "id": "bb44d2ff",
   "metadata": {},
   "outputs": [],
   "source": [
    "path='/WdHeDisk/users/zhangnong/MJO/908_test/data/mixed_dataset_for7_7_35/'\n",
    "wei = '_for7_7_35_sample.npy'"
   ]
  },
  {
   "cell_type": "code",
   "execution_count": 4,
   "id": "8130a30e",
   "metadata": {},
   "outputs": [],
   "source": [
    "X_train=np.load(path+'X_train'+wei)\n",
    "Y_train=np.load(path+'Y_train'+wei)\n",
    "X_valid=np.load(path+'X_valid'+wei)\n",
    "Y_valid=np.load(path+'Y_valid'+wei)\n",
    "X_test=np.load(path+'X_test'+wei)\n",
    "Y_test=np.load(path+'Y_test'+wei)"
   ]
  },
  {
   "cell_type": "code",
   "execution_count": 5,
   "id": "3c3c40e4",
   "metadata": {},
   "outputs": [
    {
     "name": "stdout",
     "output_type": "stream",
     "text": [
      "(18800, 7, 13, 144, 4) (18800, 35, 2)\n",
      "(400, 7, 13, 144, 4) (400, 35, 2)\n"
     ]
    }
   ],
   "source": [
    "print(X_train.shape,Y_train.shape)\n",
    "print(X_valid.shape,Y_valid.shape)"
   ]
  },
  {
   "cell_type": "code",
   "execution_count": 6,
   "id": "ae16aa98",
   "metadata": {},
   "outputs": [
    {
     "name": "stdout",
     "output_type": "stream",
     "text": [
      "1175\n"
     ]
    }
   ],
   "source": [
    "# 构造数据管道\n",
    "class MJODataset(Dataset):\n",
    "    def __init__(self, data,label):\n",
    "        self.data = torch.tensor(data, dtype=torch.float32)\n",
    "        self.label = torch.tensor(label, dtype=torch.float32)\n",
    "\n",
    "    def __len__(self):\n",
    "        return len(self.label)\n",
    "    \n",
    "    def __getitem__(self, idx):\n",
    "        return self.data[idx],self.label[idx]\n",
    "batch_size = 16\n",
    "#刚刚 batchsize = 32 还不错15～16天，lr = 1e-3， deacy = 0.001 ，数据集是22800， 1600， 1600， 模型三层4096， 1024， 90\n",
    "#无dropout\n",
    "trainset = MJODataset(X_train, Y_train)\n",
    "trainloader = DataLoader(trainset, batch_size=batch_size, shuffle=True)\n",
    "\n",
    "validset = MJODataset(X_valid, Y_valid)\n",
    "validloader = DataLoader(validset, batch_size=batch_size, shuffle=True)\n",
    "\n",
    "testset = MJODataset(X_test, Y_test)\n",
    "testloader = DataLoader(testset, batch_size=batch_size, shuffle=False)\n",
    "print(len(trainloader))"
   ]
  },
  {
   "cell_type": "code",
   "execution_count": 7,
   "id": "17ee37c6",
   "metadata": {},
   "outputs": [],
   "source": [
    "if torch.cuda.is_available():\n",
    "    device=torch.device(\"cuda:1\")\n",
    "else :\n",
    "    device=torch.device(\"cpu\")"
   ]
  },
  {
   "cell_type": "code",
   "execution_count": 8,
   "id": "f01160f9",
   "metadata": {},
   "outputs": [],
   "source": [
    "#cnn模块\n",
    "# 构建CNN单元\n",
    "class CNNBlock(nn.Module):\n",
    "    def __init__(self, in_channels, out_channels, kernel_size, stride, padding):\n",
    "        super().__init__()\n",
    "        self.bn1 = nn.BatchNorm2d(in_channels)\n",
    "        self.conv = nn.Conv2d(in_channels, out_channels, kernel_size, stride, padding)\n",
    "        self.bn2 = nn.BatchNorm2d(out_channels)\n",
    "        \n",
    "        if (in_channels == out_channels) and (stride == 1):\n",
    "            self.res = lambda x: x\n",
    "        else:\n",
    "            self.res = nn.Conv2d(in_channels, out_channels, kernel_size=1, stride=stride)\n",
    "        \n",
    "    def forward(self, x):\n",
    "        # 残差\n",
    "        res = self.res(x)\n",
    "        res = self.bn2(res)\n",
    "\n",
    "        x = F.relu(self.bn1(x))\n",
    "        x = self.conv(x)\n",
    "        x = self.bn2(x)\n",
    "        \n",
    "        x = x + res\n",
    "        \n",
    "        return x"
   ]
  },
  {
   "cell_type": "code",
   "execution_count": 9,
   "id": "6c9a544c",
   "metadata": {},
   "outputs": [],
   "source": [
    "#编码\n",
    "class Encoder(nn.Module):\n",
    "    def __init__(self, input_size, hidden_size, num_layers):\n",
    "        super().__init__()\n",
    "        \n",
    "        self.input_size = input_size\n",
    "        self.hidden_size = hidden_size\n",
    "        self.num_layers = num_layers\n",
    "        self.num_directions = 1\n",
    "        \n",
    "        self.lstm = nn.LSTM(input_size, hidden_size, num_layers, batch_first=True, bidirectional=False)\n",
    "\n",
    "\n",
    "    def forward(self, x):\n",
    "        \n",
    "        batch_size, T, C = x.shape\n",
    "        \n",
    "        h = torch.randn(self.num_directions * self.num_layers, batch_size, self.hidden_size).to(device)\n",
    "        c = torch.randn(self.num_directions * self.num_layers, batch_size, self.hidden_size).to(device)\n",
    "\n",
    "        \n",
    "        #lstm训练\n",
    "        output, (h, c) = self.lstm(x, (h, c))\n",
    "        #output[batch_size, time_squence, hidden_size]\n",
    "        #h[2, batch_size, hidden_size]\n",
    "\n",
    "        return   h, c"
   ]
  },
  {
   "cell_type": "code",
   "execution_count": 10,
   "id": "f8c349c7",
   "metadata": {},
   "outputs": [],
   "source": [
    "#解码\n",
    "class Decoder(nn.Module):\n",
    "    def __init__(self, input_size, hidden_size, num_layers, output_size):\n",
    "        super().__init__()\n",
    "        self.input_size = input_size\n",
    "        self.hidden_size = hidden_size\n",
    "        self.num_layers = num_layers\n",
    "        self.output_size = output_size\n",
    "        \n",
    "        #outsize = 45\n",
    "        self.num_directions = 1  \n",
    "        \n",
    "        self.lstm = nn.LSTM(self.input_size, self.hidden_size, self.num_layers, batch_first=True, bidirectional=False)\n",
    "        \n",
    "        self.lstm2 = nn.LSTM(self.hidden_size, 128, self.num_layers, batch_first = True)\n",
    "        \n",
    "        self.fc1 = nn.Linear(self.hidden_size, self.output_size)\n",
    "        #self.fc2 = nn.Linear(self.hidden_size, self.output_size)\n",
    "        self.fc2 = nn.Linear(128, self.output_size)\n",
    "\n",
    "    def forward(self, x, h, c):\n",
    "        # x = [batchsize, input_size]\n",
    "        batch_size = x.shape[0]\n",
    "        x = x.view(batch_size, 1, self.input_size)\n",
    "        \n",
    "        output, (h, c) = self.lstm(x, (h, c))\n",
    "        \n",
    "        # output(batch_size, seq_len, num * hidden_size)\n",
    "        rmm1 = self.fc1(output)  # pred(batch_size, 1, output_size)\n",
    "        \n",
    "        output, _ = self.lstm2(output)\n",
    "        rmm2 = self.fc2(output)\n",
    "        \n",
    "        rmm1 = rmm1[:, -1, :]\n",
    "        rmm2 = rmm2[:, -1, :]\n",
    "\n",
    "        return rmm1, rmm2, h, c\n",
    "\n"
   ]
  },
  {
   "cell_type": "code",
   "execution_count": 11,
   "id": "57068a6f",
   "metadata": {},
   "outputs": [],
   "source": [
    "#定义模型\n",
    "class Model(nn.Module):\n",
    "    def __init__(self):\n",
    "        super().__init__()\n",
    "        self.input_size = 1024\n",
    "        self.output_size = 35\n",
    "        self.hidden_size = 1024\n",
    "        self.num_layers = 1\n",
    "        \n",
    "        self.conv1 = nn.Conv2d(3, 16, kernel_size=7, stride=2, padding=3)\n",
    "        self.conv2=CNNBlock(16, 16, 3, 1, 1)\n",
    "        self.conv3=CNNBlock(16, 32, 3, 2, 1)\n",
    "        self.conv4=CNNBlock(32, 32, 3, 1, 1)\n",
    "        self.conv5=CNNBlock(32, 64, 3, 2, 1)\n",
    "        self.conv6=CNNBlock(64, 64, 3, 1, 1)\n",
    "        self.conv7=CNNBlock(64, 128, 3, 2, 1)\n",
    "        self.conv8=CNNBlock(128, 128, 3, 1, 1)\n",
    "        self.conv9=CNNBlock(128, 256, 3, 2, 1)\n",
    "        self.conv10=CNNBlock(256, 256, 3, 1, 1)\n",
    "        \n",
    "        self.avgpool = nn.AdaptiveAvgPool2d((2, 2))#(16,4,69)\n",
    "        self.flatten = nn.Flatten()\n",
    "        \n",
    "        self.Encoder = Encoder(self.input_size, self.hidden_size, self.num_layers)\n",
    "        self.Decoder = Decoder(self.input_size, self.hidden_size, self.num_layers, self.output_size)\n",
    "\n",
    "    def forward(self, x):\n",
    "        \n",
    "        x = x[:, :, :, :, 0:3]\n",
    "        batch_size, seq_len, H, W, C = x.shape\n",
    "        x = x.permute(0, 1, 4, 2, 3).contiguous()\n",
    "        x = x.view(batch_size * seq_len, C, H, W)\n",
    "        \n",
    "        #cnn部分\n",
    "        x = self.conv1(x)\n",
    "        x = self.conv2(x)\n",
    "        x = self.conv3(x)\n",
    "        x = self.conv4(x)\n",
    "        x = self.conv5(x)\n",
    "        x = self.conv6(x)\n",
    "        x = self.conv7(x)\n",
    "        x = self.conv8(x)\n",
    "        x = self.conv9(x)\n",
    "        x = self.conv10(x)\n",
    "\n",
    "        \n",
    "        x = self.avgpool(x)\n",
    "        x = self.flatten(x)\n",
    "        \n",
    "        _, C_new = x.shape\n",
    "        \n",
    "        x = x.view(batch_size, seq_len, C_new)\n",
    "        \n",
    "        \n",
    "        \n",
    "        h, c = self.Encoder(x)\n",
    "        \n",
    "        outputs_rmm1 = torch.zeros(batch_size, seq_len, self.output_size).to(device)\n",
    "        outputs_rmm2 = torch.zeros(batch_size, seq_len, self.output_size).to(device)\n",
    "        \n",
    "        for t in range(seq_len):\n",
    "            _input = x[:, t, :]\n",
    "            \n",
    "            output1, output2, h, c = self.Decoder(_input, h, c)\n",
    "            \n",
    "            outputs_rmm1[:, t, :] = output1\n",
    "            outputs_rmm2[:, t, :] = output2\n",
    "        \n",
    "        rmm1 = outputs_rmm1[:, -1, :]\n",
    "        rmm2 = outputs_rmm2[:, -1, :]\n",
    "        \n",
    "        rmm1 = rmm1.squeeze()\n",
    "        rmm2 = rmm2.squeeze()\n",
    "        \n",
    "        rmm1 = rmm1.unsqueeze(2)\n",
    "        rmm2 = rmm2.unsqueeze(2)\n",
    "\n",
    "        RMM = torch.cat((rmm1, rmm2), dim = 2)\n",
    "        \n",
    "        return RMM\n",
    "\n"
   ]
  },
  {
   "cell_type": "code",
   "execution_count": 12,
   "id": "81c80f04",
   "metadata": {},
   "outputs": [
    {
     "name": "stdout",
     "output_type": "stream",
     "text": [
      "Model(\n",
      "  (conv1): Conv2d(3, 16, kernel_size=(7, 7), stride=(2, 2), padding=(3, 3))\n",
      "  (conv2): CNNBlock(\n",
      "    (bn1): BatchNorm2d(16, eps=1e-05, momentum=0.1, affine=True, track_running_stats=True)\n",
      "    (conv): Conv2d(16, 16, kernel_size=(3, 3), stride=(1, 1), padding=(1, 1))\n",
      "    (bn2): BatchNorm2d(16, eps=1e-05, momentum=0.1, affine=True, track_running_stats=True)\n",
      "  )\n",
      "  (conv3): CNNBlock(\n",
      "    (bn1): BatchNorm2d(16, eps=1e-05, momentum=0.1, affine=True, track_running_stats=True)\n",
      "    (conv): Conv2d(16, 32, kernel_size=(3, 3), stride=(2, 2), padding=(1, 1))\n",
      "    (bn2): BatchNorm2d(32, eps=1e-05, momentum=0.1, affine=True, track_running_stats=True)\n",
      "    (res): Conv2d(16, 32, kernel_size=(1, 1), stride=(2, 2))\n",
      "  )\n",
      "  (conv4): CNNBlock(\n",
      "    (bn1): BatchNorm2d(32, eps=1e-05, momentum=0.1, affine=True, track_running_stats=True)\n",
      "    (conv): Conv2d(32, 32, kernel_size=(3, 3), stride=(1, 1), padding=(1, 1))\n",
      "    (bn2): BatchNorm2d(32, eps=1e-05, momentum=0.1, affine=True, track_running_stats=True)\n",
      "  )\n",
      "  (conv5): CNNBlock(\n",
      "    (bn1): BatchNorm2d(32, eps=1e-05, momentum=0.1, affine=True, track_running_stats=True)\n",
      "    (conv): Conv2d(32, 64, kernel_size=(3, 3), stride=(2, 2), padding=(1, 1))\n",
      "    (bn2): BatchNorm2d(64, eps=1e-05, momentum=0.1, affine=True, track_running_stats=True)\n",
      "    (res): Conv2d(32, 64, kernel_size=(1, 1), stride=(2, 2))\n",
      "  )\n",
      "  (conv6): CNNBlock(\n",
      "    (bn1): BatchNorm2d(64, eps=1e-05, momentum=0.1, affine=True, track_running_stats=True)\n",
      "    (conv): Conv2d(64, 64, kernel_size=(3, 3), stride=(1, 1), padding=(1, 1))\n",
      "    (bn2): BatchNorm2d(64, eps=1e-05, momentum=0.1, affine=True, track_running_stats=True)\n",
      "  )\n",
      "  (conv7): CNNBlock(\n",
      "    (bn1): BatchNorm2d(64, eps=1e-05, momentum=0.1, affine=True, track_running_stats=True)\n",
      "    (conv): Conv2d(64, 128, kernel_size=(3, 3), stride=(2, 2), padding=(1, 1))\n",
      "    (bn2): BatchNorm2d(128, eps=1e-05, momentum=0.1, affine=True, track_running_stats=True)\n",
      "    (res): Conv2d(64, 128, kernel_size=(1, 1), stride=(2, 2))\n",
      "  )\n",
      "  (conv8): CNNBlock(\n",
      "    (bn1): BatchNorm2d(128, eps=1e-05, momentum=0.1, affine=True, track_running_stats=True)\n",
      "    (conv): Conv2d(128, 128, kernel_size=(3, 3), stride=(1, 1), padding=(1, 1))\n",
      "    (bn2): BatchNorm2d(128, eps=1e-05, momentum=0.1, affine=True, track_running_stats=True)\n",
      "  )\n",
      "  (conv9): CNNBlock(\n",
      "    (bn1): BatchNorm2d(128, eps=1e-05, momentum=0.1, affine=True, track_running_stats=True)\n",
      "    (conv): Conv2d(128, 256, kernel_size=(3, 3), stride=(2, 2), padding=(1, 1))\n",
      "    (bn2): BatchNorm2d(256, eps=1e-05, momentum=0.1, affine=True, track_running_stats=True)\n",
      "    (res): Conv2d(128, 256, kernel_size=(1, 1), stride=(2, 2))\n",
      "  )\n",
      "  (conv10): CNNBlock(\n",
      "    (bn1): BatchNorm2d(256, eps=1e-05, momentum=0.1, affine=True, track_running_stats=True)\n",
      "    (conv): Conv2d(256, 256, kernel_size=(3, 3), stride=(1, 1), padding=(1, 1))\n",
      "    (bn2): BatchNorm2d(256, eps=1e-05, momentum=0.1, affine=True, track_running_stats=True)\n",
      "  )\n",
      "  (avgpool): AdaptiveAvgPool2d(output_size=(2, 2))\n",
      "  (flatten): Flatten(start_dim=1, end_dim=-1)\n",
      "  (Encoder): Encoder(\n",
      "    (lstm): LSTM(1024, 1024, batch_first=True)\n",
      "  )\n",
      "  (Decoder): Decoder(\n",
      "    (lstm): LSTM(1024, 1024, batch_first=True)\n",
      "    (lstm2): LSTM(1024, 128, batch_first=True)\n",
      "    (fc1): Linear(in_features=1024, out_features=35, bias=True)\n",
      "    (fc2): Linear(in_features=128, out_features=35, bias=True)\n",
      "  )\n",
      ")\n"
     ]
    }
   ],
   "source": [
    "model = Model()\n",
    "print(model)"
   ]
  },
  {
   "cell_type": "code",
   "execution_count": 13,
   "id": "9a600a10",
   "metadata": {},
   "outputs": [],
   "source": [
    "#cor函数\n",
    "def cor(Y_test,t_preds):\n",
    "    #Y_test = mean_std(Y_test)\n",
    "    #t_preds = mean_std(t_preds)\n",
    "    cor_day = []\n",
    "    a=0\n",
    "    b=0\n",
    "    c=0\n",
    "    score_cor=0\n",
    "    for i in range(0,35):\n",
    "        for j in range(0,len(Y_test)):\n",
    "            a+=(Y_test[j,i,:]*t_preds[j,i,:]).sum()\n",
    "            b+=(Y_test[j,i]**2).sum()\n",
    "            c+=(t_preds[j,i]**2).sum()\n",
    "        b=np.sqrt(b)\n",
    "        c=np.sqrt(c)\n",
    "        cor=a/(b*c)\n",
    "        cor_day.append(cor)\n",
    "        a=0\n",
    "        b=0\n",
    "        c=0\n",
    "    cor_day=np.array(cor_day)\n",
    "    #print(cor_day)\n",
    "    for i in range(0,len(cor_day)):\n",
    "        if cor_day[i]<0.50:\n",
    "            break\n",
    "    score_cor=i\n",
    "    return score_cor\n",
    "\n",
    "def rmse_new(Y_valid,preds):\n",
    "    #Y_valid = mean_std(Y_valid)\n",
    "    #preds = mean_std(preds)\n",
    "    rmse_day = []\n",
    "    a=0\n",
    "    score_rmse=0\n",
    "    for i in range(0,35):\n",
    "        for j in range(0,len(Y_valid)):\n",
    "            a+=(torch.pow((Y_valid[j,i,:]-preds[j,i,:]),2)).sum()\n",
    "        rmse=a/len(Y_valid)\n",
    "        rmse=np.sqrt(rmse)\n",
    "        rmse_day.append(rmse)\n",
    "        a=0\n",
    "    rmse_day=np.array(rmse_day)\n",
    "    #print(rmse_day)\n",
    "    for i in range(0,len(rmse_day)):\n",
    "        if rmse_day[i]>1.40:\n",
    "            break\n",
    "    score_rmse=i\n",
    "    '''\n",
    "    day_cal=np.argwhere(rmse_day<1.40)\n",
    "    print(day_cal)\n",
    "    if len(day_cal)==0:\n",
    "        score_rmse=0\n",
    "    else:\n",
    "        score_rmse=day_cal.max()+1\n",
    "    '''\n",
    "    #score_rmse=rmse_day.max()\n",
    "    return score_rmse\n",
    "\n",
    "def rmse_max(Y_valid,preds):\n",
    "    #Y_valid = mean_std(Y_valid)\n",
    "    #preds = mean_std(preds)\n",
    "    rmse_day = []\n",
    "    a=0\n",
    "    score_rmse=0\n",
    "    for i in range(0,35):\n",
    "        for j in range(0,len(Y_valid)):\n",
    "            a+=(torch.pow((Y_valid[j,i,:]-preds[j,i,:]),2)).sum()\n",
    "        rmse=a/len(Y_valid)\n",
    "        rmse=np.sqrt(rmse)\n",
    "        rmse_day.append(rmse)\n",
    "        a=0\n",
    "    rmse_day=np.array(rmse_day)\n",
    "    score_rmse=rmse_day.max()\n",
    "    return score_rmse"
   ]
  },
  {
   "cell_type": "code",
   "execution_count": 14,
   "id": "1c9c1c1b",
   "metadata": {},
   "outputs": [],
   "source": [
    "#自定义损失函数\n",
    "class My_MSELoss(nn.Module):\n",
    "    def __init__(self):\n",
    "        super(My_MSELoss, self).__init__()\n",
    "        self.mseloss = nn.MSELoss(reduction='mean')\n",
    "\n",
    "    def forward(self, pred, label):\n",
    "        loss1 = self.mseloss(pred[:,:,0], label[:,:,0])\n",
    "        loss2 = self.mseloss(pred[:,:,1], label[:,:,1])\n",
    "        \n",
    "        loss = (loss1 +loss2)/2\n",
    "\n",
    "        return loss\n",
    "\n",
    "\n"
   ]
  },
  {
   "cell_type": "code",
   "execution_count": 15,
   "id": "6c3ef555",
   "metadata": {},
   "outputs": [],
   "source": [
    "#设置参数\n",
    "model_weights = '/WdHeDisk/users/zhangnong/MJO/908_test/cnn_seq2seq_mixed_data_weights.pth'\n",
    "\n",
    "model = Model().to(device)\n",
    "\n",
    "optimizer = optim.Adam(model.parameters(), lr=1e-4, weight_decay=0.001)  # weight_decay是L2正则化参数\n",
    "\n",
    "epochs = 25\n",
    "\n",
    "#criterion = My_MSELoss()\n",
    "criterion = nn.MSELoss()"
   ]
  },
  {
   "cell_type": "code",
   "execution_count": 16,
   "id": "db6a8f58",
   "metadata": {},
   "outputs": [
    {
     "name": "stdout",
     "output_type": "stream",
     "text": [
      "(400, 35, 2)\n"
     ]
    }
   ],
   "source": [
    "train_losses, valid_losses = [], []\n",
    "scores_rmse = []\n",
    "#scores_cor = []\n",
    "best_score1 = float('-inf')\n",
    "best_score2 = float('inf')\n",
    "preds = np.zeros((len(Y_valid),35,2))\n",
    "y_valid=np.zeros((len(Y_valid),35,2))\n",
    "#Y_valid=t.from_numpy(Y_valid)\n",
    "print(preds.shape)"
   ]
  },
  {
   "cell_type": "code",
   "execution_count": 17,
   "id": "916ff116",
   "metadata": {},
   "outputs": [
    {
     "name": "stdout",
     "output_type": "stream",
     "text": [
      "Epoch: 1/25\n"
     ]
    },
    {
     "name": "stderr",
     "output_type": "stream",
     "text": [
      "100%|███████████████████████████████████████| 1175/1175 [01:23<00:00, 14.12it/s]\n"
     ]
    },
    {
     "name": "stdout",
     "output_type": "stream",
     "text": [
      "Training Loss: 0.236\n"
     ]
    },
    {
     "name": "stderr",
     "output_type": "stream",
     "text": [
      "25it [00:00, 55.99it/s]\n"
     ]
    },
    {
     "name": "stdout",
     "output_type": "stream",
     "text": [
      "Validation Loss: 0.325\n",
      "day_rmse: 34\n",
      "day_cor: 5\n",
      "rmse_max: 0.971\n",
      "best_day:5\n",
      "best_rmse:0.971\n",
      "Epoch: 2/25\n"
     ]
    },
    {
     "name": "stderr",
     "output_type": "stream",
     "text": [
      "100%|███████████████████████████████████████| 1175/1175 [01:15<00:00, 15.47it/s]\n"
     ]
    },
    {
     "name": "stdout",
     "output_type": "stream",
     "text": [
      "Training Loss: 0.173\n"
     ]
    },
    {
     "name": "stderr",
     "output_type": "stream",
     "text": [
      "25it [00:00, 68.48it/s]\n"
     ]
    },
    {
     "name": "stdout",
     "output_type": "stream",
     "text": [
      "Validation Loss: 0.308\n",
      "day_rmse: 34\n",
      "day_cor: 8\n",
      "rmse_max: 0.927\n",
      "best_day:8\n",
      "best_rmse:0.927\n",
      "Epoch: 3/25\n"
     ]
    },
    {
     "name": "stderr",
     "output_type": "stream",
     "text": [
      "100%|███████████████████████████████████████| 1175/1175 [01:16<00:00, 15.41it/s]\n"
     ]
    },
    {
     "name": "stdout",
     "output_type": "stream",
     "text": [
      "Training Loss: 0.152\n"
     ]
    },
    {
     "name": "stderr",
     "output_type": "stream",
     "text": [
      "25it [00:00, 50.96it/s]\n"
     ]
    },
    {
     "name": "stdout",
     "output_type": "stream",
     "text": [
      "Validation Loss: 0.308\n",
      "day_rmse: 34\n",
      "day_cor: 10\n",
      "rmse_max: 0.933\n",
      "best_day:10\n",
      "best_rmse:0.933\n",
      "Epoch: 4/25\n"
     ]
    },
    {
     "name": "stderr",
     "output_type": "stream",
     "text": [
      "100%|███████████████████████████████████████| 1175/1175 [01:14<00:00, 15.85it/s]\n"
     ]
    },
    {
     "name": "stdout",
     "output_type": "stream",
     "text": [
      "Training Loss: 0.139\n"
     ]
    },
    {
     "name": "stderr",
     "output_type": "stream",
     "text": [
      "25it [00:00, 51.61it/s]\n"
     ]
    },
    {
     "name": "stdout",
     "output_type": "stream",
     "text": [
      "Validation Loss: 0.301\n",
      "day_rmse: 34\n",
      "day_cor: 10\n",
      "rmse_max: 0.919\n",
      "best_day:10\n",
      "best_rmse:0.919\n",
      "Epoch: 5/25\n"
     ]
    },
    {
     "name": "stderr",
     "output_type": "stream",
     "text": [
      "100%|███████████████████████████████████████| 1175/1175 [01:13<00:00, 15.94it/s]\n"
     ]
    },
    {
     "name": "stdout",
     "output_type": "stream",
     "text": [
      "Training Loss: 0.131\n"
     ]
    },
    {
     "name": "stderr",
     "output_type": "stream",
     "text": [
      "25it [00:00, 50.74it/s]\n"
     ]
    },
    {
     "name": "stdout",
     "output_type": "stream",
     "text": [
      "Validation Loss: 0.298\n",
      "day_rmse: 34\n",
      "day_cor: 10\n",
      "rmse_max: 0.915\n",
      "best_day:10\n",
      "best_rmse:0.915\n",
      "Epoch: 6/25\n"
     ]
    },
    {
     "name": "stderr",
     "output_type": "stream",
     "text": [
      "100%|███████████████████████████████████████| 1175/1175 [01:14<00:00, 15.80it/s]\n"
     ]
    },
    {
     "name": "stdout",
     "output_type": "stream",
     "text": [
      "Training Loss: 0.125\n"
     ]
    },
    {
     "name": "stderr",
     "output_type": "stream",
     "text": [
      "25it [00:00, 50.45it/s]\n"
     ]
    },
    {
     "name": "stdout",
     "output_type": "stream",
     "text": [
      "Validation Loss: 0.289\n",
      "day_rmse: 34\n",
      "day_cor: 12\n",
      "rmse_max: 0.883\n",
      "best_day:12\n",
      "best_rmse:0.883\n",
      "Epoch: 7/25\n"
     ]
    },
    {
     "name": "stderr",
     "output_type": "stream",
     "text": [
      "100%|███████████████████████████████████████| 1175/1175 [01:13<00:00, 16.00it/s]\n"
     ]
    },
    {
     "name": "stdout",
     "output_type": "stream",
     "text": [
      "Training Loss: 0.121\n"
     ]
    },
    {
     "name": "stderr",
     "output_type": "stream",
     "text": [
      "25it [00:00, 68.64it/s]\n"
     ]
    },
    {
     "name": "stdout",
     "output_type": "stream",
     "text": [
      "Validation Loss: 0.282\n",
      "day_rmse: 34\n",
      "day_cor: 12\n",
      "rmse_max: 0.865\n",
      "best_day:12\n",
      "best_rmse:0.865\n",
      "Epoch: 8/25\n"
     ]
    },
    {
     "name": "stderr",
     "output_type": "stream",
     "text": [
      "100%|███████████████████████████████████████| 1175/1175 [01:11<00:00, 16.50it/s]\n"
     ]
    },
    {
     "name": "stdout",
     "output_type": "stream",
     "text": [
      "Training Loss: 0.117\n"
     ]
    },
    {
     "name": "stderr",
     "output_type": "stream",
     "text": [
      "25it [00:00, 51.10it/s]\n"
     ]
    },
    {
     "name": "stdout",
     "output_type": "stream",
     "text": [
      "Validation Loss: 0.260\n",
      "day_rmse: 34\n",
      "day_cor: 21\n",
      "rmse_max: 0.809\n",
      "best_day:21\n",
      "best_rmse:0.809\n",
      "Epoch: 9/25\n"
     ]
    },
    {
     "name": "stderr",
     "output_type": "stream",
     "text": [
      "100%|███████████████████████████████████████| 1175/1175 [01:13<00:00, 15.99it/s]\n"
     ]
    },
    {
     "name": "stdout",
     "output_type": "stream",
     "text": [
      "Training Loss: 0.114\n"
     ]
    },
    {
     "name": "stderr",
     "output_type": "stream",
     "text": [
      "25it [00:00, 56.73it/s]\n"
     ]
    },
    {
     "name": "stdout",
     "output_type": "stream",
     "text": [
      "Validation Loss: 0.220\n",
      "day_rmse: 34\n",
      "day_cor: 34\n",
      "rmse_max: 0.718\n",
      "best_day:34\n",
      "best_rmse:0.718\n",
      "Epoch: 10/25\n"
     ]
    },
    {
     "name": "stderr",
     "output_type": "stream",
     "text": [
      "100%|███████████████████████████████████████| 1175/1175 [01:13<00:00, 15.99it/s]\n"
     ]
    },
    {
     "name": "stdout",
     "output_type": "stream",
     "text": [
      "Training Loss: 0.112\n"
     ]
    },
    {
     "name": "stderr",
     "output_type": "stream",
     "text": [
      "25it [00:00, 50.87it/s]\n"
     ]
    },
    {
     "name": "stdout",
     "output_type": "stream",
     "text": [
      "Validation Loss: 0.237\n",
      "day_rmse: 34\n",
      "day_cor: 18\n",
      "rmse_max: 0.751\n",
      "best_day:34\n",
      "best_rmse:0.718\n",
      "Epoch: 11/25\n"
     ]
    },
    {
     "name": "stderr",
     "output_type": "stream",
     "text": [
      "100%|███████████████████████████████████████| 1175/1175 [01:11<00:00, 16.38it/s]\n"
     ]
    },
    {
     "name": "stdout",
     "output_type": "stream",
     "text": [
      "Training Loss: 0.109\n"
     ]
    },
    {
     "name": "stderr",
     "output_type": "stream",
     "text": [
      "25it [00:00, 51.54it/s]\n"
     ]
    },
    {
     "name": "stdout",
     "output_type": "stream",
     "text": [
      "Validation Loss: 0.255\n",
      "day_rmse: 34\n",
      "day_cor: 13\n",
      "rmse_max: 0.824\n",
      "best_day:34\n",
      "best_rmse:0.718\n",
      "Epoch: 12/25\n"
     ]
    },
    {
     "name": "stderr",
     "output_type": "stream",
     "text": [
      "100%|███████████████████████████████████████| 1175/1175 [01:13<00:00, 16.09it/s]\n"
     ]
    },
    {
     "name": "stdout",
     "output_type": "stream",
     "text": [
      "Training Loss: 0.108\n"
     ]
    },
    {
     "name": "stderr",
     "output_type": "stream",
     "text": [
      "25it [00:00, 50.63it/s]\n"
     ]
    },
    {
     "name": "stdout",
     "output_type": "stream",
     "text": [
      "Validation Loss: 0.277\n",
      "day_rmse: 34\n",
      "day_cor: 7\n",
      "rmse_max: 0.886\n",
      "best_day:34\n",
      "best_rmse:0.718\n",
      "Epoch: 13/25\n"
     ]
    },
    {
     "name": "stderr",
     "output_type": "stream",
     "text": [
      "100%|███████████████████████████████████████| 1175/1175 [01:13<00:00, 16.06it/s]\n"
     ]
    },
    {
     "name": "stdout",
     "output_type": "stream",
     "text": [
      "Training Loss: 0.106\n"
     ]
    },
    {
     "name": "stderr",
     "output_type": "stream",
     "text": [
      "25it [00:00, 49.99it/s]\n"
     ]
    },
    {
     "name": "stdout",
     "output_type": "stream",
     "text": [
      "Validation Loss: 0.282\n",
      "day_rmse: 34\n",
      "day_cor: 5\n",
      "rmse_max: 0.910\n",
      "best_day:34\n",
      "best_rmse:0.718\n",
      "Epoch: 14/25\n"
     ]
    },
    {
     "name": "stderr",
     "output_type": "stream",
     "text": [
      "100%|███████████████████████████████████████| 1175/1175 [01:12<00:00, 16.17it/s]\n"
     ]
    },
    {
     "name": "stdout",
     "output_type": "stream",
     "text": [
      "Training Loss: 0.105\n"
     ]
    },
    {
     "name": "stderr",
     "output_type": "stream",
     "text": [
      "25it [00:00, 51.20it/s]\n"
     ]
    },
    {
     "name": "stdout",
     "output_type": "stream",
     "text": [
      "Validation Loss: 0.283\n",
      "day_rmse: 34\n",
      "day_cor: 8\n",
      "rmse_max: 0.903\n",
      "best_day:34\n",
      "best_rmse:0.718\n",
      "Epoch: 15/25\n"
     ]
    },
    {
     "name": "stderr",
     "output_type": "stream",
     "text": [
      "100%|███████████████████████████████████████| 1175/1175 [01:12<00:00, 16.13it/s]\n"
     ]
    },
    {
     "name": "stdout",
     "output_type": "stream",
     "text": [
      "Training Loss: 0.104\n"
     ]
    },
    {
     "name": "stderr",
     "output_type": "stream",
     "text": [
      "25it [00:00, 50.89it/s]\n"
     ]
    },
    {
     "name": "stdout",
     "output_type": "stream",
     "text": [
      "Validation Loss: 0.281\n",
      "day_rmse: 34\n",
      "day_cor: 6\n",
      "rmse_max: 0.895\n",
      "best_day:34\n",
      "best_rmse:0.718\n",
      "Epoch: 16/25\n"
     ]
    },
    {
     "name": "stderr",
     "output_type": "stream",
     "text": [
      "100%|███████████████████████████████████████| 1175/1175 [01:13<00:00, 15.89it/s]\n"
     ]
    },
    {
     "name": "stdout",
     "output_type": "stream",
     "text": [
      "Training Loss: 0.102\n"
     ]
    },
    {
     "name": "stderr",
     "output_type": "stream",
     "text": [
      "25it [00:00, 51.85it/s]\n"
     ]
    },
    {
     "name": "stdout",
     "output_type": "stream",
     "text": [
      "Validation Loss: 0.278\n",
      "day_rmse: 34\n",
      "day_cor: 6\n",
      "rmse_max: 0.911\n",
      "best_day:34\n",
      "best_rmse:0.718\n",
      "Epoch: 17/25\n"
     ]
    },
    {
     "name": "stderr",
     "output_type": "stream",
     "text": [
      "100%|███████████████████████████████████████| 1175/1175 [01:13<00:00, 16.00it/s]\n"
     ]
    },
    {
     "name": "stdout",
     "output_type": "stream",
     "text": [
      "Training Loss: 0.101\n"
     ]
    },
    {
     "name": "stderr",
     "output_type": "stream",
     "text": [
      "25it [00:00, 51.24it/s]\n"
     ]
    },
    {
     "name": "stdout",
     "output_type": "stream",
     "text": [
      "Validation Loss: 0.276\n",
      "day_rmse: 34\n",
      "day_cor: 9\n",
      "rmse_max: 0.847\n",
      "best_day:34\n",
      "best_rmse:0.718\n",
      "Epoch: 18/25\n"
     ]
    },
    {
     "name": "stderr",
     "output_type": "stream",
     "text": [
      "100%|███████████████████████████████████████| 1175/1175 [01:13<00:00, 16.06it/s]\n"
     ]
    },
    {
     "name": "stdout",
     "output_type": "stream",
     "text": [
      "Training Loss: 0.101\n"
     ]
    },
    {
     "name": "stderr",
     "output_type": "stream",
     "text": [
      "25it [00:00, 54.99it/s]\n"
     ]
    },
    {
     "name": "stdout",
     "output_type": "stream",
     "text": [
      "Validation Loss: 0.264\n",
      "day_rmse: 34\n",
      "day_cor: 10\n",
      "rmse_max: 0.855\n",
      "best_day:34\n",
      "best_rmse:0.718\n",
      "Epoch: 19/25\n"
     ]
    },
    {
     "name": "stderr",
     "output_type": "stream",
     "text": [
      "100%|███████████████████████████████████████| 1175/1175 [01:13<00:00, 15.95it/s]\n"
     ]
    },
    {
     "name": "stdout",
     "output_type": "stream",
     "text": [
      "Training Loss: 0.100\n"
     ]
    },
    {
     "name": "stderr",
     "output_type": "stream",
     "text": [
      "25it [00:00, 50.61it/s]\n"
     ]
    },
    {
     "name": "stdout",
     "output_type": "stream",
     "text": [
      "Validation Loss: 0.262\n",
      "day_rmse: 34\n",
      "day_cor: 12\n",
      "rmse_max: 0.854\n",
      "best_day:34\n",
      "best_rmse:0.718\n",
      "Epoch: 20/25\n"
     ]
    },
    {
     "name": "stderr",
     "output_type": "stream",
     "text": [
      "100%|███████████████████████████████████████| 1175/1175 [01:13<00:00, 15.98it/s]\n"
     ]
    },
    {
     "name": "stdout",
     "output_type": "stream",
     "text": [
      "Training Loss: 0.099\n"
     ]
    },
    {
     "name": "stderr",
     "output_type": "stream",
     "text": [
      "25it [00:00, 51.25it/s]\n"
     ]
    },
    {
     "name": "stdout",
     "output_type": "stream",
     "text": [
      "Validation Loss: 0.258\n",
      "day_rmse: 34\n",
      "day_cor: 13\n",
      "rmse_max: 0.834\n",
      "best_day:34\n",
      "best_rmse:0.718\n",
      "Epoch: 21/25\n"
     ]
    },
    {
     "name": "stderr",
     "output_type": "stream",
     "text": [
      "100%|███████████████████████████████████████| 1175/1175 [01:11<00:00, 16.39it/s]\n"
     ]
    },
    {
     "name": "stdout",
     "output_type": "stream",
     "text": [
      "Training Loss: 0.098\n"
     ]
    },
    {
     "name": "stderr",
     "output_type": "stream",
     "text": [
      "25it [00:00, 51.70it/s]\n"
     ]
    },
    {
     "name": "stdout",
     "output_type": "stream",
     "text": [
      "Validation Loss: 0.256\n",
      "day_rmse: 34\n",
      "day_cor: 13\n",
      "rmse_max: 0.812\n",
      "best_day:34\n",
      "best_rmse:0.718\n",
      "Epoch: 22/25\n"
     ]
    },
    {
     "name": "stderr",
     "output_type": "stream",
     "text": [
      "100%|███████████████████████████████████████| 1175/1175 [01:13<00:00, 16.09it/s]\n"
     ]
    },
    {
     "name": "stdout",
     "output_type": "stream",
     "text": [
      "Training Loss: 0.098\n"
     ]
    },
    {
     "name": "stderr",
     "output_type": "stream",
     "text": [
      "25it [00:00, 51.23it/s]\n"
     ]
    },
    {
     "name": "stdout",
     "output_type": "stream",
     "text": [
      "Validation Loss: 0.247\n",
      "day_rmse: 34\n",
      "day_cor: 14\n",
      "rmse_max: 0.793\n",
      "best_day:34\n",
      "best_rmse:0.718\n",
      "Epoch: 23/25\n"
     ]
    },
    {
     "name": "stderr",
     "output_type": "stream",
     "text": [
      "100%|███████████████████████████████████████| 1175/1175 [01:14<00:00, 15.84it/s]\n"
     ]
    },
    {
     "name": "stdout",
     "output_type": "stream",
     "text": [
      "Training Loss: 0.097\n"
     ]
    },
    {
     "name": "stderr",
     "output_type": "stream",
     "text": [
      "25it [00:00, 51.66it/s]\n"
     ]
    },
    {
     "name": "stdout",
     "output_type": "stream",
     "text": [
      "Validation Loss: 0.255\n",
      "day_rmse: 34\n",
      "day_cor: 12\n",
      "rmse_max: 0.834\n",
      "best_day:34\n",
      "best_rmse:0.718\n",
      "Epoch: 24/25\n"
     ]
    },
    {
     "name": "stderr",
     "output_type": "stream",
     "text": [
      "100%|███████████████████████████████████████| 1175/1175 [01:13<00:00, 15.94it/s]\n"
     ]
    },
    {
     "name": "stdout",
     "output_type": "stream",
     "text": [
      "Training Loss: 0.097\n"
     ]
    },
    {
     "name": "stderr",
     "output_type": "stream",
     "text": [
      "25it [00:00, 52.13it/s]\n"
     ]
    },
    {
     "name": "stdout",
     "output_type": "stream",
     "text": [
      "Validation Loss: 0.249\n",
      "day_rmse: 34\n",
      "day_cor: 15\n",
      "rmse_max: 0.842\n",
      "best_day:34\n",
      "best_rmse:0.718\n",
      "Epoch: 25/25\n"
     ]
    },
    {
     "name": "stderr",
     "output_type": "stream",
     "text": [
      "100%|███████████████████████████████████████| 1175/1175 [01:13<00:00, 16.03it/s]\n"
     ]
    },
    {
     "name": "stdout",
     "output_type": "stream",
     "text": [
      "Training Loss: 0.096\n"
     ]
    },
    {
     "name": "stderr",
     "output_type": "stream",
     "text": [
      "25it [00:00, 51.32it/s]\n"
     ]
    },
    {
     "name": "stdout",
     "output_type": "stream",
     "text": [
      "Validation Loss: 0.243\n",
      "day_rmse: 34\n",
      "day_cor: 19\n",
      "rmse_max: 0.803\n",
      "best_day:34\n",
      "best_rmse:0.718\n"
     ]
    }
   ],
   "source": [
    "#模型训练\n",
    "for epoch in range(epochs):\n",
    "    print('Epoch: {}/{}'.format(epoch+1, epochs))\n",
    "    model.train()\n",
    "    losses = 0\n",
    "    for data1, labels in tqdm(trainloader):\n",
    "        data1 = data1.to(device)\n",
    "        labels = labels.to(device)\n",
    "        model.zero_grad()\n",
    "        #optimizer.zero_grad()\n",
    "        pred = model(data1)\n",
    "        #print('pred.size:',pred.size())\n",
    "        #pred= pred.permute(0,2,1).contiguous()\n",
    "        loss = criterion(pred, labels)\n",
    "        losses += loss.cpu().detach().numpy()\n",
    "        #print(pred.dtype)\n",
    "        #print(labels.dtype)\n",
    "        #print(loss.dtype)\n",
    "        loss.backward()\n",
    "        optimizer.step()\n",
    "        #scheduler.step()\n",
    "    train_loss = losses / len(trainloader)\n",
    "    train_losses.append(train_loss)\n",
    "    print('Training Loss: {:.3f}'.format(train_loss))\n",
    "# 模型验证\n",
    "    model.eval()\n",
    "    losses = 0\n",
    "    s=0\n",
    "    ss=0\n",
    "    s_rmse=0\n",
    "    with torch.no_grad():\n",
    "        for i, data in tqdm(enumerate(validloader)):\n",
    "            data1, labels = data\n",
    "            data1 = data1.to(device)\n",
    "            y_valid[i*batch_size:(i+1)*batch_size]=labels.detach().cpu()\n",
    "            labels = labels.to(device)\n",
    "            pred = model(data1)\n",
    "\n",
    "            #pred= pred.permute(0,2,1).contiguous()\n",
    "            loss = criterion(pred, labels)\n",
    "            #print('loss:',loss)\n",
    "            losses += loss.cpu().detach().numpy()\n",
    "            preds[i*batch_size:(i+1)*batch_size] = pred.detach().cpu()\n",
    "        valid_loss = losses / len(validloader)\n",
    "        valid_losses.append(valid_loss)\n",
    "        print('Validation Loss: {:.3f}'.format(valid_loss))\n",
    "    #print(len(valid_losses))\n",
    "        preds=torch.as_tensor(preds)\n",
    "        y_valid=torch.as_tensor(y_valid)\n",
    "    #print(preds.dtype,Y_valid.dtype)\n",
    "    #print(len(preds))\n",
    "    #print(len(preds[1]))\n",
    "        s=rmse_new(y_valid,preds)\n",
    "    #s=rmse(Y_valid,preds)\n",
    "    #s=rmse_caluate(Y_valid,preds)\n",
    "        ss=cor(y_valid,preds)\n",
    "        s_rmse=rmse_max(y_valid,preds)\n",
    "    #s.item()\n",
    "    #print(s)\n",
    "    #s=score_rmse(Y_valid,preds)\n",
    "        scores_rmse.append(s)\n",
    "    #scores_cor.append(ss)\n",
    "        print('day_rmse: {:}'.format(s))\n",
    "        print('day_cor: {:}'.format(ss))\n",
    "        print('rmse_max: {:.3f}'.format(s_rmse))\n",
    "    #print('Score_cor: {:.3f}'.format(ss))\n",
    "# 保存最佳模型权重\n",
    "    #s=s.numpy()\n",
    "    #ss=ss.numpy()\n",
    "    #fina_score=score(s,ss)\n",
    "    #print(s.type)\n",
    "    #print(ss.type)\n",
    "    final_s=min(s,ss)\n",
    "    if (final_s > best_score1) :\n",
    "        best_score1 = final_s\n",
    "        best_score2 = s_rmse\n",
    "        #best_score2 = ss\n",
    "        checkpoint = {'best_score': best_score1,'state_dict': model.state_dict()}\n",
    "        torch.save(checkpoint, model_weights)\n",
    "    if (final_s==best_score1)&(s_rmse < best_score2):\n",
    "        best_score1 = final_s\n",
    "        best_score2 = s_rmse\n",
    "        #best_score2 = ss\n",
    "        checkpoint = {'best_score': best_score1,'state_dict': model.state_dict()}\n",
    "        torch.save(checkpoint, model_weights) \n",
    "    print('best_day:{:}'.format(best_score1))\n",
    "    print('best_rmse:{:.3f}'.format(best_score2))\n",
    "    #scheduler.step()"
   ]
  },
  {
   "cell_type": "code",
   "execution_count": 18,
   "id": "acd96b40",
   "metadata": {},
   "outputs": [],
   "source": [
    "# 绘制训练/验证曲线\n",
    "def training_vis(train_losses, valid_losses):\n",
    "    # 绘制损失函数曲线\n",
    "    fig = plt.figure(figsize=(8,4))\n",
    "    # subplot loss\n",
    "    ax1 = fig.add_subplot(121)\n",
    "    ax1.plot(train_losses, label='train_loss')\n",
    "    ax1.plot(valid_losses,label='val_loss')\n",
    "    ax1.set_xlabel('Epochs')\n",
    "    ax1.set_ylabel('Loss')\n",
    "    ax1.set_title('Loss on Training and Validation Data')\n",
    "    ax1.legend()\n",
    "    plt.tight_layout()"
   ]
  },
  {
   "cell_type": "code",
   "execution_count": 19,
   "id": "48e46bc3",
   "metadata": {},
   "outputs": [
    {
     "data": {
      "image/png": "[encoded data removed]",
      "text/plain": [
       "<Figure size 576x288 with 1 Axes>"
      ]
     },
     "metadata": {
      "needs_background": "light"
     },
     "output_type": "display_data"
    }
   ],
   "source": [
    "training_vis(train_losses, valid_losses)"
   ]
  },
  {
   "cell_type": "code",
   "execution_count": 20,
   "id": "52c0a286",
   "metadata": {},
   "outputs": [
    {
     "data": {
      "text/plain": [
       "<All keys matched successfully>"
      ]
     },
     "execution_count": 20,
     "metadata": {},
     "output_type": "execute_result"
    }
   ],
   "source": [
    "# 加载最佳模型权重\n",
    "checkpoint = torch.load('/WdHeDisk/users/zhangnong/MJO/908_test/cnn_seq2seq_mixed_data_weights.pth')\n",
    "model = Model()\n",
    "model.load_state_dict(checkpoint['state_dict'])"
   ]
  },
  {
   "cell_type": "code",
   "execution_count": 21,
   "id": "523e6eb8",
   "metadata": {},
   "outputs": [],
   "source": [
    "#测试集300\n",
    "X1_test_300=X_test\n",
    "Y_test_300=Y_test"
   ]
  },
  {
   "cell_type": "code",
   "execution_count": 22,
   "id": "e8f5a3df",
   "metadata": {},
   "outputs": [],
   "source": [
    "testset = MJODataset(X1_test_300, Y_test_300)\n",
    "testloader = DataLoader(testset, batch_size=batch_size, shuffle=False)"
   ]
  },
  {
   "cell_type": "code",
   "execution_count": 23,
   "id": "a9b7fc4c",
   "metadata": {},
   "outputs": [],
   "source": [
    "Y_test_300=t.from_numpy(Y_test_300)"
   ]
  },
  {
   "cell_type": "code",
   "execution_count": 24,
   "id": "aa90fd97",
   "metadata": {},
   "outputs": [
    {
     "name": "stderr",
     "output_type": "stream",
     "text": [
      "25it [00:00, 48.16it/s]\n"
     ]
    },
    {
     "name": "stdout",
     "output_type": "stream",
     "text": [
      "Score_rmse: 34.000\n",
      "Score_cor: 26.000\n"
     ]
    }
   ],
   "source": [
    "# 在测试集上评估模型效果\n",
    "model.eval()\n",
    "model.to(device)\n",
    "t_scores_rmse=[]\n",
    "#t_scores_cor=[]\n",
    "t_s=0\n",
    "#t_ss=0\n",
    "t_preds = np.zeros((len(Y_test_300),35,2))\n",
    "for i, data in tqdm(enumerate(testloader)):\n",
    "    data1, labels = data\n",
    "    data1 = data1.to(device)\n",
    "    labels = labels.to(device)\n",
    "    t_pred = model(data1)\n",
    "    #t_pred= t_pred.permute(0,2,1).contiguous()\n",
    "    t_preds[i*batch_size:(i+1)*batch_size] = t_pred.detach().cpu()\n",
    "t_preds=torch.as_tensor(t_preds)\n",
    "#t_s=rmse(Y_test,t_preds)\n",
    "t_s=rmse_new(Y_test_300,t_preds)\n",
    "t_ss=cor(Y_test_300,t_preds)\n",
    "t_scores_rmse.append(t_s)\n",
    "#t_scores_cor.append(t_ss)\n",
    "print('Score_rmse: {:.3f}'.format(t_s))\n",
    "print('Score_cor: {:.3f}'.format(t_ss))"
   ]
  },
  {
   "cell_type": "code",
   "execution_count": 25,
   "id": "fed01c31",
   "metadata": {},
   "outputs": [],
   "source": [
    "t_preds=t_preds.numpy()\n",
    "Y_test_300=Y_test_300.numpy()\n",
    "#绘制30条数据的rmm指数预测区别，预测和真实值预测\n",
    "def rmm1_vis_30(Y_test,t_preds,index):\n",
    "    fig = plt.figure(figsize=(8,4))\n",
    "    ax1 = fig.add_subplot(121)\n",
    "    ax1.plot(Y_test[index,:,0], label='RMM1:true')\n",
    "    ax1.plot(t_preds[index,:,0], label='RMM1:pred')\n",
    "    ax1.set_xlabel('time')\n",
    "    ax1.set_ylabel('rmm1')\n",
    "    ax1.set_title('RMM1 on truth and prediction data with time')\n",
    "    ax1.legend()\n",
    "    plt.tight_layout()\n",
    "\n",
    "def rmm2_vis_30(Y_test,t_preds,index):\n",
    "    fig = plt.figure(figsize=(8,4))\n",
    "    ax1 = fig.add_subplot(121)\n",
    "    ax1.plot(Y_test[index,:,1], label='RMM2:true')\n",
    "    ax1.plot(t_preds[index,:,1], label='RMM2:pred')\n",
    "    ax1.set_xlabel('time')\n",
    "    ax1.set_ylabel('rmm2')\n",
    "    ax1.set_title('RMM2 on truth and prediction data with time')\n",
    "    ax1.legend()\n",
    "    plt.tight_layout()"
   ]
  },
  {
   "cell_type": "code",
   "execution_count": 26,
   "id": "3be2dbe3",
   "metadata": {},
   "outputs": [
    {
     "name": "stdout",
     "output_type": "stream",
     "text": [
      "(400, 35, 2)\n"
     ]
    }
   ],
   "source": [
    "print(t_preds.shape)"
   ]
  },
  {
   "cell_type": "code",
   "execution_count": 27,
   "id": "76e92aa6",
   "metadata": {},
   "outputs": [],
   "source": [
    "#np.save('/WdHeDisk/users/zhangnong/MJO/913_test/data/pred_data.npy', t_preds)"
   ]
  },
  {
   "cell_type": "code",
   "execution_count": 28,
   "id": "cbbf98bb",
   "metadata": {},
   "outputs": [
    {
     "data": {
      "image/png": "[encoded data removed]",
      "text/plain": [
       "<Figure size 576x288 with 1 Axes>"
      ]
     },
     "metadata": {
      "needs_background": "light"
     },
     "output_type": "display_data"
    },
    {
     "data": {
      "image/png": "[encoded data removed]",
      "text/plain": [
       "<Figure size 576x288 with 1 Axes>"
      ]
     },
     "metadata": {
      "needs_background": "light"
     },
     "output_type": "display_data"
    }
   ],
   "source": [
    "index=0 #可以取0～3200\n",
    "rmm1_vis_30(Y_test_300,t_preds,index)\n",
    "rmm2_vis_30(Y_test_300,t_preds,index)"
   ]
  },
  {
   "cell_type": "code",
   "execution_count": 29,
   "id": "75fac9aa",
   "metadata": {},
   "outputs": [],
   "source": [
    "#cor评价指标\n",
    "def cor_caluate(Y_test,t_preds):\n",
    "    cor_day = []\n",
    "    a=0\n",
    "    b=0\n",
    "    c=0\n",
    "    for i in range(0,35):\n",
    "        for j in range(0,len(Y_test)):\n",
    "            a+=(Y_test[j,i,:]*t_preds[j,i,:]).sum()\n",
    "            b+=(Y_test[j,i]**2).sum()\n",
    "            c+=(t_preds[j,i]**2).sum()\n",
    "        b=np.sqrt(b)\n",
    "        c=np.sqrt(c)\n",
    "        cor=a/(b*c)\n",
    "        cor_day.append(cor)\n",
    "        a=0\n",
    "        b=0\n",
    "        c=0\n",
    "    cor_day=np.array(cor_day)\n",
    "    print(cor_day)\n",
    "    return cor_day"
   ]
  },
  {
   "cell_type": "code",
   "execution_count": 30,
   "id": "06b712a8",
   "metadata": {},
   "outputs": [],
   "source": [
    "#画cor指标\n",
    "def cor_acc(cor_day):\n",
    "    # 绘制损失函数曲线\n",
    "    fig = plt.figure(figsize=(8,4))\n",
    "    # subplot loss\n",
    "    ax1 = fig.add_subplot(121)\n",
    "    ax1.plot(cor_day, label='cor_acc')\n",
    "    ax1.set_xlabel('days')\n",
    "    ax1.set_ylabel('cor')\n",
    "    ax1.set_title('MJO Bivariate Correlation')\n",
    "    ax1.legend()\n",
    "    ax1.axhline(y=0.5,color='red',linewidth=0.85)\n",
    "    plt.tight_layout()"
   ]
  },
  {
   "cell_type": "code",
   "execution_count": 31,
   "id": "50d2a497",
   "metadata": {},
   "outputs": [
    {
     "name": "stdout",
     "output_type": "stream",
     "text": [
      "[0.83446109 0.79743902 0.76329727 0.73248075 0.7100949  0.69666247\n",
      " 0.68892782 0.68155246 0.67571969 0.66933795 0.6663157  0.65396509\n",
      " 0.64643984 0.64180731 0.63019964 0.62369363 0.61940314 0.61559045\n",
      " 0.61262741 0.60644676 0.59683306 0.58324543 0.56476805 0.54600492\n",
      " 0.52732194 0.51188943 0.49836002 0.4951319  0.48966744 0.48836032\n",
      " 0.48872935 0.48828851 0.49052137 0.49180383 0.48428847]\n"
     ]
    },
    {
     "data": {
      "image/png": "[encoded data removed]",
      "text/plain": [
       "<Figure size 576x288 with 1 Axes>"
      ]
     },
     "metadata": {
      "needs_background": "light"
     },
     "output_type": "display_data"
    }
   ],
   "source": [
    "cor_day=cor_caluate(Y_test_300,t_preds)\n",
    "cor_acc(cor_day)"
   ]
  },
  {
   "cell_type": "code",
   "execution_count": 32,
   "id": "b388022a",
   "metadata": {},
   "outputs": [],
   "source": [
    "#rmse评价指标\n",
    "def rmse_caluate(Y_test,t_preds):\n",
    "    rmse_day = []\n",
    "    a=0\n",
    "    for i in range(0,35):\n",
    "        for j in range(0,len(Y_test)):\n",
    "            a+=((Y_test[j,i,:]-t_preds[j,i,:])**2).sum()\n",
    "        rmse=a/len(Y_test)\n",
    "        rmse=np.sqrt(rmse)\n",
    "        rmse_day.append(rmse)\n",
    "        a=0\n",
    "    rmse_day=np.array(rmse_day)\n",
    "    print(rmse_day)\n",
    "    return rmse_day"
   ]
  },
  {
   "cell_type": "code",
   "execution_count": 33,
   "id": "1224af35",
   "metadata": {},
   "outputs": [],
   "source": [
    "#画rmse指标\n",
    "def rmse_acc(rmse_day):\n",
    "    # 绘制损失函数曲线\n",
    "    fig = plt.figure(figsize=(8,4))\n",
    "    # subplot loss\n",
    "    ax1 = fig.add_subplot(121)\n",
    "    ax1.plot(rmse_day, label='rmse_acc')\n",
    "    ax1.set_xlabel('days')\n",
    "    ax1.set_ylabel('rmse')\n",
    "    ax1.set_title('MJO Bivariate Correlation')\n",
    "    ax1.legend()\n",
    "    ax1.axhline(y=1.4,color='red',linewidth=0.85)\n",
    "    plt.tight_layout()"
   ]
  },
  {
   "cell_type": "code",
   "execution_count": 34,
   "id": "afa0766a",
   "metadata": {},
   "outputs": [
    {
     "name": "stdout",
     "output_type": "stream",
     "text": [
      "[0.66020522 0.67247554 0.67960315 0.68038289 0.67592775 0.66517964\n",
      " 0.66014125 0.6573285  0.65787551 0.65844209 0.65945652 0.66601637\n",
      " 0.66805317 0.66696134 0.66758307 0.66678157 0.66559916 0.66493738\n",
      " 0.66311361 0.6643461  0.66295725 0.66220481 0.66514044 0.6651012\n",
      " 0.66547699 0.66454351 0.66368925 0.65996899 0.65698587 0.65064121\n",
      " 0.64553172 0.63902022 0.63121442 0.62608062 0.62538181]\n"
     ]
    },
    {
     "data": {
      "image/png": "[encoded data removed]",
      "text/plain": [
       "<Figure size 576x288 with 1 Axes>"
      ]
     },
     "metadata": {
      "needs_background": "light"
     },
     "output_type": "display_data"
    }
   ],
   "source": [
    "rmse_day=rmse_caluate(Y_test_300,t_preds)\n",
    "rmse_acc(rmse_day)"
   ]
  },
  {
   "cell_type": "code",
   "execution_count": 35,
   "id": "51856da3",
   "metadata": {},
   "outputs": [],
   "source": [
    "#t-preds是预测的，直接和真实rmm比较试试\n",
    "re_Y_test=np.load(path+'re_Y_test'+wei)"
   ]
  },
  {
   "cell_type": "code",
   "execution_count": 36,
   "id": "e54ec7c5",
   "metadata": {},
   "outputs": [
    {
     "name": "stdout",
     "output_type": "stream",
     "text": [
      "[0.86049855 0.82398235 0.79321825 0.76307596 0.74111409 0.72518371\n",
      " 0.71726081 0.70364144 0.69347561 0.67960904 0.66352839 0.6432334\n",
      " 0.62479502 0.60534436 0.5902181  0.57751069 0.57290137 0.56983955\n",
      " 0.56972559 0.57685828 0.58622739 0.58444096 0.56951768 0.55094492\n",
      " 0.52635194 0.49924932 0.46370755 0.42428654 0.3894005  0.34826071\n",
      " 0.31409943 0.28288172 0.25842897 0.23773519 0.22580398]\n"
     ]
    },
    {
     "data": {
      "image/png": "[encoded data removed]",
      "text/plain": [
       "<Figure size 576x288 with 1 Axes>"
      ]
     },
     "metadata": {
      "needs_background": "light"
     },
     "output_type": "display_data"
    }
   ],
   "source": [
    "re_cor_day=cor_caluate(re_Y_test,t_preds)\n",
    "cor_acc(re_cor_day)"
   ]
  },
  {
   "cell_type": "code",
   "execution_count": 37,
   "id": "32ea7cc1",
   "metadata": {},
   "outputs": [
    {
     "name": "stdout",
     "output_type": "stream",
     "text": [
      "[0.9104474  0.96064863 0.99357873 1.01708899 1.03397843 1.05218511\n",
      " 1.07067701 1.08616171 1.10537389 1.12292483 1.14069023 1.16365847\n",
      " 1.18746268 1.2075752  1.22542699 1.24095945 1.24515222 1.24932297\n",
      " 1.24732565 1.25403435 1.25659269 1.26323508 1.28331605 1.29282122\n",
      " 1.30440537 1.31949593 1.33393669 1.33893254 1.34842644 1.36490785\n",
      " 1.37712969 1.38511412 1.39441002 1.39220695 1.38296051]\n"
     ]
    },
    {
     "data": {
      "image/png": "[encoded data removed]",
      "text/plain": [
       "<Figure size 576x288 with 1 Axes>"
      ]
     },
     "metadata": {
      "needs_background": "light"
     },
     "output_type": "display_data"
    }
   ],
   "source": [
    "re_rmse_day=rmse_caluate(re_Y_test,t_preds)\n",
    "rmse_acc(re_rmse_day)"
   ]
  },
  {
   "cell_type": "code",
   "execution_count": 38,
   "id": "8a6f534a",
   "metadata": {},
   "outputs": [],
   "source": [
    "def best_day(cor, rmse):\n",
    "    best_cor = 0\n",
    "    best_rmse = 0\n",
    "    for i in range(len(cor)):\n",
    "        if cor[i] < 0.5:\n",
    "            break\n",
    "    best_cor = i\n",
    "    \n",
    "    for j in range(len(rmse)):\n",
    "        if rmse[j] > 1.4:\n",
    "            break\n",
    "    best_rmse = j\n",
    "    \n",
    "    print('Score_cor: {:.3f} day'.format(best_cor+1))\n",
    "    print('Score_rmse: {:.3f} day'.format(best_rmse+1))"
   ]
  },
  {
   "cell_type": "code",
   "execution_count": 39,
   "id": "b2a301ff",
   "metadata": {},
   "outputs": [
    {
     "name": "stdout",
     "output_type": "stream",
     "text": [
      "Score_cor: 26.000 day\n",
      "Score_rmse: 35.000 day\n"
     ]
    }
   ],
   "source": [
    "best_day(re_cor_day, re_rmse_day)"
   ]
  },
  {
   "cell_type": "code",
   "execution_count": null,
   "id": "68d1ba75",
   "metadata": {},
   "outputs": [],
   "source": []
  }
 ],
 "metadata": {
  "kernelspec": {
   "display_name": "MJO_env_kernel",
   "language": "python",
   "name": "mjo_env"
  },
  "language_info": {
   "codemirror_mode": {
    "name": "ipython",
    "version": 3
   },
   "file_extension": ".py",
   "mimetype": "text/x-python",
   "name": "python",
   "nbconvert_exporter": "python",
   "pygments_lexer": "ipython3",
   "version": "3.8.0"
  }
 },
 "nbformat": 4,
 "nbformat_minor": 5
}
