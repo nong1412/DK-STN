{
 "cells": [
  {
   "cell_type": "code",
   "execution_count": 1,
   "id": "272ae3a2",
   "metadata": {},
   "outputs": [
    {
     "name": "stderr",
     "output_type": "stream",
     "text": [
      "/mnt/miniconda3/envs/MJO_env/lib/python3.8/site-packages/tqdm/auto.py:22: TqdmWarning: IProgress not found. Please update jupyter and ipywidgets. See https://ipywidgets.readthedocs.io/en/stable/user_install.html\n",
      "  from .autonotebook import tqdm as notebook_tqdm\n"
     ]
    }
   ],
   "source": [
    "#导入相关包\n",
    "import numpy as np\n",
    "import torch as t\n",
    "import random\n",
    "import matplotlib.pyplot as plt\n",
    "#import netCDF4\n",
    "import datetime\n",
    "import torch\n",
    "from tqdm import tqdm\n",
    "from torch import nn\n",
    "from torch import optim\n",
    "from torch.autograd import Variable\n",
    "from torch.utils.data import Dataset\n",
    "from torch.utils.data import DataLoader\n",
    "import torch.autograd as autograd\n",
    "import torch.nn.functional as F\n",
    "from einops import rearrange, repeat\n",
    "import os\n",
    "#from config import args\n",
    "#import seaborn as sns\n",
    "#from global_land_mask import globe\n",
    "#from scipy import interpolate\n",
    "#plt.rcParams['font.sans-serif'] = ['SimHei'] #中文支持\n",
    "%matplotlib inline"
   ]
  },
  {
   "cell_type": "code",
   "execution_count": 2,
   "id": "82d20b54",
   "metadata": {},
   "outputs": [],
   "source": [
    "# 固定随机种子\n",
    "SEED = 22\n",
    "\n",
    "def seed_everything(seed):\n",
    "    random.seed(seed)\n",
    "    os.environ['PYTHONHASHSEED'] = str(seed)\n",
    "    np.random.seed(seed)\n",
    "    torch.manual_seed(seed)\n",
    "    torch.cuda.manual_seed(seed)\n",
    "    torch.backends.cudnn.deterministic = True\n",
    "    \n",
    "seed_everything(SEED)"
   ]
  },
  {
   "cell_type": "code",
   "execution_count": 3,
   "id": "bb44d2ff",
   "metadata": {},
   "outputs": [],
   "source": [
    "path='/WdHeDisk/users/zhangnong/MJO/908_test/data/s2s_dataset_for5_5_35/'\n",
    "wei = '_for5_5_35_sample.npy'"
   ]
  },
  {
   "cell_type": "code",
   "execution_count": 4,
   "id": "8130a30e",
   "metadata": {},
   "outputs": [],
   "source": [
    "X_train=np.load(path+'X_train'+wei)\n",
    "Y_train=np.load(path+'Y_train'+wei)\n",
    "X_valid=np.load(path+'X_valid'+wei)\n",
    "Y_valid=np.load(path+'Y_valid'+wei)\n",
    "X_test=np.load(path+'X_test'+wei)\n",
    "Y_test=np.load(path+'Y_test'+wei)"
   ]
  },
  {
   "cell_type": "code",
   "execution_count": 5,
   "id": "3c3c40e4",
   "metadata": {},
   "outputs": [
    {
     "name": "stdout",
     "output_type": "stream",
     "text": [
      "(9200, 5, 13, 144, 4) (9200, 35, 2)\n",
      "(400, 5, 13, 144, 4) (400, 35, 2)\n"
     ]
    }
   ],
   "source": [
    "print(X_train.shape,Y_train.shape)\n",
    "print(X_valid.shape,Y_valid.shape)"
   ]
  },
  {
   "cell_type": "code",
   "execution_count": 6,
   "id": "ae16aa98",
   "metadata": {},
   "outputs": [
    {
     "name": "stdout",
     "output_type": "stream",
     "text": [
      "575\n"
     ]
    }
   ],
   "source": [
    "# 构造数据管道\n",
    "class MJODataset(Dataset):\n",
    "    def __init__(self, data,label):\n",
    "        self.data = torch.tensor(data, dtype=torch.float32)\n",
    "        self.label = torch.tensor(label, dtype=torch.float32)\n",
    "\n",
    "    def __len__(self):\n",
    "        return len(self.label)\n",
    "    \n",
    "    def __getitem__(self, idx):\n",
    "        return self.data[idx],self.label[idx]\n",
    "batch_size = 16\n",
    "#刚刚 batchsize = 32 还不错15～16天，lr = 1e-3， deacy = 0.001 ，数据集是22800， 1600， 1600， 模型三层4096， 1024， 90\n",
    "#无dropout\n",
    "trainset = MJODataset(X_train, Y_train)\n",
    "trainloader = DataLoader(trainset, batch_size=batch_size, shuffle=True)\n",
    "\n",
    "validset = MJODataset(X_valid, Y_valid)\n",
    "validloader = DataLoader(validset, batch_size=batch_size, shuffle=True)\n",
    "\n",
    "testset = MJODataset(X_test, Y_test)\n",
    "testloader = DataLoader(testset, batch_size=batch_size, shuffle=False)\n",
    "print(len(trainloader))"
   ]
  },
  {
   "cell_type": "code",
   "execution_count": 7,
   "id": "17ee37c6",
   "metadata": {},
   "outputs": [],
   "source": [
    "if torch.cuda.is_available():\n",
    "    device=torch.device(\"cuda:1\")\n",
    "else :\n",
    "    device=torch.device(\"cpu\")"
   ]
  },
  {
   "cell_type": "code",
   "execution_count": 8,
   "id": "f01160f9",
   "metadata": {},
   "outputs": [],
   "source": [
    "#cnn模块\n",
    "# 构建CNN单元\n",
    "class CNNBlock(nn.Module):\n",
    "    def __init__(self, in_channels, out_channels, kernel_size, stride, padding):\n",
    "        super().__init__()\n",
    "        self.bn1 = nn.BatchNorm2d(in_channels)\n",
    "        self.conv = nn.Conv2d(in_channels, out_channels, kernel_size, stride, padding)\n",
    "        self.bn2 = nn.BatchNorm2d(out_channels)\n",
    "        \n",
    "        if (in_channels == out_channels) and (stride == 1):\n",
    "            self.res = lambda x: x\n",
    "        else:\n",
    "            self.res = nn.Conv2d(in_channels, out_channels, kernel_size=1, stride=stride)\n",
    "        \n",
    "    def forward(self, x):\n",
    "        # 残差\n",
    "        res = self.res(x)\n",
    "        res = self.bn2(res)\n",
    "\n",
    "        x = F.relu(self.bn1(x))\n",
    "        x = self.conv(x)\n",
    "        x = self.bn2(x)\n",
    "        \n",
    "        x = x + res\n",
    "        \n",
    "        return x"
   ]
  },
  {
   "cell_type": "code",
   "execution_count": 9,
   "id": "6c9a544c",
   "metadata": {},
   "outputs": [],
   "source": [
    "#编码\n",
    "class Encoder(nn.Module):\n",
    "    def __init__(self, input_size, hidden_size, num_layers):\n",
    "        super().__init__()\n",
    "        \n",
    "        self.input_size = input_size\n",
    "        self.hidden_size = hidden_size\n",
    "        self.num_layers = num_layers\n",
    "        self.num_directions = 1\n",
    "        \n",
    "        self.lstm = nn.LSTM(input_size, hidden_size, num_layers, batch_first=True, bidirectional=False)\n",
    "\n",
    "\n",
    "    def forward(self, x):\n",
    "        \n",
    "        batch_size, T, C = x.shape\n",
    "        \n",
    "        h = torch.randn(self.num_directions * self.num_layers, batch_size, self.hidden_size).to(device)\n",
    "        c = torch.randn(self.num_directions * self.num_layers, batch_size, self.hidden_size).to(device)\n",
    "\n",
    "        \n",
    "        #lstm训练\n",
    "        output, (h, c) = self.lstm(x, (h, c))\n",
    "        #output[batch_size, time_squence, hidden_size]\n",
    "        #h[2, batch_size, hidden_size]\n",
    "\n",
    "        return   h, c"
   ]
  },
  {
   "cell_type": "code",
   "execution_count": 10,
   "id": "f8c349c7",
   "metadata": {},
   "outputs": [],
   "source": [
    "#解码\n",
    "class Decoder(nn.Module):\n",
    "    def __init__(self, input_size, hidden_size, num_layers, output_size):\n",
    "        super().__init__()\n",
    "        self.input_size = input_size\n",
    "        self.hidden_size = hidden_size\n",
    "        self.num_layers = num_layers\n",
    "        self.output_size = output_size\n",
    "        #outsize = 45\n",
    "        self.num_directions = 1  \n",
    "        \n",
    "        self.lstm = nn.LSTM(self.input_size, self.hidden_size, self.num_layers, batch_first=True, bidirectional=False)\n",
    "        \n",
    "        self.fc1 = nn.Linear(self.hidden_size, self.output_size)\n",
    "        self.fc2 = nn.Linear(self.hidden_size, self.output_size)\n",
    "        \n",
    "\n",
    "    def forward(self, x, h, c):\n",
    "        # x = [batchsize, input_size]\n",
    "        batch_size = x.shape[0]\n",
    "        x = x.view(batch_size, 1, self.input_size)\n",
    "        \n",
    "        output, (h, c) = self.lstm(x, (h, c))\n",
    "        \n",
    "        # output(batch_size, seq_len, num * hidden_size)\n",
    "        rmm1 = self.fc1(output)  # pred(batch_size, 1, output_size)\n",
    "        rmm2 = self.fc2(output)\n",
    "        \n",
    "        rmm1 = rmm1[:, -1, :]\n",
    "        rmm2 = rmm2[:, -1, :]\n",
    "\n",
    "        return rmm1, rmm2, h, c\n",
    "\n"
   ]
  },
  {
   "cell_type": "code",
   "execution_count": 11,
   "id": "57068a6f",
   "metadata": {},
   "outputs": [],
   "source": [
    "#定义模型\n",
    "class Model(nn.Module):\n",
    "    def __init__(self):\n",
    "        super().__init__()\n",
    "        self.input_size = 576\n",
    "        self.output_size = 35\n",
    "        self.hidden_size = 1024\n",
    "        self.num_layers = 1\n",
    "        \n",
    "        self.conv1 = nn.Conv2d(3, 16, kernel_size=7, stride=2, padding=3)\n",
    "        self.conv2=CNNBlock(16, 16, 3, 1, 1)\n",
    "        self.conv3=CNNBlock(16, 32, 3, 2, 1)\n",
    "        self.conv4=CNNBlock(32, 32, 3, 1, 1)\n",
    "        self.conv5=CNNBlock(32, 64, 3, 2, 1)\n",
    "        self.conv6=CNNBlock(64, 64, 3, 1, 1)\n",
    "\n",
    "        \n",
    "        self.avgpool = nn.AdaptiveAvgPool2d((3, 3))#(16,4,69)\n",
    "        self.flatten = nn.Flatten()\n",
    "        \n",
    "        self.Encoder = Encoder(self.input_size, self.hidden_size, self.num_layers)\n",
    "        self.Decoder = Decoder(self.input_size, self.hidden_size, self.num_layers, self.output_size)\n",
    "\n",
    "    def forward(self, x):\n",
    "        \n",
    "        x = x[:, :, :, :, 0:3]\n",
    "        batch_size, seq_len, H, W, C = x.shape\n",
    "        x = x.permute(0, 1, 4, 2, 3).contiguous()\n",
    "        x = x.view(batch_size * seq_len, C, H, W)\n",
    "        \n",
    "        #cnn部分\n",
    "        x = self.conv1(x)\n",
    "        x = self.conv2(x)\n",
    "        x = self.conv3(x)\n",
    "        x = self.conv4(x)\n",
    "        x = self.conv5(x)\n",
    "        x = self.conv6(x)\n",
    "\n",
    "        \n",
    "        x = self.avgpool(x)\n",
    "        x = self.flatten(x)\n",
    "        \n",
    "        _, C_new = x.shape\n",
    "        \n",
    "        x = x.view(batch_size, seq_len, C_new)\n",
    "        \n",
    "        \n",
    "        \n",
    "        h, c = self.Encoder(x)\n",
    "        \n",
    "        outputs_rmm1 = torch.zeros(batch_size, seq_len, self.output_size).to(device)\n",
    "        outputs_rmm2 = torch.zeros(batch_size, seq_len, self.output_size).to(device)\n",
    "        \n",
    "        for t in range(seq_len):\n",
    "            _input = x[:, t, :]\n",
    "            \n",
    "            output1, output2, h, c = self.Decoder(_input, h, c)\n",
    "            \n",
    "            outputs_rmm1[:, t, :] = output1\n",
    "            outputs_rmm2[:, t, :] = output2\n",
    "        \n",
    "        rmm1 = outputs_rmm1[:, -1, :]\n",
    "        rmm2 = outputs_rmm2[:, -1, :]\n",
    "        \n",
    "        rmm1 = rmm1.squeeze()\n",
    "        rmm2 = rmm2.squeeze()\n",
    "        \n",
    "        rmm1 = rmm1.unsqueeze(2)\n",
    "        rmm2 = rmm2.unsqueeze(2)\n",
    "\n",
    "        RMM = torch.cat((rmm1, rmm2), dim = 2)\n",
    "        \n",
    "        return RMM\n",
    "\n"
   ]
  },
  {
   "cell_type": "code",
   "execution_count": 12,
   "id": "81c80f04",
   "metadata": {},
   "outputs": [
    {
     "name": "stdout",
     "output_type": "stream",
     "text": [
      "Model(\n",
      "  (conv1): Conv2d(3, 16, kernel_size=(7, 7), stride=(2, 2), padding=(3, 3))\n",
      "  (conv2): CNNBlock(\n",
      "    (bn1): BatchNorm2d(16, eps=1e-05, momentum=0.1, affine=True, track_running_stats=True)\n",
      "    (conv): Conv2d(16, 16, kernel_size=(3, 3), stride=(1, 1), padding=(1, 1))\n",
      "    (bn2): BatchNorm2d(16, eps=1e-05, momentum=0.1, affine=True, track_running_stats=True)\n",
      "  )\n",
      "  (conv3): CNNBlock(\n",
      "    (bn1): BatchNorm2d(16, eps=1e-05, momentum=0.1, affine=True, track_running_stats=True)\n",
      "    (conv): Conv2d(16, 32, kernel_size=(3, 3), stride=(2, 2), padding=(1, 1))\n",
      "    (bn2): BatchNorm2d(32, eps=1e-05, momentum=0.1, affine=True, track_running_stats=True)\n",
      "    (res): Conv2d(16, 32, kernel_size=(1, 1), stride=(2, 2))\n",
      "  )\n",
      "  (conv4): CNNBlock(\n",
      "    (bn1): BatchNorm2d(32, eps=1e-05, momentum=0.1, affine=True, track_running_stats=True)\n",
      "    (conv): Conv2d(32, 32, kernel_size=(3, 3), stride=(1, 1), padding=(1, 1))\n",
      "    (bn2): BatchNorm2d(32, eps=1e-05, momentum=0.1, affine=True, track_running_stats=True)\n",
      "  )\n",
      "  (conv5): CNNBlock(\n",
      "    (bn1): BatchNorm2d(32, eps=1e-05, momentum=0.1, affine=True, track_running_stats=True)\n",
      "    (conv): Conv2d(32, 64, kernel_size=(3, 3), stride=(2, 2), padding=(1, 1))\n",
      "    (bn2): BatchNorm2d(64, eps=1e-05, momentum=0.1, affine=True, track_running_stats=True)\n",
      "    (res): Conv2d(32, 64, kernel_size=(1, 1), stride=(2, 2))\n",
      "  )\n",
      "  (conv6): CNNBlock(\n",
      "    (bn1): BatchNorm2d(64, eps=1e-05, momentum=0.1, affine=True, track_running_stats=True)\n",
      "    (conv): Conv2d(64, 64, kernel_size=(3, 3), stride=(1, 1), padding=(1, 1))\n",
      "    (bn2): BatchNorm2d(64, eps=1e-05, momentum=0.1, affine=True, track_running_stats=True)\n",
      "  )\n",
      "  (avgpool): AdaptiveAvgPool2d(output_size=(3, 3))\n",
      "  (flatten): Flatten(start_dim=1, end_dim=-1)\n",
      "  (Encoder): Encoder(\n",
      "    (lstm): LSTM(576, 1024, batch_first=True)\n",
      "  )\n",
      "  (Decoder): Decoder(\n",
      "    (lstm): LSTM(576, 1024, batch_first=True)\n",
      "    (fc1): Linear(in_features=1024, out_features=35, bias=True)\n",
      "    (fc2): Linear(in_features=1024, out_features=35, bias=True)\n",
      "  )\n",
      ")\n"
     ]
    }
   ],
   "source": [
    "model = Model()\n",
    "print(model)"
   ]
  },
  {
   "cell_type": "code",
   "execution_count": 13,
   "id": "9a600a10",
   "metadata": {},
   "outputs": [],
   "source": [
    "#cor函数\n",
    "def cor(Y_test,t_preds):\n",
    "    #Y_test = mean_std(Y_test)\n",
    "    #t_preds = mean_std(t_preds)\n",
    "    cor_day = []\n",
    "    a=0\n",
    "    b=0\n",
    "    c=0\n",
    "    score_cor=0\n",
    "    for i in range(0,35):\n",
    "        for j in range(0,len(Y_test)):\n",
    "            a+=(Y_test[j,i,:]*t_preds[j,i,:]).sum()\n",
    "            b+=(Y_test[j,i]**2).sum()\n",
    "            c+=(t_preds[j,i]**2).sum()\n",
    "        b=np.sqrt(b)\n",
    "        c=np.sqrt(c)\n",
    "        cor=a/(b*c)\n",
    "        cor_day.append(cor)\n",
    "        a=0\n",
    "        b=0\n",
    "        c=0\n",
    "    cor_day=np.array(cor_day)\n",
    "    #print(cor_day)\n",
    "    for i in range(0,len(cor_day)):\n",
    "        if cor_day[i]<0.50:\n",
    "            break\n",
    "    score_cor=i\n",
    "    return score_cor\n",
    "\n",
    "def rmse_new(Y_valid,preds):\n",
    "    #Y_valid = mean_std(Y_valid)\n",
    "    #preds = mean_std(preds)\n",
    "    rmse_day = []\n",
    "    a=0\n",
    "    score_rmse=0\n",
    "    for i in range(0,35):\n",
    "        for j in range(0,len(Y_valid)):\n",
    "            a+=(torch.pow((Y_valid[j,i,:]-preds[j,i,:]),2)).sum()\n",
    "        rmse=a/len(Y_valid)\n",
    "        rmse=np.sqrt(rmse)\n",
    "        rmse_day.append(rmse)\n",
    "        a=0\n",
    "    rmse_day=np.array(rmse_day)\n",
    "    #print(rmse_day)\n",
    "    for i in range(0,len(rmse_day)):\n",
    "        if rmse_day[i]>1.40:\n",
    "            break\n",
    "    score_rmse=i\n",
    "    '''\n",
    "    day_cal=np.argwhere(rmse_day<1.40)\n",
    "    print(day_cal)\n",
    "    if len(day_cal)==0:\n",
    "        score_rmse=0\n",
    "    else:\n",
    "        score_rmse=day_cal.max()+1\n",
    "    '''\n",
    "    #score_rmse=rmse_day.max()\n",
    "    return score_rmse\n",
    "\n",
    "def rmse_max(Y_valid,preds):\n",
    "    #Y_valid = mean_std(Y_valid)\n",
    "    #preds = mean_std(preds)\n",
    "    rmse_day = []\n",
    "    a=0\n",
    "    score_rmse=0\n",
    "    for i in range(0,35):\n",
    "        for j in range(0,len(Y_valid)):\n",
    "            a+=(torch.pow((Y_valid[j,i,:]-preds[j,i,:]),2)).sum()\n",
    "        rmse=a/len(Y_valid)\n",
    "        rmse=np.sqrt(rmse)\n",
    "        rmse_day.append(rmse)\n",
    "        a=0\n",
    "    rmse_day=np.array(rmse_day)\n",
    "    score_rmse=rmse_day.max()\n",
    "    return score_rmse"
   ]
  },
  {
   "cell_type": "code",
   "execution_count": 14,
   "id": "1c9c1c1b",
   "metadata": {},
   "outputs": [],
   "source": [
    "#自定义损失函数\n",
    "class My_MSELoss(nn.Module):\n",
    "    def __init__(self):\n",
    "        super(My_MSELoss, self).__init__()\n",
    "        self.mseloss = nn.MSELoss(reduction='mean')\n",
    "\n",
    "    def forward(self, pred, label):\n",
    "        loss1 = self.mseloss(pred[:,:,0], label[:,:,0])\n",
    "        loss2 = self.mseloss(pred[:,:,1], label[:,:,1])\n",
    "        \n",
    "        loss = (loss1 +loss2)/2\n",
    "\n",
    "        return loss\n",
    "\n",
    "\n"
   ]
  },
  {
   "cell_type": "code",
   "execution_count": 15,
   "id": "6c3ef555",
   "metadata": {},
   "outputs": [],
   "source": [
    "#设置参数\n",
    "model_weights = '/WdHeDisk/users/zhangnong/MJO/908_test/cnn_seq2seq_s2s_data_weights.pth'\n",
    "\n",
    "model = Model().to(device)\n",
    "\n",
    "optimizer = optim.Adam(model.parameters(), lr=1e-4, weight_decay=0.001)  # weight_decay是L2正则化参数\n",
    "\n",
    "epochs = 40\n",
    "\n",
    "#criterion = My_MSELoss()\n",
    "criterion = nn.MSELoss()"
   ]
  },
  {
   "cell_type": "code",
   "execution_count": 16,
   "id": "db6a8f58",
   "metadata": {},
   "outputs": [
    {
     "name": "stdout",
     "output_type": "stream",
     "text": [
      "(400, 35, 2)\n"
     ]
    }
   ],
   "source": [
    "train_losses, valid_losses = [], []\n",
    "scores_rmse = []\n",
    "#scores_cor = []\n",
    "best_score1 = float('-inf')\n",
    "best_score2 = float('inf')\n",
    "preds = np.zeros((len(Y_valid),35,2))\n",
    "y_valid=np.zeros((len(Y_valid),35,2))\n",
    "#Y_valid=t.from_numpy(Y_valid)\n",
    "print(preds.shape)"
   ]
  },
  {
   "cell_type": "code",
   "execution_count": 17,
   "id": "916ff116",
   "metadata": {},
   "outputs": [
    {
     "name": "stdout",
     "output_type": "stream",
     "text": [
      "Epoch: 1/40\n"
     ]
    },
    {
     "name": "stderr",
     "output_type": "stream",
     "text": [
      "100%|█████████████████████████████████████████| 575/575 [00:24<00:00, 23.65it/s]\n"
     ]
    },
    {
     "name": "stdout",
     "output_type": "stream",
     "text": [
      "Training Loss: 0.258\n"
     ]
    },
    {
     "name": "stderr",
     "output_type": "stream",
     "text": [
      "25it [00:00, 80.23it/s]\n"
     ]
    },
    {
     "name": "stdout",
     "output_type": "stream",
     "text": [
      "Validation Loss: 0.225\n",
      "day_rmse: 34\n",
      "day_cor: 18\n",
      "rmse_max: 0.751\n",
      "best_day:18\n",
      "best_rmse:0.751\n",
      "Epoch: 2/40\n"
     ]
    },
    {
     "name": "stderr",
     "output_type": "stream",
     "text": [
      "100%|█████████████████████████████████████████| 575/575 [00:20<00:00, 28.75it/s]\n"
     ]
    },
    {
     "name": "stdout",
     "output_type": "stream",
     "text": [
      "Training Loss: 0.211\n"
     ]
    },
    {
     "name": "stderr",
     "output_type": "stream",
     "text": [
      "25it [00:00, 93.86it/s]\n"
     ]
    },
    {
     "name": "stdout",
     "output_type": "stream",
     "text": [
      "Validation Loss: 0.213\n",
      "day_rmse: 34\n",
      "day_cor: 20\n",
      "rmse_max: 0.723\n",
      "best_day:20\n",
      "best_rmse:0.723\n",
      "Epoch: 3/40\n"
     ]
    },
    {
     "name": "stderr",
     "output_type": "stream",
     "text": [
      "100%|█████████████████████████████████████████| 575/575 [00:19<00:00, 28.76it/s]\n"
     ]
    },
    {
     "name": "stdout",
     "output_type": "stream",
     "text": [
      "Training Loss: 0.189\n"
     ]
    },
    {
     "name": "stderr",
     "output_type": "stream",
     "text": [
      "25it [00:00, 95.50it/s]\n"
     ]
    },
    {
     "name": "stdout",
     "output_type": "stream",
     "text": [
      "Validation Loss: 0.214\n",
      "day_rmse: 34\n",
      "day_cor: 19\n",
      "rmse_max: 0.725\n",
      "best_day:20\n",
      "best_rmse:0.723\n",
      "Epoch: 4/40\n"
     ]
    },
    {
     "name": "stderr",
     "output_type": "stream",
     "text": [
      "100%|█████████████████████████████████████████| 575/575 [00:19<00:00, 28.87it/s]\n"
     ]
    },
    {
     "name": "stdout",
     "output_type": "stream",
     "text": [
      "Training Loss: 0.172\n"
     ]
    },
    {
     "name": "stderr",
     "output_type": "stream",
     "text": [
      "25it [00:00, 95.28it/s]\n"
     ]
    },
    {
     "name": "stdout",
     "output_type": "stream",
     "text": [
      "Validation Loss: 0.211\n",
      "day_rmse: 34\n",
      "day_cor: 23\n",
      "rmse_max: 0.731\n",
      "best_day:23\n",
      "best_rmse:0.731\n",
      "Epoch: 5/40\n"
     ]
    },
    {
     "name": "stderr",
     "output_type": "stream",
     "text": [
      "100%|█████████████████████████████████████████| 575/575 [00:20<00:00, 28.41it/s]\n"
     ]
    },
    {
     "name": "stdout",
     "output_type": "stream",
     "text": [
      "Training Loss: 0.159\n"
     ]
    },
    {
     "name": "stderr",
     "output_type": "stream",
     "text": [
      "25it [00:00, 95.25it/s]\n"
     ]
    },
    {
     "name": "stdout",
     "output_type": "stream",
     "text": [
      "Validation Loss: 0.198\n",
      "day_rmse: 34\n",
      "day_cor: 26\n",
      "rmse_max: 0.692\n",
      "best_day:26\n",
      "best_rmse:0.692\n",
      "Epoch: 6/40\n"
     ]
    },
    {
     "name": "stderr",
     "output_type": "stream",
     "text": [
      "100%|█████████████████████████████████████████| 575/575 [00:18<00:00, 31.22it/s]\n"
     ]
    },
    {
     "name": "stdout",
     "output_type": "stream",
     "text": [
      "Training Loss: 0.148\n"
     ]
    },
    {
     "name": "stderr",
     "output_type": "stream",
     "text": [
      "25it [00:00, 95.38it/s]\n"
     ]
    },
    {
     "name": "stdout",
     "output_type": "stream",
     "text": [
      "Validation Loss: 0.206\n",
      "day_rmse: 34\n",
      "day_cor: 24\n",
      "rmse_max: 0.712\n",
      "best_day:26\n",
      "best_rmse:0.692\n",
      "Epoch: 7/40\n"
     ]
    },
    {
     "name": "stderr",
     "output_type": "stream",
     "text": [
      "100%|█████████████████████████████████████████| 575/575 [00:19<00:00, 28.91it/s]\n"
     ]
    },
    {
     "name": "stdout",
     "output_type": "stream",
     "text": [
      "Training Loss: 0.140\n"
     ]
    },
    {
     "name": "stderr",
     "output_type": "stream",
     "text": [
      "25it [00:00, 93.86it/s]\n"
     ]
    },
    {
     "name": "stdout",
     "output_type": "stream",
     "text": [
      "Validation Loss: 0.208\n",
      "day_rmse: 34\n",
      "day_cor: 24\n",
      "rmse_max: 0.720\n",
      "best_day:26\n",
      "best_rmse:0.692\n",
      "Epoch: 8/40\n"
     ]
    },
    {
     "name": "stderr",
     "output_type": "stream",
     "text": [
      "100%|█████████████████████████████████████████| 575/575 [00:19<00:00, 29.36it/s]\n"
     ]
    },
    {
     "name": "stdout",
     "output_type": "stream",
     "text": [
      "Training Loss: 0.132\n"
     ]
    },
    {
     "name": "stderr",
     "output_type": "stream",
     "text": [
      "25it [00:00, 95.34it/s]\n"
     ]
    },
    {
     "name": "stdout",
     "output_type": "stream",
     "text": [
      "Validation Loss: 0.203\n",
      "day_rmse: 34\n",
      "day_cor: 25\n",
      "rmse_max: 0.710\n",
      "best_day:26\n",
      "best_rmse:0.692\n",
      "Epoch: 9/40\n"
     ]
    },
    {
     "name": "stderr",
     "output_type": "stream",
     "text": [
      "100%|█████████████████████████████████████████| 575/575 [00:19<00:00, 29.05it/s]\n"
     ]
    },
    {
     "name": "stdout",
     "output_type": "stream",
     "text": [
      "Training Loss: 0.126\n"
     ]
    },
    {
     "name": "stderr",
     "output_type": "stream",
     "text": [
      "25it [00:00, 95.32it/s]\n"
     ]
    },
    {
     "name": "stdout",
     "output_type": "stream",
     "text": [
      "Validation Loss: 0.203\n",
      "day_rmse: 34\n",
      "day_cor: 32\n",
      "rmse_max: 0.717\n",
      "best_day:32\n",
      "best_rmse:0.717\n",
      "Epoch: 10/40\n"
     ]
    },
    {
     "name": "stderr",
     "output_type": "stream",
     "text": [
      "100%|█████████████████████████████████████████| 575/575 [00:19<00:00, 28.81it/s]\n"
     ]
    },
    {
     "name": "stdout",
     "output_type": "stream",
     "text": [
      "Training Loss: 0.121\n"
     ]
    },
    {
     "name": "stderr",
     "output_type": "stream",
     "text": [
      "25it [00:00, 94.77it/s]\n"
     ]
    },
    {
     "name": "stdout",
     "output_type": "stream",
     "text": [
      "Validation Loss: 0.203\n",
      "day_rmse: 34\n",
      "day_cor: 25\n",
      "rmse_max: 0.707\n",
      "best_day:32\n",
      "best_rmse:0.717\n",
      "Epoch: 11/40\n"
     ]
    },
    {
     "name": "stderr",
     "output_type": "stream",
     "text": [
      "100%|█████████████████████████████████████████| 575/575 [00:20<00:00, 28.23it/s]\n"
     ]
    },
    {
     "name": "stdout",
     "output_type": "stream",
     "text": [
      "Training Loss: 0.117\n"
     ]
    },
    {
     "name": "stderr",
     "output_type": "stream",
     "text": [
      "25it [00:00, 95.22it/s]\n"
     ]
    },
    {
     "name": "stdout",
     "output_type": "stream",
     "text": [
      "Validation Loss: 0.196\n",
      "day_rmse: 34\n",
      "day_cor: 33\n",
      "rmse_max: 0.701\n",
      "best_day:33\n",
      "best_rmse:0.701\n",
      "Epoch: 12/40\n"
     ]
    },
    {
     "name": "stderr",
     "output_type": "stream",
     "text": [
      "100%|█████████████████████████████████████████| 575/575 [00:19<00:00, 29.35it/s]\n"
     ]
    },
    {
     "name": "stdout",
     "output_type": "stream",
     "text": [
      "Training Loss: 0.111\n"
     ]
    },
    {
     "name": "stderr",
     "output_type": "stream",
     "text": [
      "25it [00:00, 94.48it/s]\n"
     ]
    },
    {
     "name": "stdout",
     "output_type": "stream",
     "text": [
      "Validation Loss: 0.192\n",
      "day_rmse: 34\n",
      "day_cor: 34\n",
      "rmse_max: 0.710\n",
      "best_day:34\n",
      "best_rmse:0.710\n",
      "Epoch: 13/40\n"
     ]
    },
    {
     "name": "stderr",
     "output_type": "stream",
     "text": [
      "100%|█████████████████████████████████████████| 575/575 [00:19<00:00, 28.90it/s]\n"
     ]
    },
    {
     "name": "stdout",
     "output_type": "stream",
     "text": [
      "Training Loss: 0.107\n"
     ]
    },
    {
     "name": "stderr",
     "output_type": "stream",
     "text": [
      "25it [00:00, 94.74it/s]\n"
     ]
    },
    {
     "name": "stdout",
     "output_type": "stream",
     "text": [
      "Validation Loss: 0.188\n",
      "day_rmse: 34\n",
      "day_cor: 34\n",
      "rmse_max: 0.682\n",
      "best_day:34\n",
      "best_rmse:0.682\n",
      "Epoch: 14/40\n"
     ]
    },
    {
     "name": "stderr",
     "output_type": "stream",
     "text": [
      "100%|█████████████████████████████████████████| 575/575 [00:20<00:00, 28.13it/s]\n"
     ]
    },
    {
     "name": "stdout",
     "output_type": "stream",
     "text": [
      "Training Loss: 0.103\n"
     ]
    },
    {
     "name": "stderr",
     "output_type": "stream",
     "text": [
      "25it [00:00, 96.59it/s]\n"
     ]
    },
    {
     "name": "stdout",
     "output_type": "stream",
     "text": [
      "Validation Loss: 0.183\n",
      "day_rmse: 34\n",
      "day_cor: 34\n",
      "rmse_max: 0.685\n",
      "best_day:34\n",
      "best_rmse:0.682\n",
      "Epoch: 15/40\n"
     ]
    },
    {
     "name": "stderr",
     "output_type": "stream",
     "text": [
      "100%|█████████████████████████████████████████| 575/575 [00:19<00:00, 29.02it/s]\n"
     ]
    },
    {
     "name": "stdout",
     "output_type": "stream",
     "text": [
      "Training Loss: 0.100\n"
     ]
    },
    {
     "name": "stderr",
     "output_type": "stream",
     "text": [
      "25it [00:00, 95.14it/s]\n"
     ]
    },
    {
     "name": "stdout",
     "output_type": "stream",
     "text": [
      "Validation Loss: 0.175\n",
      "day_rmse: 34\n",
      "day_cor: 34\n",
      "rmse_max: 0.668\n",
      "best_day:34\n",
      "best_rmse:0.668\n",
      "Epoch: 16/40\n"
     ]
    },
    {
     "name": "stderr",
     "output_type": "stream",
     "text": [
      "100%|█████████████████████████████████████████| 575/575 [00:20<00:00, 28.31it/s]\n"
     ]
    },
    {
     "name": "stdout",
     "output_type": "stream",
     "text": [
      "Training Loss: 0.097\n"
     ]
    },
    {
     "name": "stderr",
     "output_type": "stream",
     "text": [
      "25it [00:00, 93.76it/s]\n"
     ]
    },
    {
     "name": "stdout",
     "output_type": "stream",
     "text": [
      "Validation Loss: 0.170\n",
      "day_rmse: 34\n",
      "day_cor: 34\n",
      "rmse_max: 0.655\n",
      "best_day:34\n",
      "best_rmse:0.655\n",
      "Epoch: 17/40\n"
     ]
    },
    {
     "name": "stderr",
     "output_type": "stream",
     "text": [
      "100%|█████████████████████████████████████████| 575/575 [00:20<00:00, 27.76it/s]\n"
     ]
    },
    {
     "name": "stdout",
     "output_type": "stream",
     "text": [
      "Training Loss: 0.095\n"
     ]
    },
    {
     "name": "stderr",
     "output_type": "stream",
     "text": [
      "25it [00:00, 95.17it/s]\n"
     ]
    },
    {
     "name": "stdout",
     "output_type": "stream",
     "text": [
      "Validation Loss: 0.161\n",
      "day_rmse: 34\n",
      "day_cor: 34\n",
      "rmse_max: 0.640\n",
      "best_day:34\n",
      "best_rmse:0.640\n",
      "Epoch: 18/40\n"
     ]
    },
    {
     "name": "stderr",
     "output_type": "stream",
     "text": [
      "100%|█████████████████████████████████████████| 575/575 [00:20<00:00, 27.76it/s]\n"
     ]
    },
    {
     "name": "stdout",
     "output_type": "stream",
     "text": [
      "Training Loss: 0.092\n"
     ]
    },
    {
     "name": "stderr",
     "output_type": "stream",
     "text": [
      "25it [00:00, 95.97it/s]\n"
     ]
    },
    {
     "name": "stdout",
     "output_type": "stream",
     "text": [
      "Validation Loss: 0.172\n",
      "day_rmse: 34\n",
      "day_cor: 34\n",
      "rmse_max: 0.670\n",
      "best_day:34\n",
      "best_rmse:0.640\n",
      "Epoch: 19/40\n"
     ]
    },
    {
     "name": "stderr",
     "output_type": "stream",
     "text": [
      "100%|█████████████████████████████████████████| 575/575 [00:20<00:00, 27.79it/s]\n"
     ]
    },
    {
     "name": "stdout",
     "output_type": "stream",
     "text": [
      "Training Loss: 0.090\n"
     ]
    },
    {
     "name": "stderr",
     "output_type": "stream",
     "text": [
      "25it [00:00, 99.11it/s]\n"
     ]
    },
    {
     "name": "stdout",
     "output_type": "stream",
     "text": [
      "Validation Loss: 0.191\n",
      "day_rmse: 34\n",
      "day_cor: 34\n",
      "rmse_max: 0.691\n",
      "best_day:34\n",
      "best_rmse:0.640\n",
      "Epoch: 20/40\n"
     ]
    },
    {
     "name": "stderr",
     "output_type": "stream",
     "text": [
      "100%|█████████████████████████████████████████| 575/575 [00:20<00:00, 27.74it/s]\n"
     ]
    },
    {
     "name": "stdout",
     "output_type": "stream",
     "text": [
      "Training Loss: 0.087\n"
     ]
    },
    {
     "name": "stderr",
     "output_type": "stream",
     "text": [
      "25it [00:00, 95.15it/s]\n"
     ]
    },
    {
     "name": "stdout",
     "output_type": "stream",
     "text": [
      "Validation Loss: 0.235\n",
      "day_rmse: 34\n",
      "day_cor: 34\n",
      "rmse_max: 0.751\n",
      "best_day:34\n",
      "best_rmse:0.640\n",
      "Epoch: 21/40\n"
     ]
    },
    {
     "name": "stderr",
     "output_type": "stream",
     "text": [
      "100%|█████████████████████████████████████████| 575/575 [00:20<00:00, 27.73it/s]\n"
     ]
    },
    {
     "name": "stdout",
     "output_type": "stream",
     "text": [
      "Training Loss: 0.085\n"
     ]
    },
    {
     "name": "stderr",
     "output_type": "stream",
     "text": [
      "25it [00:00, 96.44it/s]\n"
     ]
    },
    {
     "name": "stdout",
     "output_type": "stream",
     "text": [
      "Validation Loss: 0.273\n",
      "day_rmse: 34\n",
      "day_cor: 31\n",
      "rmse_max: 0.835\n",
      "best_day:34\n",
      "best_rmse:0.640\n",
      "Epoch: 22/40\n"
     ]
    },
    {
     "name": "stderr",
     "output_type": "stream",
     "text": [
      "100%|█████████████████████████████████████████| 575/575 [00:20<00:00, 27.75it/s]\n"
     ]
    },
    {
     "name": "stdout",
     "output_type": "stream",
     "text": [
      "Training Loss: 0.083\n"
     ]
    },
    {
     "name": "stderr",
     "output_type": "stream",
     "text": [
      "25it [00:00, 98.00it/s]\n"
     ]
    },
    {
     "name": "stdout",
     "output_type": "stream",
     "text": [
      "Validation Loss: 0.321\n",
      "day_rmse: 34\n",
      "day_cor: 11\n",
      "rmse_max: 0.921\n",
      "best_day:34\n",
      "best_rmse:0.640\n",
      "Epoch: 23/40\n"
     ]
    },
    {
     "name": "stderr",
     "output_type": "stream",
     "text": [
      "100%|█████████████████████████████████████████| 575/575 [00:20<00:00, 27.75it/s]\n"
     ]
    },
    {
     "name": "stdout",
     "output_type": "stream",
     "text": [
      "Training Loss: 0.081\n"
     ]
    },
    {
     "name": "stderr",
     "output_type": "stream",
     "text": [
      "25it [00:00, 95.31it/s]\n"
     ]
    },
    {
     "name": "stdout",
     "output_type": "stream",
     "text": [
      "Validation Loss: 0.303\n",
      "day_rmse: 34\n",
      "day_cor: 15\n",
      "rmse_max: 0.902\n",
      "best_day:34\n",
      "best_rmse:0.640\n",
      "Epoch: 24/40\n"
     ]
    },
    {
     "name": "stderr",
     "output_type": "stream",
     "text": [
      "100%|█████████████████████████████████████████| 575/575 [00:20<00:00, 27.74it/s]\n"
     ]
    },
    {
     "name": "stdout",
     "output_type": "stream",
     "text": [
      "Training Loss: 0.080\n"
     ]
    },
    {
     "name": "stderr",
     "output_type": "stream",
     "text": [
      "25it [00:00, 93.36it/s]\n"
     ]
    },
    {
     "name": "stdout",
     "output_type": "stream",
     "text": [
      "Validation Loss: 0.330\n",
      "day_rmse: 34\n",
      "day_cor: 11\n",
      "rmse_max: 0.949\n",
      "best_day:34\n",
      "best_rmse:0.640\n",
      "Epoch: 25/40\n"
     ]
    },
    {
     "name": "stderr",
     "output_type": "stream",
     "text": [
      "100%|█████████████████████████████████████████| 575/575 [00:21<00:00, 27.22it/s]\n"
     ]
    },
    {
     "name": "stdout",
     "output_type": "stream",
     "text": [
      "Training Loss: 0.078\n"
     ]
    },
    {
     "name": "stderr",
     "output_type": "stream",
     "text": [
      "25it [00:00, 98.63it/s] \n"
     ]
    },
    {
     "name": "stdout",
     "output_type": "stream",
     "text": [
      "Validation Loss: 0.329\n",
      "day_rmse: 34\n",
      "day_cor: 14\n",
      "rmse_max: 0.937\n",
      "best_day:34\n",
      "best_rmse:0.640\n",
      "Epoch: 26/40\n"
     ]
    },
    {
     "name": "stderr",
     "output_type": "stream",
     "text": [
      "100%|█████████████████████████████████████████| 575/575 [00:20<00:00, 27.93it/s]\n"
     ]
    },
    {
     "name": "stdout",
     "output_type": "stream",
     "text": [
      "Training Loss: 0.077\n"
     ]
    },
    {
     "name": "stderr",
     "output_type": "stream",
     "text": [
      "25it [00:00, 95.39it/s]\n"
     ]
    },
    {
     "name": "stdout",
     "output_type": "stream",
     "text": [
      "Validation Loss: 0.353\n",
      "day_rmse: 34\n",
      "day_cor: 9\n",
      "rmse_max: 0.979\n",
      "best_day:34\n",
      "best_rmse:0.640\n",
      "Epoch: 27/40\n"
     ]
    },
    {
     "name": "stderr",
     "output_type": "stream",
     "text": [
      "100%|█████████████████████████████████████████| 575/575 [00:19<00:00, 28.98it/s]\n"
     ]
    },
    {
     "name": "stdout",
     "output_type": "stream",
     "text": [
      "Training Loss: 0.076\n"
     ]
    },
    {
     "name": "stderr",
     "output_type": "stream",
     "text": [
      "25it [00:00, 94.52it/s]\n"
     ]
    },
    {
     "name": "stdout",
     "output_type": "stream",
     "text": [
      "Validation Loss: 0.324\n",
      "day_rmse: 34\n",
      "day_cor: 11\n",
      "rmse_max: 0.928\n",
      "best_day:34\n",
      "best_rmse:0.640\n",
      "Epoch: 28/40\n"
     ]
    },
    {
     "name": "stderr",
     "output_type": "stream",
     "text": [
      "100%|█████████████████████████████████████████| 575/575 [00:19<00:00, 28.82it/s]\n"
     ]
    },
    {
     "name": "stdout",
     "output_type": "stream",
     "text": [
      "Training Loss: 0.074\n"
     ]
    },
    {
     "name": "stderr",
     "output_type": "stream",
     "text": [
      "25it [00:00, 97.80it/s]\n"
     ]
    },
    {
     "name": "stdout",
     "output_type": "stream",
     "text": [
      "Validation Loss: 0.371\n",
      "day_rmse: 34\n",
      "day_cor: 6\n",
      "rmse_max: 1.029\n",
      "best_day:34\n",
      "best_rmse:0.640\n",
      "Epoch: 29/40\n"
     ]
    },
    {
     "name": "stderr",
     "output_type": "stream",
     "text": [
      "100%|█████████████████████████████████████████| 575/575 [00:20<00:00, 28.39it/s]\n"
     ]
    },
    {
     "name": "stdout",
     "output_type": "stream",
     "text": [
      "Training Loss: 0.073\n"
     ]
    },
    {
     "name": "stderr",
     "output_type": "stream",
     "text": [
      "25it [00:00, 95.66it/s]\n"
     ]
    },
    {
     "name": "stdout",
     "output_type": "stream",
     "text": [
      "Validation Loss: 0.368\n",
      "day_rmse: 34\n",
      "day_cor: 7\n",
      "rmse_max: 0.996\n",
      "best_day:34\n",
      "best_rmse:0.640\n",
      "Epoch: 30/40\n"
     ]
    },
    {
     "name": "stderr",
     "output_type": "stream",
     "text": [
      "100%|█████████████████████████████████████████| 575/575 [00:19<00:00, 29.02it/s]\n"
     ]
    },
    {
     "name": "stdout",
     "output_type": "stream",
     "text": [
      "Training Loss: 0.072\n"
     ]
    },
    {
     "name": "stderr",
     "output_type": "stream",
     "text": [
      "25it [00:00, 94.58it/s]\n"
     ]
    },
    {
     "name": "stdout",
     "output_type": "stream",
     "text": [
      "Validation Loss: 0.352\n",
      "day_rmse: 34\n",
      "day_cor: 6\n",
      "rmse_max: 0.996\n",
      "best_day:34\n",
      "best_rmse:0.640\n",
      "Epoch: 31/40\n"
     ]
    },
    {
     "name": "stderr",
     "output_type": "stream",
     "text": [
      "100%|█████████████████████████████████████████| 575/575 [00:19<00:00, 28.85it/s]\n"
     ]
    },
    {
     "name": "stdout",
     "output_type": "stream",
     "text": [
      "Training Loss: 0.071\n"
     ]
    },
    {
     "name": "stderr",
     "output_type": "stream",
     "text": [
      "25it [00:00, 96.53it/s]\n"
     ]
    },
    {
     "name": "stdout",
     "output_type": "stream",
     "text": [
      "Validation Loss: 0.382\n",
      "day_rmse: 34\n",
      "day_cor: 5\n",
      "rmse_max: 1.035\n",
      "best_day:34\n",
      "best_rmse:0.640\n",
      "Epoch: 32/40\n"
     ]
    },
    {
     "name": "stderr",
     "output_type": "stream",
     "text": [
      "100%|█████████████████████████████████████████| 575/575 [00:18<00:00, 30.48it/s]\n"
     ]
    },
    {
     "name": "stdout",
     "output_type": "stream",
     "text": [
      "Training Loss: 0.071\n"
     ]
    },
    {
     "name": "stderr",
     "output_type": "stream",
     "text": [
      "25it [00:00, 132.44it/s]\n"
     ]
    },
    {
     "name": "stdout",
     "output_type": "stream",
     "text": [
      "Validation Loss: 0.366\n",
      "day_rmse: 34\n",
      "day_cor: 5\n",
      "rmse_max: 1.015\n",
      "best_day:34\n",
      "best_rmse:0.640\n",
      "Epoch: 33/40\n"
     ]
    },
    {
     "name": "stderr",
     "output_type": "stream",
     "text": [
      "100%|█████████████████████████████████████████| 575/575 [00:19<00:00, 29.04it/s]\n"
     ]
    },
    {
     "name": "stdout",
     "output_type": "stream",
     "text": [
      "Training Loss: 0.069\n"
     ]
    },
    {
     "name": "stderr",
     "output_type": "stream",
     "text": [
      "25it [00:00, 95.37it/s]\n"
     ]
    },
    {
     "name": "stdout",
     "output_type": "stream",
     "text": [
      "Validation Loss: 0.361\n",
      "day_rmse: 34\n",
      "day_cor: 6\n",
      "rmse_max: 0.997\n",
      "best_day:34\n",
      "best_rmse:0.640\n",
      "Epoch: 34/40\n"
     ]
    },
    {
     "name": "stderr",
     "output_type": "stream",
     "text": [
      "100%|█████████████████████████████████████████| 575/575 [00:20<00:00, 28.42it/s]\n"
     ]
    },
    {
     "name": "stdout",
     "output_type": "stream",
     "text": [
      "Training Loss: 0.068\n"
     ]
    },
    {
     "name": "stderr",
     "output_type": "stream",
     "text": [
      "25it [00:00, 110.90it/s]\n"
     ]
    },
    {
     "name": "stdout",
     "output_type": "stream",
     "text": [
      "Validation Loss: 0.378\n",
      "day_rmse: 34\n",
      "day_cor: 6\n",
      "rmse_max: 1.018\n",
      "best_day:34\n",
      "best_rmse:0.640\n",
      "Epoch: 35/40\n"
     ]
    },
    {
     "name": "stderr",
     "output_type": "stream",
     "text": [
      "100%|█████████████████████████████████████████| 575/575 [00:20<00:00, 27.75it/s]\n"
     ]
    },
    {
     "name": "stdout",
     "output_type": "stream",
     "text": [
      "Training Loss: 0.068\n"
     ]
    },
    {
     "name": "stderr",
     "output_type": "stream",
     "text": [
      "25it [00:00, 95.20it/s]\n"
     ]
    },
    {
     "name": "stdout",
     "output_type": "stream",
     "text": [
      "Validation Loss: 0.415\n",
      "day_rmse: 34\n",
      "day_cor: 6\n",
      "rmse_max: 1.071\n",
      "best_day:34\n",
      "best_rmse:0.640\n",
      "Epoch: 36/40\n"
     ]
    },
    {
     "name": "stderr",
     "output_type": "stream",
     "text": [
      "100%|█████████████████████████████████████████| 575/575 [00:20<00:00, 27.75it/s]\n"
     ]
    },
    {
     "name": "stdout",
     "output_type": "stream",
     "text": [
      "Training Loss: 0.067\n"
     ]
    },
    {
     "name": "stderr",
     "output_type": "stream",
     "text": [
      "25it [00:00, 109.83it/s]\n"
     ]
    },
    {
     "name": "stdout",
     "output_type": "stream",
     "text": [
      "Validation Loss: 0.375\n",
      "day_rmse: 34\n",
      "day_cor: 6\n",
      "rmse_max: 0.996\n",
      "best_day:34\n",
      "best_rmse:0.640\n",
      "Epoch: 37/40\n"
     ]
    },
    {
     "name": "stderr",
     "output_type": "stream",
     "text": [
      "100%|█████████████████████████████████████████| 575/575 [00:20<00:00, 27.73it/s]\n"
     ]
    },
    {
     "name": "stdout",
     "output_type": "stream",
     "text": [
      "Training Loss: 0.066\n"
     ]
    },
    {
     "name": "stderr",
     "output_type": "stream",
     "text": [
      "25it [00:00, 100.11it/s]\n"
     ]
    },
    {
     "name": "stdout",
     "output_type": "stream",
     "text": [
      "Validation Loss: 0.386\n",
      "day_rmse: 34\n",
      "day_cor: 5\n",
      "rmse_max: 1.058\n",
      "best_day:34\n",
      "best_rmse:0.640\n",
      "Epoch: 38/40\n"
     ]
    },
    {
     "name": "stderr",
     "output_type": "stream",
     "text": [
      "100%|█████████████████████████████████████████| 575/575 [00:20<00:00, 27.76it/s]\n"
     ]
    },
    {
     "name": "stdout",
     "output_type": "stream",
     "text": [
      "Training Loss: 0.066\n"
     ]
    },
    {
     "name": "stderr",
     "output_type": "stream",
     "text": [
      "25it [00:00, 94.48it/s]\n"
     ]
    },
    {
     "name": "stdout",
     "output_type": "stream",
     "text": [
      "Validation Loss: 0.394\n",
      "day_rmse: 34\n",
      "day_cor: 5\n",
      "rmse_max: 1.055\n",
      "best_day:34\n",
      "best_rmse:0.640\n",
      "Epoch: 39/40\n"
     ]
    },
    {
     "name": "stderr",
     "output_type": "stream",
     "text": [
      "100%|█████████████████████████████████████████| 575/575 [00:20<00:00, 27.76it/s]\n"
     ]
    },
    {
     "name": "stdout",
     "output_type": "stream",
     "text": [
      "Training Loss: 0.065\n"
     ]
    },
    {
     "name": "stderr",
     "output_type": "stream",
     "text": [
      "25it [00:00, 94.98it/s]\n"
     ]
    },
    {
     "name": "stdout",
     "output_type": "stream",
     "text": [
      "Validation Loss: 0.403\n",
      "day_rmse: 34\n",
      "day_cor: 4\n",
      "rmse_max: 1.070\n",
      "best_day:34\n",
      "best_rmse:0.640\n",
      "Epoch: 40/40\n"
     ]
    },
    {
     "name": "stderr",
     "output_type": "stream",
     "text": [
      "100%|█████████████████████████████████████████| 575/575 [00:20<00:00, 27.79it/s]\n"
     ]
    },
    {
     "name": "stdout",
     "output_type": "stream",
     "text": [
      "Training Loss: 0.064\n"
     ]
    },
    {
     "name": "stderr",
     "output_type": "stream",
     "text": [
      "25it [00:00, 99.11it/s]\n"
     ]
    },
    {
     "name": "stdout",
     "output_type": "stream",
     "text": [
      "Validation Loss: 0.376\n",
      "day_rmse: 34\n",
      "day_cor: 4\n",
      "rmse_max: 1.034\n",
      "best_day:34\n",
      "best_rmse:0.640\n"
     ]
    }
   ],
   "source": [
    "#模型训练\n",
    "for epoch in range(epochs):\n",
    "    print('Epoch: {}/{}'.format(epoch+1, epochs))\n",
    "    model.train()\n",
    "    losses = 0\n",
    "    for data1, labels in tqdm(trainloader):\n",
    "        data1 = data1.to(device)\n",
    "        labels = labels.to(device)\n",
    "        model.zero_grad()\n",
    "        #optimizer.zero_grad()\n",
    "        pred = model(data1)\n",
    "        #print('pred.size:',pred.size())\n",
    "        #pred= pred.permute(0,2,1).contiguous()\n",
    "        loss = criterion(pred, labels)\n",
    "        losses += loss.cpu().detach().numpy()\n",
    "        #print(pred.dtype)\n",
    "        #print(labels.dtype)\n",
    "        #print(loss.dtype)\n",
    "        loss.backward()\n",
    "        optimizer.step()\n",
    "        #scheduler.step()\n",
    "    train_loss = losses / len(trainloader)\n",
    "    train_losses.append(train_loss)\n",
    "    print('Training Loss: {:.3f}'.format(train_loss))\n",
    "# 模型验证\n",
    "    model.eval()\n",
    "    losses = 0\n",
    "    s=0\n",
    "    ss=0\n",
    "    s_rmse=0\n",
    "    with torch.no_grad():\n",
    "        for i, data in tqdm(enumerate(validloader)):\n",
    "            data1, labels = data\n",
    "            data1 = data1.to(device)\n",
    "            y_valid[i*batch_size:(i+1)*batch_size]=labels.detach().cpu()\n",
    "            labels = labels.to(device)\n",
    "            pred = model(data1)\n",
    "\n",
    "            #pred= pred.permute(0,2,1).contiguous()\n",
    "            loss = criterion(pred, labels)\n",
    "            #print('loss:',loss)\n",
    "            losses += loss.cpu().detach().numpy()\n",
    "            preds[i*batch_size:(i+1)*batch_size] = pred.detach().cpu()\n",
    "        valid_loss = losses / len(validloader)\n",
    "        valid_losses.append(valid_loss)\n",
    "        print('Validation Loss: {:.3f}'.format(valid_loss))\n",
    "    #print(len(valid_losses))\n",
    "        preds=torch.as_tensor(preds)\n",
    "        y_valid=torch.as_tensor(y_valid)\n",
    "    #print(preds.dtype,Y_valid.dtype)\n",
    "    #print(len(preds))\n",
    "    #print(len(preds[1]))\n",
    "        s=rmse_new(y_valid,preds)\n",
    "    #s=rmse(Y_valid,preds)\n",
    "    #s=rmse_caluate(Y_valid,preds)\n",
    "        ss=cor(y_valid,preds)\n",
    "        s_rmse=rmse_max(y_valid,preds)\n",
    "    #s.item()\n",
    "    #print(s)\n",
    "    #s=score_rmse(Y_valid,preds)\n",
    "        scores_rmse.append(s)\n",
    "    #scores_cor.append(ss)\n",
    "        print('day_rmse: {:}'.format(s))\n",
    "        print('day_cor: {:}'.format(ss))\n",
    "        print('rmse_max: {:.3f}'.format(s_rmse))\n",
    "    #print('Score_cor: {:.3f}'.format(ss))\n",
    "# 保存最佳模型权重\n",
    "    #s=s.numpy()\n",
    "    #ss=ss.numpy()\n",
    "    #fina_score=score(s,ss)\n",
    "    #print(s.type)\n",
    "    #print(ss.type)\n",
    "    final_s=min(s,ss)\n",
    "    if (final_s > best_score1) :\n",
    "        best_score1 = final_s\n",
    "        best_score2 = s_rmse\n",
    "        #best_score2 = ss\n",
    "        checkpoint = {'best_score': best_score1,'state_dict': model.state_dict()}\n",
    "        torch.save(checkpoint, model_weights)\n",
    "    if (final_s==best_score1)&(s_rmse < best_score2):\n",
    "        best_score1 = final_s\n",
    "        best_score2 = s_rmse\n",
    "        #best_score2 = ss\n",
    "        checkpoint = {'best_score': best_score1,'state_dict': model.state_dict()}\n",
    "        torch.save(checkpoint, model_weights) \n",
    "    print('best_day:{:}'.format(best_score1))\n",
    "    print('best_rmse:{:.3f}'.format(best_score2))\n",
    "    #scheduler.step()"
   ]
  },
  {
   "cell_type": "code",
   "execution_count": 18,
   "id": "acd96b40",
   "metadata": {},
   "outputs": [],
   "source": [
    "# 绘制训练/验证曲线\n",
    "def training_vis(train_losses, valid_losses):\n",
    "    # 绘制损失函数曲线\n",
    "    fig = plt.figure(figsize=(8,4))\n",
    "    # subplot loss\n",
    "    ax1 = fig.add_subplot(121)\n",
    "    ax1.plot(train_losses, label='train_loss')\n",
    "    ax1.plot(valid_losses,label='val_loss')\n",
    "    ax1.set_xlabel('Epochs')\n",
    "    ax1.set_ylabel('Loss')\n",
    "    ax1.set_title('Loss on Training and Validation Data')\n",
    "    ax1.legend()\n",
    "    plt.tight_layout()"
   ]
  },
  {
   "cell_type": "code",
   "execution_count": 19,
   "id": "48e46bc3",
   "metadata": {},
   "outputs": [
    {
     "data": {
      "image/png": "[encoded data removed]",
      "text/plain": [
       "<Figure size 576x288 with 1 Axes>"
      ]
     },
     "metadata": {
      "needs_background": "light"
     },
     "output_type": "display_data"
    }
   ],
   "source": [
    "training_vis(train_losses, valid_losses)"
   ]
  },
  {
   "cell_type": "code",
   "execution_count": 20,
   "id": "52c0a286",
   "metadata": {},
   "outputs": [
    {
     "data": {
      "text/plain": [
       "<All keys matched successfully>"
      ]
     },
     "execution_count": 20,
     "metadata": {},
     "output_type": "execute_result"
    }
   ],
   "source": [
    "# 加载最佳模型权重\n",
    "checkpoint = torch.load('/WdHeDisk/users/zhangnong/MJO/908_test/cnn_seq2seq_s2s_data_weights.pth')\n",
    "model = Model()\n",
    "model.load_state_dict(checkpoint['state_dict'])"
   ]
  },
  {
   "cell_type": "code",
   "execution_count": 21,
   "id": "523e6eb8",
   "metadata": {},
   "outputs": [],
   "source": [
    "#测试集300\n",
    "X1_test_300=X_test\n",
    "Y_test_300=Y_test"
   ]
  },
  {
   "cell_type": "code",
   "execution_count": 22,
   "id": "e8f5a3df",
   "metadata": {},
   "outputs": [],
   "source": [
    "testset = MJODataset(X1_test_300, Y_test_300)\n",
    "testloader = DataLoader(testset, batch_size=batch_size, shuffle=False)"
   ]
  },
  {
   "cell_type": "code",
   "execution_count": 23,
   "id": "a9b7fc4c",
   "metadata": {},
   "outputs": [],
   "source": [
    "Y_test_300=t.from_numpy(Y_test_300)"
   ]
  },
  {
   "cell_type": "code",
   "execution_count": 24,
   "id": "aa90fd97",
   "metadata": {},
   "outputs": [
    {
     "name": "stderr",
     "output_type": "stream",
     "text": [
      "25it [00:00, 91.52it/s]\n"
     ]
    },
    {
     "name": "stdout",
     "output_type": "stream",
     "text": [
      "Score_rmse: 34.000\n",
      "Score_cor: 34.000\n"
     ]
    }
   ],
   "source": [
    "# 在测试集上评估模型效果\n",
    "model.eval()\n",
    "model.to(device)\n",
    "t_scores_rmse=[]\n",
    "#t_scores_cor=[]\n",
    "t_s=0\n",
    "#t_ss=0\n",
    "t_preds = np.zeros((len(Y_test_300),35,2))\n",
    "for i, data in tqdm(enumerate(testloader)):\n",
    "    data1, labels = data\n",
    "    data1 = data1.to(device)\n",
    "    labels = labels.to(device)\n",
    "    t_pred = model(data1)\n",
    "    #t_pred= t_pred.permute(0,2,1).contiguous()\n",
    "    t_preds[i*batch_size:(i+1)*batch_size] = t_pred.detach().cpu()\n",
    "t_preds=torch.as_tensor(t_preds)\n",
    "#t_s=rmse(Y_test,t_preds)\n",
    "t_s=rmse_new(Y_test_300,t_preds)\n",
    "t_ss=cor(Y_test_300,t_preds)\n",
    "t_scores_rmse.append(t_s)\n",
    "#t_scores_cor.append(t_ss)\n",
    "print('Score_rmse: {:.3f}'.format(t_s))\n",
    "print('Score_cor: {:.3f}'.format(t_ss))"
   ]
  },
  {
   "cell_type": "code",
   "execution_count": 25,
   "id": "fed01c31",
   "metadata": {},
   "outputs": [],
   "source": [
    "t_preds=t_preds.numpy()\n",
    "Y_test_300=Y_test_300.numpy()\n",
    "#绘制30条数据的rmm指数预测区别，预测和真实值预测\n",
    "def rmm1_vis_30(Y_test,t_preds,index):\n",
    "    fig = plt.figure(figsize=(8,4))\n",
    "    ax1 = fig.add_subplot(121)\n",
    "    ax1.plot(Y_test[index,:,0], label='RMM1:true')\n",
    "    ax1.plot(t_preds[index,:,0], label='RMM1:pred')\n",
    "    ax1.set_xlabel('time')\n",
    "    ax1.set_ylabel('rmm1')\n",
    "    ax1.set_title('RMM1 on truth and prediction data with time')\n",
    "    ax1.legend()\n",
    "    plt.tight_layout()\n",
    "\n",
    "def rmm2_vis_30(Y_test,t_preds,index):\n",
    "    fig = plt.figure(figsize=(8,4))\n",
    "    ax1 = fig.add_subplot(121)\n",
    "    ax1.plot(Y_test[index,:,1], label='RMM2:true')\n",
    "    ax1.plot(t_preds[index,:,1], label='RMM2:pred')\n",
    "    ax1.set_xlabel('time')\n",
    "    ax1.set_ylabel('rmm2')\n",
    "    ax1.set_title('RMM2 on truth and prediction data with time')\n",
    "    ax1.legend()\n",
    "    plt.tight_layout()"
   ]
  },
  {
   "cell_type": "code",
   "execution_count": 26,
   "id": "cbbf98bb",
   "metadata": {},
   "outputs": [
    {
     "data": {
      "image/png": "[encoded data removed]",
      "text/plain": [
       "<Figure size 576x288 with 1 Axes>"
      ]
     },
     "metadata": {
      "needs_background": "light"
     },
     "output_type": "display_data"
    },
    {
     "data": {
      "image/png": "[encoded data removed]",
      "text/plain": [
       "<Figure size 576x288 with 1 Axes>"
      ]
     },
     "metadata": {
      "needs_background": "light"
     },
     "output_type": "display_data"
    }
   ],
   "source": [
    "index=33 #可以取0～3200\n",
    "rmm1_vis_30(Y_test_300,t_preds,index)\n",
    "rmm2_vis_30(Y_test_300,t_preds,index)"
   ]
  },
  {
   "cell_type": "code",
   "execution_count": 27,
   "id": "75fac9aa",
   "metadata": {},
   "outputs": [],
   "source": [
    "#cor评价指标\n",
    "def cor_caluate(Y_test,t_preds):\n",
    "    cor_day = []\n",
    "    a=0\n",
    "    b=0\n",
    "    c=0\n",
    "    for i in range(0,35):\n",
    "        for j in range(0,len(Y_test)):\n",
    "            a+=(Y_test[j,i,:]*t_preds[j,i,:]).sum()\n",
    "            b+=(Y_test[j,i]**2).sum()\n",
    "            c+=(t_preds[j,i]**2).sum()\n",
    "        b=np.sqrt(b)\n",
    "        c=np.sqrt(c)\n",
    "        cor=a/(b*c)\n",
    "        cor_day.append(cor)\n",
    "        a=0\n",
    "        b=0\n",
    "        c=0\n",
    "    cor_day=np.array(cor_day)\n",
    "    print(cor_day)\n",
    "    return cor_day"
   ]
  },
  {
   "cell_type": "code",
   "execution_count": 28,
   "id": "06b712a8",
   "metadata": {},
   "outputs": [],
   "source": [
    "#画cor指标\n",
    "def cor_acc(cor_day):\n",
    "    # 绘制损失函数曲线\n",
    "    fig = plt.figure(figsize=(8,4))\n",
    "    # subplot loss\n",
    "    ax1 = fig.add_subplot(121)\n",
    "    ax1.plot(cor_day, label='cor_acc')\n",
    "    ax1.set_xlabel('days')\n",
    "    ax1.set_ylabel('cor')\n",
    "    ax1.set_title('MJO Bivariate Correlation')\n",
    "    ax1.legend()\n",
    "    ax1.axhline(y=0.5,color='red',linewidth=0.85)\n",
    "    plt.tight_layout()"
   ]
  },
  {
   "cell_type": "code",
   "execution_count": 29,
   "id": "50d2a497",
   "metadata": {},
   "outputs": [
    {
     "name": "stdout",
     "output_type": "stream",
     "text": [
      "[0.9387011  0.90036606 0.85631087 0.81205874 0.76927337 0.72637043\n",
      " 0.69169281 0.66714196 0.65482588 0.64175908 0.63984592 0.63690252\n",
      " 0.63120466 0.62987575 0.62440377 0.6193959  0.6101929  0.6026147\n",
      " 0.59337828 0.58545873 0.57495742 0.5736807  0.56640223 0.56044313\n",
      " 0.55285683 0.54968376 0.54589028 0.54359477 0.5429883  0.5441016\n",
      " 0.54308056 0.54619842 0.54444515 0.54574968 0.5397792 ]\n"
     ]
    },
    {
     "data": {
      "image/png": "[encoded data removed]",
      "text/plain": [
       "<Figure size 576x288 with 1 Axes>"
      ]
     },
     "metadata": {
      "needs_background": "light"
     },
     "output_type": "display_data"
    }
   ],
   "source": [
    "cor_day=cor_caluate(Y_test_300,t_preds)\n",
    "cor_acc(cor_day)"
   ]
  },
  {
   "cell_type": "code",
   "execution_count": 30,
   "id": "b388022a",
   "metadata": {},
   "outputs": [],
   "source": [
    "#rmse评价指标\n",
    "def rmse_caluate(Y_test,t_preds):\n",
    "    rmse_day = []\n",
    "    a=0\n",
    "    for i in range(0,35):\n",
    "        for j in range(0,len(Y_test)):\n",
    "            a+=((Y_test[j,i,:]-t_preds[j,i,:])**2).sum()\n",
    "        rmse=a/len(Y_test)\n",
    "        rmse=np.sqrt(rmse)\n",
    "        rmse_day.append(rmse)\n",
    "        a=0\n",
    "    rmse_day=np.array(rmse_day)\n",
    "    print(rmse_day)\n",
    "    return rmse_day"
   ]
  },
  {
   "cell_type": "code",
   "execution_count": 31,
   "id": "1224af35",
   "metadata": {},
   "outputs": [],
   "source": [
    "#画rmse指标\n",
    "def rmse_acc(rmse_day):\n",
    "    # 绘制损失函数曲线\n",
    "    fig = plt.figure(figsize=(8,4))\n",
    "    # subplot loss\n",
    "    ax1 = fig.add_subplot(121)\n",
    "    ax1.plot(rmse_day, label='rmse_acc')\n",
    "    ax1.set_xlabel('days')\n",
    "    ax1.set_ylabel('rmse')\n",
    "    ax1.set_title('MJO Bivariate Correlation')\n",
    "    ax1.legend()\n",
    "    ax1.axhline(y=1.4,color='red',linewidth=0.85)\n",
    "    plt.tight_layout()"
   ]
  },
  {
   "cell_type": "code",
   "execution_count": 32,
   "id": "afa0766a",
   "metadata": {},
   "outputs": [
    {
     "name": "stdout",
     "output_type": "stream",
     "text": [
      "[0.3733969  0.45665231 0.5266966  0.5806469  0.61959624 0.64901054\n",
      " 0.66381746 0.66700908 0.66242017 0.66031391 0.65262426 0.64730503\n",
      " 0.64494253 0.64084927 0.64039089 0.6388069  0.63924863 0.63852592\n",
      " 0.63973988 0.64263891 0.64583875 0.64373098 0.6439746  0.64356723\n",
      " 0.64453252 0.64226602 0.64064522 0.63847518 0.63407307 0.62835194\n",
      " 0.62335933 0.61565648 0.61022705 0.60305194 0.59960628]\n"
     ]
    },
    {
     "data": {
      "image/png": "[encoded data removed]",
      "text/plain": [
       "<Figure size 576x288 with 1 Axes>"
      ]
     },
     "metadata": {
      "needs_background": "light"
     },
     "output_type": "display_data"
    }
   ],
   "source": [
    "rmse_day=rmse_caluate(Y_test_300,t_preds)\n",
    "rmse_acc(rmse_day)"
   ]
  },
  {
   "cell_type": "code",
   "execution_count": 33,
   "id": "51856da3",
   "metadata": {},
   "outputs": [],
   "source": [
    "#t-preds是预测的，直接和真实rmm比较试试\n",
    "re_Y_test=np.load(path+'re_Y_test'+wei)"
   ]
  },
  {
   "cell_type": "code",
   "execution_count": 34,
   "id": "e54ec7c5",
   "metadata": {},
   "outputs": [
    {
     "name": "stdout",
     "output_type": "stream",
     "text": [
      "[0.88205036 0.84383302 0.80269419 0.76131021 0.72337264 0.68458656\n",
      " 0.63888577 0.60011419 0.57684346 0.55620005 0.54902778 0.55474725\n",
      " 0.55778911 0.55544283 0.54876579 0.5447583  0.53742379 0.52842059\n",
      " 0.51507726 0.50639261 0.49446597 0.48836449 0.47496394 0.46083622\n",
      " 0.43651513 0.4204396  0.40459843 0.38215607 0.36129043 0.348329\n",
      " 0.33781178 0.33416737 0.32142467 0.3211609  0.3166597 ]\n"
     ]
    },
    {
     "data": {
      "image/png": "[encoded data removed]",
      "text/plain": [
       "<Figure size 576x288 with 1 Axes>"
      ]
     },
     "metadata": {
      "needs_background": "light"
     },
     "output_type": "display_data"
    }
   ],
   "source": [
    "re_cor_day=cor_caluate(re_Y_test,t_preds)\n",
    "cor_acc(re_cor_day)"
   ]
  },
  {
   "cell_type": "code",
   "execution_count": 35,
   "id": "32ea7cc1",
   "metadata": {},
   "outputs": [
    {
     "name": "stdout",
     "output_type": "stream",
     "text": [
      "[0.61589079 0.70582979 0.7920262  0.87176003 0.92493451 0.96883829\n",
      " 1.01727169 1.05488191 1.07274686 1.09536588 1.1124553  1.10847635\n",
      " 1.11391588 1.12557151 1.14286344 1.15548305 1.16997722 1.18755217\n",
      " 1.19855955 1.20528363 1.21537328 1.2212088  1.23021282 1.24555331\n",
      " 1.27103522 1.28371232 1.29616589 1.31292804 1.33011969 1.33382241\n",
      " 1.33820935 1.3429485  1.34962243 1.34939338 1.35182866]\n"
     ]
    },
    {
     "data": {
      "image/png": "[encoded data removed]",
      "text/plain": [
       "<Figure size 576x288 with 1 Axes>"
      ]
     },
     "metadata": {
      "needs_background": "light"
     },
     "output_type": "display_data"
    }
   ],
   "source": [
    "re_rmse_day=rmse_caluate(re_Y_test,t_preds)\n",
    "rmse_acc(re_rmse_day)"
   ]
  },
  {
   "cell_type": "code",
   "execution_count": 36,
   "id": "8a6f534a",
   "metadata": {},
   "outputs": [],
   "source": [
    "def best_day(cor, rmse):\n",
    "    best_cor = 0\n",
    "    best_rmse = 0\n",
    "    for i in range(len(cor)):\n",
    "        if cor[i] < 0.5:\n",
    "            break\n",
    "    best_cor = i\n",
    "    \n",
    "    for j in range(len(rmse)):\n",
    "        if rmse[j] > 1.4:\n",
    "            break\n",
    "    best_rmse = j\n",
    "    \n",
    "    print('Score_cor: {:.3f} day'.format(best_cor))\n",
    "    print('Score_rmse: {:.3f} day'.format(best_rmse))"
   ]
  },
  {
   "cell_type": "code",
   "execution_count": 37,
   "id": "b2a301ff",
   "metadata": {},
   "outputs": [
    {
     "name": "stdout",
     "output_type": "stream",
     "text": [
      "Score_cor: 20.000 day\n",
      "Score_rmse: 34.000 day\n"
     ]
    }
   ],
   "source": [
    "best_day(re_cor_day, re_rmse_day)"
   ]
  },
  {
   "cell_type": "code",
   "execution_count": null,
   "id": "68d1ba75",
   "metadata": {},
   "outputs": [],
   "source": []
  }
 ],
 "metadata": {
  "kernelspec": {
   "display_name": "MJO_env_kernel",
   "language": "python",
   "name": "mjo_env"
  },
  "language_info": {
   "codemirror_mode": {
    "name": "ipython",
    "version": 3
   },
   "file_extension": ".py",
   "mimetype": "text/x-python",
   "name": "python",
   "nbconvert_exporter": "python",
   "pygments_lexer": "ipython3",
   "version": "3.8.0"
  }
 },
 "nbformat": 4,
 "nbformat_minor": 5
}
