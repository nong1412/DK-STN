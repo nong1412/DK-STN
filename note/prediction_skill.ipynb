{
 "cells": [
  {
   "cell_type": "code",
   "execution_count": 1,
   "id": "c64f5393",
   "metadata": {},
   "outputs": [],
   "source": [
    "#导入相关包\n",
    "import numpy as np\n",
    "import matplotlib.pyplot as plt\n",
    "import random\n",
    "import netCDF4\n",
    "import datetime\n",
    "import seaborn as sns\n",
    "from global_land_mask import globe\n",
    "from scipy import interpolate\n",
    "from sklearn.metrics import silhouette_samples\n",
    "from sklearn.preprocessing import StandardScaler\n",
    "#plt.rcParams['font.sans-serif'] = ['SimHei'] #中文支持\n",
    "#%matplotlib inline"
   ]
  },
  {
   "cell_type": "code",
   "execution_count": 2,
   "id": "bd2f915a",
   "metadata": {},
   "outputs": [],
   "source": [
    "#cor评价指标\n",
    "def cor_caluate(Y_test,t_preds,index):\n",
    "    cor_day = []\n",
    "    a=0\n",
    "    b=0\n",
    "    c=0\n",
    "    for i in range(0,index):\n",
    "        for j in range(0,len(Y_test)):\n",
    "            a+=(Y_test[j,i,:]*t_preds[j,i,:]).sum()\n",
    "            b+=(Y_test[j,i]**2).sum()\n",
    "            c+=(t_preds[j,i]**2).sum()\n",
    "        b=np.sqrt(b)\n",
    "        c=np.sqrt(c)\n",
    "        cor=a/(b*c)\n",
    "        cor_day.append(cor)\n",
    "        a=0\n",
    "        b=0\n",
    "        c=0\n",
    "    cor_day=np.array(cor_day)\n",
    "    print(cor_day)\n",
    "    return cor_day"
   ]
  },
  {
   "cell_type": "code",
   "execution_count": 3,
   "id": "4e506c8d",
   "metadata": {},
   "outputs": [],
   "source": [
    "#画cor指标\n",
    "def cor_acc(cor_day):\n",
    "    # 绘制损失函数曲线\n",
    "    fig = plt.figure(figsize=(8,4))\n",
    "    # subplot loss\n",
    "    ax1 = fig.add_subplot(121)\n",
    "    ax1.plot(cor_day, label='cor_acc')\n",
    "    ax1.set_xlabel('days')\n",
    "    ax1.set_ylabel('cor')\n",
    "    ax1.set_title('MJO Bivariate Correlation')\n",
    "    ax1.legend()\n",
    "    ax1.axhline(y=0.5,color='red',linewidth=0.85)\n",
    "    plt.tight_layout()"
   ]
  },
  {
   "cell_type": "code",
   "execution_count": 4,
   "id": "9dedc7d9",
   "metadata": {},
   "outputs": [],
   "source": [
    "#rmse评价指标\n",
    "def rmse_caluate(Y_test,t_preds,index):\n",
    "    rmse_day = []\n",
    "    a=0\n",
    "    for i in range(0,index):\n",
    "        for j in range(0,len(Y_test)):\n",
    "            a+=((Y_test[j,i,:]-t_preds[j,i,:])**2).sum()\n",
    "        rmse=a/len(Y_test)\n",
    "        rmse=np.sqrt(rmse)\n",
    "        rmse_day.append(rmse)\n",
    "        a=0\n",
    "    rmse_day=np.array(rmse_day)\n",
    "    print(rmse_day)\n",
    "    return rmse_day"
   ]
  },
  {
   "cell_type": "code",
   "execution_count": 5,
   "id": "66bafc9a",
   "metadata": {},
   "outputs": [],
   "source": [
    "#画rmse指标\n",
    "def rmse_acc(rmse_day):\n",
    "    # 绘制损失函数曲线\n",
    "    fig = plt.figure(figsize=(8,4))\n",
    "    # subplot loss\n",
    "    ax1 = fig.add_subplot(121)\n",
    "    ax1.plot(rmse_day, label='rmse_acc')\n",
    "    ax1.set_xlabel('days')\n",
    "    ax1.set_ylabel('rmse')\n",
    "    ax1.set_title('MJO Bivariate Correlation')\n",
    "    ax1.legend()\n",
    "    ax1.axhline(y=1.4,color='red',linewidth=0.85)\n",
    "    plt.tight_layout()"
   ]
  },
  {
   "cell_type": "code",
   "execution_count": 6,
   "id": "da5e1a13",
   "metadata": {},
   "outputs": [],
   "source": [
    "#读取文件名\n",
    "babj_filename=np.loadtxt('/WdHeDisk/users/zhangnong/MJO/711_test/babj_date_sort.txt')\n",
    "ecmf_filename=np.loadtxt('/WdHeDisk/users/zhangnong/MJO/711_test/ecmf_date_sort.txt')\n",
    "babj_path='/WdHeDisk/users/zhangnong/MJO/711_test/s2s_RMM/babj/'\n",
    "ecmf_path='/WdHeDisk/users/zhangnong/MJO/711_test/s2s_RMM/ecmf/'\n",
    "babj_re_path='/WdHeDisk/users/zhangnong/MJO/711_test/re_RMM/babj/'\n",
    "ecmf_re_path='/WdHeDisk/users/zhangnong/MJO/711_test/re_RMM/ecmf/'"
   ]
  },
  {
   "cell_type": "code",
   "execution_count": 10,
   "id": "90277dea",
   "metadata": {},
   "outputs": [],
   "source": [
    "def babj_create_data(filename,path,re_path):\n",
    "    data1=[]\n",
    "    data2=[]\n",
    "    for i in range(0,len(filename)-9):\n",
    "        str_name=str(int(filename[i]))\n",
    "        s2s_data=np.load(path+str_name+'_babj_rmm.npy')\n",
    "        re_data=np.load(re_path+str_name+'_babj_rmm.npy')\n",
    "        data1.append(s2s_data)\n",
    "        data2.append(re_data)\n",
    "    data1=np.array(data1)\n",
    "    data2=np.array(data2)\n",
    "    return data1 ,data2"
   ]
  },
  {
   "cell_type": "code",
   "execution_count": 11,
   "id": "afce937f",
   "metadata": {},
   "outputs": [],
   "source": [
    "def ecmf_create_data(filename,path,re_path):\n",
    "    data1=[]\n",
    "    data2=[]\n",
    "    for i in range(0,len(filename)-9):\n",
    "        str_name=str(int(filename[i]))\n",
    "        s2s_data=np.load(path+str_name+'_ecmf_rmm.npy')\n",
    "        re_data=np.load(re_path+str_name+'_ecmf_rmm.npy')\n",
    "        data1.append(s2s_data)\n",
    "        data2.append(re_data)\n",
    "    data1=np.array(data1)\n",
    "    data2=np.array(data2)\n",
    "    return data1 ,data2"
   ]
  },
  {
   "cell_type": "code",
   "execution_count": 12,
   "id": "7d7c3510",
   "metadata": {},
   "outputs": [],
   "source": [
    "babj_data,babj_re_data=babj_create_data(babj_filename,babj_path,babj_re_path)\n",
    "ecmf_data,ecmf_re_data=ecmf_create_data(ecmf_filename,ecmf_path,ecmf_re_path)"
   ]
  },
  {
   "cell_type": "code",
   "execution_count": 13,
   "id": "72eae423",
   "metadata": {},
   "outputs": [
    {
     "name": "stdout",
     "output_type": "stream",
     "text": [
      "(1655, 60, 2) (1655, 60, 2)\n",
      "(1356, 46, 2) (1356, 46, 2)\n"
     ]
    }
   ],
   "source": [
    "print(babj_data.shape,babj_re_data.shape)\n",
    "print(ecmf_data.shape,ecmf_re_data.shape)"
   ]
  },
  {
   "cell_type": "code",
   "execution_count": 14,
   "id": "8c2b76d1",
   "metadata": {},
   "outputs": [
    {
     "name": "stdout",
     "output_type": "stream",
     "text": [
      "[[-1.36049787 -0.66946282]\n",
      " [-1.1477956   0.06174321]\n",
      " [-1.42270715  0.21505572]\n",
      " [-1.07843872  1.14356405]\n",
      " [ 0.50712874  1.51684804]\n",
      " [ 1.82944851  1.35453707]\n",
      " [ 1.51356033 -0.08425935]\n",
      " [ 1.36825953 -1.01492044]\n",
      " [ 0.30067947 -1.65868863]\n",
      " [-0.40897    -1.95857025]]\n",
      "[[-1.2158944  -0.19479641]\n",
      " [-0.86925316  0.69827678]\n",
      " [-1.05734522  0.77261785]\n",
      " [-0.49414729  1.57654576]\n",
      " [ 0.91504438  1.6427296 ]\n",
      " [ 2.42722385  1.21335463]\n",
      " [ 1.96864991 -0.43614994]\n",
      " [ 2.00429766 -1.08574647]\n",
      " [ 0.88597781 -1.87332613]\n",
      " [ 0.07421295 -2.26661055]]\n"
     ]
    }
   ],
   "source": [
    "print(babj_data[0:10,0,:])\n",
    "print(babj_re_data[0:10,0,:])"
   ]
  },
  {
   "cell_type": "code",
   "execution_count": 16,
   "id": "b1d1dc48",
   "metadata": {},
   "outputs": [
    {
     "name": "stdout",
     "output_type": "stream",
     "text": [
      "[0.96697133 0.95715766 0.94681521 0.93591353 0.91909125 0.90113253\n",
      " 0.88360428 0.85651727 0.825967   0.79706356 0.77222722 0.74203371\n",
      " 0.71127805 0.68438899 0.65746858 0.6320516  0.60653069 0.58150551\n",
      " 0.55922808 0.53890768 0.52072518 0.50989049 0.49663013 0.48063164\n",
      " 0.46548709 0.44749673 0.43703978 0.41805372 0.4008643  0.38405836\n",
      " 0.36802767 0.35773444 0.3359239  0.32559841 0.3176126  0.31031073\n",
      " 0.2956884  0.28661555 0.27907373 0.26607713 0.26147376 0.25109019\n",
      " 0.2493885  0.23954963 0.23225081 0.22375111 0.21318342 0.21727123\n",
      " 0.20964636 0.20084533 0.20705065 0.20761285 0.21169799 0.20893415\n",
      " 0.2155181  0.21726694 0.2132465  0.20967895 0.2072055  0.20717392]\n",
      "[0.3575586  0.41080848 0.45121251 0.49385397 0.55174021 0.60695171\n",
      " 0.65526323 0.72176493 0.78996065 0.84720759 0.89207456 0.94304326\n",
      " 0.99069606 1.02675909 1.06244192 1.09502675 1.12624841 1.15624265\n",
      " 1.18160712 1.20410739 1.2204215  1.2289629  1.24078456 1.25511298\n",
      " 1.26980047 1.28655952 1.29538768 1.30980513 1.32190027 1.33481434\n",
      " 1.34775779 1.35666622 1.37496711 1.38318104 1.38705252 1.3894184\n",
      " 1.40054048 1.40831194 1.41402965 1.42494307 1.42698582 1.43322773\n",
      " 1.43239718 1.43622531 1.44026815 1.44514374 1.45097804 1.44666155\n",
      " 1.45066239 1.45493451 1.44703889 1.44584734 1.44163199 1.4423031\n",
      " 1.43577487 1.43647928 1.43672259 1.43519015 1.4395082  1.44160326]\n"
     ]
    },
    {
     "data": {
      "image/png": "[encoded data removed]",
      "text/plain": [
       "<Figure size 576x288 with 1 Axes>"
      ]
     },
     "metadata": {
      "needs_background": "light"
     },
     "output_type": "display_data"
    },
    {
     "data": {
      "image/png": "[encoded data removed]",
      "text/plain": [
       "<Figure size 576x288 with 1 Axes>"
      ]
     },
     "metadata": {
      "needs_background": "light"
     },
     "output_type": "display_data"
    }
   ],
   "source": [
    "babj_cor_day=cor_caluate(babj_data,babj_re_data,60)\n",
    "babj_rmse_day=rmse_caluate(babj_data,babj_re_data,60)\n",
    "cor_acc(babj_cor_day)\n",
    "rmse_acc(babj_rmse_day)"
   ]
  },
  {
   "cell_type": "code",
   "execution_count": 17,
   "id": "d3bf1928",
   "metadata": {},
   "outputs": [
    {
     "name": "stdout",
     "output_type": "stream",
     "text": [
      "[0.98584806 0.98236441 0.97810265 0.97237174 0.96500943 0.95516534\n",
      " 0.94429451 0.93012667 0.91590492 0.9010918  0.88374637 0.86666154\n",
      " 0.85046869 0.83130826 0.80986285 0.78780933 0.76670502 0.74272338\n",
      " 0.72246057 0.7074742  0.6872687  0.67179193 0.65381112 0.63710421\n",
      " 0.61678171 0.59912873 0.58692024 0.57026075 0.55221132 0.53416583\n",
      " 0.52141073 0.51141233 0.49451146 0.4766443  0.46164896 0.44750286\n",
      " 0.43551201 0.41778731 0.40984472 0.39882336 0.38726    0.36881535\n",
      " 0.35676731 0.34847478 0.33437917 0.32530069]\n",
      "[0.2269848  0.25494816 0.28810211 0.32526458 0.368496   0.41846623\n",
      " 0.46404618 0.51884601 0.57012828 0.61725301 0.66456792 0.71047196\n",
      " 0.74955802 0.78584725 0.82804906 0.86860583 0.90216563 0.93925087\n",
      " 0.96754613 0.98782012 1.0068448  1.02488154 1.04833031 1.06540228\n",
      " 1.08494913 1.10137246 1.11623184 1.12829222 1.14632579 1.16879831\n",
      " 1.18352325 1.19394711 1.21169465 1.23348511 1.24184726 1.25485391\n",
      " 1.27002223 1.28529555 1.28969966 1.30059463 1.31291133 1.32380255\n",
      " 1.33288835 1.34104198 1.35463515 1.35824855]\n"
     ]
    },
    {
     "data": {
      "image/png": "[encoded data removed]",
      "text/plain": [
       "<Figure size 576x288 with 1 Axes>"
      ]
     },
     "metadata": {
      "needs_background": "light"
     },
     "output_type": "display_data"
    },
    {
     "data": {
      "image/png": "[encoded data removed]",
      "text/plain": [
       "<Figure size 576x288 with 1 Axes>"
      ]
     },
     "metadata": {
      "needs_background": "light"
     },
     "output_type": "display_data"
    }
   ],
   "source": [
    "ecmf_cor_day=cor_caluate(ecmf_data,ecmf_re_data,46)\n",
    "ecmf_rmse_day=rmse_caluate(ecmf_data,ecmf_re_data,46)\n",
    "cor_acc(ecmf_cor_day)\n",
    "rmse_acc(ecmf_rmse_day)"
   ]
  },
  {
   "cell_type": "code",
   "execution_count": null,
   "id": "9ef0cc9f",
   "metadata": {},
   "outputs": [],
   "source": []
  }
 ],
 "metadata": {
  "kernelspec": {
   "display_name": "Python 3 (ipykernel)",
   "language": "python",
   "name": "python3"
  },
  "language_info": {
   "codemirror_mode": {
    "name": "ipython",
    "version": 3
   },
   "file_extension": ".py",
   "mimetype": "text/x-python",
   "name": "python",
   "nbconvert_exporter": "python",
   "pygments_lexer": "ipython3",
   "version": "3.8.8"
  }
 },
 "nbformat": 4,
 "nbformat_minor": 5
}
